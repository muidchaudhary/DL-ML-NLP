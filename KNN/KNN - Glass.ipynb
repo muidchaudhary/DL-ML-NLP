{
 "cells": [
  {
   "cell_type": "markdown",
   "id": "c4c0439a",
   "metadata": {},
   "source": [
    "# Hello readers Muid here "
   ]
  },
  {
   "cell_type": "markdown",
   "id": "1cecbd25-5867-4995-ad17-73dfe285547d",
   "metadata": {},
   "source": [
    "we have to prepare a model for glass classification using KNN\n",
    "\n",
    "LET'S  START !"
   ]
  },
  {
   "cell_type": "markdown",
   "id": "603c0ac5",
   "metadata": {},
   "source": [
    "Data Description:\n",
    "\n",
    "RI : refractive index | Na: Sodium (unit measurement: weight percent in corresponding oxide, as are attributes 4-10) | Mg: Magnesium | AI: Aluminum | Si: Silicon | K:Potassium | Ca: Calcium | Ba: Barium | Fe: Iron\n",
    "\n",
    "Type: Type of glass: (class attribute)\n",
    "1 -- building_windows_float_processed\n",
    "2 --building_windows_non_float_processed\n",
    "3 --vehicle_windows_float_processed\n",
    "4 --vehicle_windows_non_float_processed (none in this database)\n",
    "5 --containers\n",
    "6 --tableware\n",
    "7 --headlamps"
   ]
  },
  {
   "cell_type": "code",
   "execution_count": 28,
   "id": "166390e8",
   "metadata": {},
   "outputs": [],
   "source": [
    "# Import Libraries\n",
    "\n",
    "import numpy as np\n",
    "import pandas as pd\n",
    "from scipy import stats\n",
    "import seaborn as sns\n",
    "import matplotlib.pyplot as plt\n",
    "import plotly.express as px\n",
    "import plotly.graph_objects as go\n",
    "from sklearn.neighbors import KNeighborsClassifier\n",
    "from sklearn.model_selection import train_test_split\n",
    "from sklearn.preprocessing import StandardScaler\n",
    "from sklearn.metrics import accuracy_score, confusion_matrix, classification_report\n",
    "import warnings"
   ]
  },
  {
   "cell_type": "markdown",
   "id": "e04e5d7d",
   "metadata": {},
   "source": [
    "--Suppress Warnings"
   ]
  },
  {
   "cell_type": "code",
   "execution_count": 29,
   "id": "0bf8dfaa-2433-4eff-a906-bbd800ff8b09",
   "metadata": {},
   "outputs": [],
   "source": [
    "warnings.filterwarnings('ignore')"
   ]
  },
  {
   "cell_type": "markdown",
   "id": "9b77065a",
   "metadata": {},
   "source": [
    "--Loading Dataset"
   ]
  },
  {
   "cell_type": "code",
   "execution_count": 30,
   "id": "0f553075-bb3f-4d74-b8cc-20679bb58f37",
   "metadata": {},
   "outputs": [],
   "source": [
    "df = pd.read_csv('glass.csv')"
   ]
  },
  {
   "cell_type": "markdown",
   "id": "3b837036-d16f-46d1-bec5-803335c7b3c0",
   "metadata": {},
   "source": [
    "### EDA"
   ]
  },
  {
   "cell_type": "code",
   "execution_count": 31,
   "id": "1f3b57a8-38d1-4aad-8ec9-7f3a2fbe154c",
   "metadata": {},
   "outputs": [
    {
     "data": {
      "text/html": [
       "<div>\n",
       "<style scoped>\n",
       "    .dataframe tbody tr th:only-of-type {\n",
       "        vertical-align: middle;\n",
       "    }\n",
       "\n",
       "    .dataframe tbody tr th {\n",
       "        vertical-align: top;\n",
       "    }\n",
       "\n",
       "    .dataframe thead th {\n",
       "        text-align: right;\n",
       "    }\n",
       "</style>\n",
       "<table border=\"1\" class=\"dataframe\">\n",
       "  <thead>\n",
       "    <tr style=\"text-align: right;\">\n",
       "      <th></th>\n",
       "      <th>RI</th>\n",
       "      <th>Na</th>\n",
       "      <th>Mg</th>\n",
       "      <th>Al</th>\n",
       "      <th>Si</th>\n",
       "      <th>K</th>\n",
       "      <th>Ca</th>\n",
       "      <th>Ba</th>\n",
       "      <th>Fe</th>\n",
       "      <th>Type</th>\n",
       "    </tr>\n",
       "  </thead>\n",
       "  <tbody>\n",
       "    <tr>\n",
       "      <th>0</th>\n",
       "      <td>1.52101</td>\n",
       "      <td>13.64</td>\n",
       "      <td>4.49</td>\n",
       "      <td>1.10</td>\n",
       "      <td>71.78</td>\n",
       "      <td>0.06</td>\n",
       "      <td>8.75</td>\n",
       "      <td>0.0</td>\n",
       "      <td>0.0</td>\n",
       "      <td>1</td>\n",
       "    </tr>\n",
       "    <tr>\n",
       "      <th>1</th>\n",
       "      <td>1.51761</td>\n",
       "      <td>13.89</td>\n",
       "      <td>3.60</td>\n",
       "      <td>1.36</td>\n",
       "      <td>72.73</td>\n",
       "      <td>0.48</td>\n",
       "      <td>7.83</td>\n",
       "      <td>0.0</td>\n",
       "      <td>0.0</td>\n",
       "      <td>1</td>\n",
       "    </tr>\n",
       "    <tr>\n",
       "      <th>2</th>\n",
       "      <td>1.51618</td>\n",
       "      <td>13.53</td>\n",
       "      <td>3.55</td>\n",
       "      <td>1.54</td>\n",
       "      <td>72.99</td>\n",
       "      <td>0.39</td>\n",
       "      <td>7.78</td>\n",
       "      <td>0.0</td>\n",
       "      <td>0.0</td>\n",
       "      <td>1</td>\n",
       "    </tr>\n",
       "    <tr>\n",
       "      <th>3</th>\n",
       "      <td>1.51766</td>\n",
       "      <td>13.21</td>\n",
       "      <td>3.69</td>\n",
       "      <td>1.29</td>\n",
       "      <td>72.61</td>\n",
       "      <td>0.57</td>\n",
       "      <td>8.22</td>\n",
       "      <td>0.0</td>\n",
       "      <td>0.0</td>\n",
       "      <td>1</td>\n",
       "    </tr>\n",
       "    <tr>\n",
       "      <th>4</th>\n",
       "      <td>1.51742</td>\n",
       "      <td>13.27</td>\n",
       "      <td>3.62</td>\n",
       "      <td>1.24</td>\n",
       "      <td>73.08</td>\n",
       "      <td>0.55</td>\n",
       "      <td>8.07</td>\n",
       "      <td>0.0</td>\n",
       "      <td>0.0</td>\n",
       "      <td>1</td>\n",
       "    </tr>\n",
       "  </tbody>\n",
       "</table>\n",
       "</div>"
      ],
      "text/plain": [
       "        RI     Na    Mg    Al     Si     K    Ca   Ba   Fe  Type\n",
       "0  1.52101  13.64  4.49  1.10  71.78  0.06  8.75  0.0  0.0     1\n",
       "1  1.51761  13.89  3.60  1.36  72.73  0.48  7.83  0.0  0.0     1\n",
       "2  1.51618  13.53  3.55  1.54  72.99  0.39  7.78  0.0  0.0     1\n",
       "3  1.51766  13.21  3.69  1.29  72.61  0.57  8.22  0.0  0.0     1\n",
       "4  1.51742  13.27  3.62  1.24  73.08  0.55  8.07  0.0  0.0     1"
      ]
     },
     "execution_count": 31,
     "metadata": {},
     "output_type": "execute_result"
    }
   ],
   "source": [
    "# Display the top few rows of the DataFrame\n",
    "df.head()"
   ]
  },
  {
   "cell_type": "code",
   "execution_count": 32,
   "id": "a0f94e25-cad2-413e-9224-0916ea393c8e",
   "metadata": {},
   "outputs": [
    {
     "data": {
      "text/html": [
       "<div>\n",
       "<style scoped>\n",
       "    .dataframe tbody tr th:only-of-type {\n",
       "        vertical-align: middle;\n",
       "    }\n",
       "\n",
       "    .dataframe tbody tr th {\n",
       "        vertical-align: top;\n",
       "    }\n",
       "\n",
       "    .dataframe thead th {\n",
       "        text-align: right;\n",
       "    }\n",
       "</style>\n",
       "<table border=\"1\" class=\"dataframe\">\n",
       "  <thead>\n",
       "    <tr style=\"text-align: right;\">\n",
       "      <th></th>\n",
       "      <th>RI</th>\n",
       "      <th>Na</th>\n",
       "      <th>Mg</th>\n",
       "      <th>Al</th>\n",
       "      <th>Si</th>\n",
       "      <th>K</th>\n",
       "      <th>Ca</th>\n",
       "      <th>Ba</th>\n",
       "      <th>Fe</th>\n",
       "      <th>Type</th>\n",
       "    </tr>\n",
       "  </thead>\n",
       "  <tbody>\n",
       "    <tr>\n",
       "      <th>209</th>\n",
       "      <td>1.51623</td>\n",
       "      <td>14.14</td>\n",
       "      <td>0.0</td>\n",
       "      <td>2.88</td>\n",
       "      <td>72.61</td>\n",
       "      <td>0.08</td>\n",
       "      <td>9.18</td>\n",
       "      <td>1.06</td>\n",
       "      <td>0.0</td>\n",
       "      <td>7</td>\n",
       "    </tr>\n",
       "    <tr>\n",
       "      <th>210</th>\n",
       "      <td>1.51685</td>\n",
       "      <td>14.92</td>\n",
       "      <td>0.0</td>\n",
       "      <td>1.99</td>\n",
       "      <td>73.06</td>\n",
       "      <td>0.00</td>\n",
       "      <td>8.40</td>\n",
       "      <td>1.59</td>\n",
       "      <td>0.0</td>\n",
       "      <td>7</td>\n",
       "    </tr>\n",
       "    <tr>\n",
       "      <th>211</th>\n",
       "      <td>1.52065</td>\n",
       "      <td>14.36</td>\n",
       "      <td>0.0</td>\n",
       "      <td>2.02</td>\n",
       "      <td>73.42</td>\n",
       "      <td>0.00</td>\n",
       "      <td>8.44</td>\n",
       "      <td>1.64</td>\n",
       "      <td>0.0</td>\n",
       "      <td>7</td>\n",
       "    </tr>\n",
       "    <tr>\n",
       "      <th>212</th>\n",
       "      <td>1.51651</td>\n",
       "      <td>14.38</td>\n",
       "      <td>0.0</td>\n",
       "      <td>1.94</td>\n",
       "      <td>73.61</td>\n",
       "      <td>0.00</td>\n",
       "      <td>8.48</td>\n",
       "      <td>1.57</td>\n",
       "      <td>0.0</td>\n",
       "      <td>7</td>\n",
       "    </tr>\n",
       "    <tr>\n",
       "      <th>213</th>\n",
       "      <td>1.51711</td>\n",
       "      <td>14.23</td>\n",
       "      <td>0.0</td>\n",
       "      <td>2.08</td>\n",
       "      <td>73.36</td>\n",
       "      <td>0.00</td>\n",
       "      <td>8.62</td>\n",
       "      <td>1.67</td>\n",
       "      <td>0.0</td>\n",
       "      <td>7</td>\n",
       "    </tr>\n",
       "  </tbody>\n",
       "</table>\n",
       "</div>"
      ],
      "text/plain": [
       "          RI     Na   Mg    Al     Si     K    Ca    Ba   Fe  Type\n",
       "209  1.51623  14.14  0.0  2.88  72.61  0.08  9.18  1.06  0.0     7\n",
       "210  1.51685  14.92  0.0  1.99  73.06  0.00  8.40  1.59  0.0     7\n",
       "211  1.52065  14.36  0.0  2.02  73.42  0.00  8.44  1.64  0.0     7\n",
       "212  1.51651  14.38  0.0  1.94  73.61  0.00  8.48  1.57  0.0     7\n",
       "213  1.51711  14.23  0.0  2.08  73.36  0.00  8.62  1.67  0.0     7"
      ]
     },
     "execution_count": 32,
     "metadata": {},
     "output_type": "execute_result"
    }
   ],
   "source": [
    "# Display the bottom few rows of the DataFrame\n",
    "df.tail()"
   ]
  },
  {
   "cell_type": "code",
   "execution_count": 33,
   "id": "cf27c76c-d562-414b-80eb-090a17bafe41",
   "metadata": {},
   "outputs": [
    {
     "name": "stdout",
     "output_type": "stream",
     "text": [
      "<class 'pandas.core.frame.DataFrame'>\n",
      "RangeIndex: 214 entries, 0 to 213\n",
      "Data columns (total 10 columns):\n",
      " #   Column  Non-Null Count  Dtype  \n",
      "---  ------  --------------  -----  \n",
      " 0   RI      214 non-null    float64\n",
      " 1   Na      214 non-null    float64\n",
      " 2   Mg      214 non-null    float64\n",
      " 3   Al      214 non-null    float64\n",
      " 4   Si      214 non-null    float64\n",
      " 5   K       214 non-null    float64\n",
      " 6   Ca      214 non-null    float64\n",
      " 7   Ba      214 non-null    float64\n",
      " 8   Fe      214 non-null    float64\n",
      " 9   Type    214 non-null    int64  \n",
      "dtypes: float64(9), int64(1)\n",
      "memory usage: 16.8 KB\n"
     ]
    }
   ],
   "source": [
    "# Display information about the DataFrame\n",
    "df.info()"
   ]
  },
  {
   "cell_type": "markdown",
   "id": "b8ebcbf5-f920-450d-944c-5cc491e63316",
   "metadata": {},
   "source": [
    "The dataset has 214 entries with 10 columns. All columns contain non-null values, and there are no missing data. \n",
    "\n",
    "The features are represented as float64, except for the target variable 'Type,' which is an int64."
   ]
  },
  {
   "cell_type": "code",
   "execution_count": 34,
   "id": "6958fc6e-2904-46f5-a1d6-4c8d6a8ceeeb",
   "metadata": {},
   "outputs": [
    {
     "data": {
      "text/html": [
       "<div>\n",
       "<style scoped>\n",
       "    .dataframe tbody tr th:only-of-type {\n",
       "        vertical-align: middle;\n",
       "    }\n",
       "\n",
       "    .dataframe tbody tr th {\n",
       "        vertical-align: top;\n",
       "    }\n",
       "\n",
       "    .dataframe thead th {\n",
       "        text-align: right;\n",
       "    }\n",
       "</style>\n",
       "<table border=\"1\" class=\"dataframe\">\n",
       "  <thead>\n",
       "    <tr style=\"text-align: right;\">\n",
       "      <th></th>\n",
       "      <th>RI</th>\n",
       "      <th>Na</th>\n",
       "      <th>Mg</th>\n",
       "      <th>Al</th>\n",
       "      <th>Si</th>\n",
       "      <th>K</th>\n",
       "      <th>Ca</th>\n",
       "      <th>Ba</th>\n",
       "      <th>Fe</th>\n",
       "      <th>Type</th>\n",
       "    </tr>\n",
       "  </thead>\n",
       "  <tbody>\n",
       "    <tr>\n",
       "      <th>count</th>\n",
       "      <td>214.000000</td>\n",
       "      <td>214.000000</td>\n",
       "      <td>214.000000</td>\n",
       "      <td>214.000000</td>\n",
       "      <td>214.000000</td>\n",
       "      <td>214.000000</td>\n",
       "      <td>214.000000</td>\n",
       "      <td>214.000000</td>\n",
       "      <td>214.000000</td>\n",
       "      <td>214.000000</td>\n",
       "    </tr>\n",
       "    <tr>\n",
       "      <th>mean</th>\n",
       "      <td>1.518365</td>\n",
       "      <td>13.407850</td>\n",
       "      <td>2.684533</td>\n",
       "      <td>1.444907</td>\n",
       "      <td>72.650935</td>\n",
       "      <td>0.497056</td>\n",
       "      <td>8.956963</td>\n",
       "      <td>0.175047</td>\n",
       "      <td>0.057009</td>\n",
       "      <td>2.780374</td>\n",
       "    </tr>\n",
       "    <tr>\n",
       "      <th>std</th>\n",
       "      <td>0.003037</td>\n",
       "      <td>0.816604</td>\n",
       "      <td>1.442408</td>\n",
       "      <td>0.499270</td>\n",
       "      <td>0.774546</td>\n",
       "      <td>0.652192</td>\n",
       "      <td>1.423153</td>\n",
       "      <td>0.497219</td>\n",
       "      <td>0.097439</td>\n",
       "      <td>2.103739</td>\n",
       "    </tr>\n",
       "    <tr>\n",
       "      <th>min</th>\n",
       "      <td>1.511150</td>\n",
       "      <td>10.730000</td>\n",
       "      <td>0.000000</td>\n",
       "      <td>0.290000</td>\n",
       "      <td>69.810000</td>\n",
       "      <td>0.000000</td>\n",
       "      <td>5.430000</td>\n",
       "      <td>0.000000</td>\n",
       "      <td>0.000000</td>\n",
       "      <td>1.000000</td>\n",
       "    </tr>\n",
       "    <tr>\n",
       "      <th>25%</th>\n",
       "      <td>1.516522</td>\n",
       "      <td>12.907500</td>\n",
       "      <td>2.115000</td>\n",
       "      <td>1.190000</td>\n",
       "      <td>72.280000</td>\n",
       "      <td>0.122500</td>\n",
       "      <td>8.240000</td>\n",
       "      <td>0.000000</td>\n",
       "      <td>0.000000</td>\n",
       "      <td>1.000000</td>\n",
       "    </tr>\n",
       "    <tr>\n",
       "      <th>50%</th>\n",
       "      <td>1.517680</td>\n",
       "      <td>13.300000</td>\n",
       "      <td>3.480000</td>\n",
       "      <td>1.360000</td>\n",
       "      <td>72.790000</td>\n",
       "      <td>0.555000</td>\n",
       "      <td>8.600000</td>\n",
       "      <td>0.000000</td>\n",
       "      <td>0.000000</td>\n",
       "      <td>2.000000</td>\n",
       "    </tr>\n",
       "    <tr>\n",
       "      <th>75%</th>\n",
       "      <td>1.519157</td>\n",
       "      <td>13.825000</td>\n",
       "      <td>3.600000</td>\n",
       "      <td>1.630000</td>\n",
       "      <td>73.087500</td>\n",
       "      <td>0.610000</td>\n",
       "      <td>9.172500</td>\n",
       "      <td>0.000000</td>\n",
       "      <td>0.100000</td>\n",
       "      <td>3.000000</td>\n",
       "    </tr>\n",
       "    <tr>\n",
       "      <th>max</th>\n",
       "      <td>1.533930</td>\n",
       "      <td>17.380000</td>\n",
       "      <td>4.490000</td>\n",
       "      <td>3.500000</td>\n",
       "      <td>75.410000</td>\n",
       "      <td>6.210000</td>\n",
       "      <td>16.190000</td>\n",
       "      <td>3.150000</td>\n",
       "      <td>0.510000</td>\n",
       "      <td>7.000000</td>\n",
       "    </tr>\n",
       "  </tbody>\n",
       "</table>\n",
       "</div>"
      ],
      "text/plain": [
       "               RI          Na          Mg          Al          Si           K  \\\n",
       "count  214.000000  214.000000  214.000000  214.000000  214.000000  214.000000   \n",
       "mean     1.518365   13.407850    2.684533    1.444907   72.650935    0.497056   \n",
       "std      0.003037    0.816604    1.442408    0.499270    0.774546    0.652192   \n",
       "min      1.511150   10.730000    0.000000    0.290000   69.810000    0.000000   \n",
       "25%      1.516522   12.907500    2.115000    1.190000   72.280000    0.122500   \n",
       "50%      1.517680   13.300000    3.480000    1.360000   72.790000    0.555000   \n",
       "75%      1.519157   13.825000    3.600000    1.630000   73.087500    0.610000   \n",
       "max      1.533930   17.380000    4.490000    3.500000   75.410000    6.210000   \n",
       "\n",
       "               Ca          Ba          Fe        Type  \n",
       "count  214.000000  214.000000  214.000000  214.000000  \n",
       "mean     8.956963    0.175047    0.057009    2.780374  \n",
       "std      1.423153    0.497219    0.097439    2.103739  \n",
       "min      5.430000    0.000000    0.000000    1.000000  \n",
       "25%      8.240000    0.000000    0.000000    1.000000  \n",
       "50%      8.600000    0.000000    0.000000    2.000000  \n",
       "75%      9.172500    0.000000    0.100000    3.000000  \n",
       "max     16.190000    3.150000    0.510000    7.000000  "
      ]
     },
     "execution_count": 34,
     "metadata": {},
     "output_type": "execute_result"
    }
   ],
   "source": [
    "# Display the summary statistics\n",
    "df.describe()"
   ]
  },
  {
   "cell_type": "markdown",
   "id": "b49bc30b-767c-4857-8a0d-9d956f78bed0",
   "metadata": {},
   "source": [
    "The dataset consists of 214 entries with no missing values. \n",
    "\n",
    "Key statistics reveal variations and central tendencies in features such as refractive index, sodium, magnesium, aluminum, silicon, potassium, calcium, barium, iron, and the target variable 'Type.' \n",
    "\n",
    "The range of values, standard deviations, and percentiles provides insights into the distribution and characteristics of each feature."
   ]
  },
  {
   "cell_type": "code",
   "execution_count": 51,
   "id": "d95e25df-6358-415b-81f1-aa7a910e7fa8",
   "metadata": {},
   "outputs": [
    {
     "data": {
      "application/vnd.plotly.v1+json": {
       "config": {
        "plotlyServerURL": "https://plot.ly"
       },
       "data": [
        {
         "alignmentgroup": "True",
         "bingroup": "x",
         "hovertemplate": "variable=RI<br>value=%{x}<br>count=%{y}<extra></extra>",
         "legendgroup": "RI",
         "marker": {
          "color": "#636efa",
          "pattern": {
           "shape": ""
          }
         },
         "name": "RI",
         "offsetgroup": "RI",
         "orientation": "v",
         "showlegend": true,
         "type": "histogram",
         "x": [
          1.52101,
          1.51761,
          1.51618,
          1.51766,
          1.51742,
          1.51743,
          1.51756,
          1.51918,
          1.51755,
          1.51571,
          1.51763,
          1.51589,
          1.51748,
          1.51763,
          1.51761,
          1.51784,
          1.52196,
          1.51911,
          1.51735,
          1.5175,
          1.51736,
          1.51751,
          1.5172,
          1.51764,
          1.51793,
          1.51721,
          1.51768,
          1.51784,
          1.51768,
          1.51747,
          1.51753,
          1.51783,
          1.51567,
          1.51797,
          1.51793,
          1.51755,
          1.51779,
          1.5221,
          1.519,
          1.51869,
          1.52223,
          1.51898,
          1.51926,
          1.51808,
          1.51837,
          1.51778,
          1.51769,
          1.51824,
          1.51754,
          1.51754,
          1.51905,
          1.52172,
          1.52227,
          1.52172,
          1.52099,
          1.52152,
          1.52152,
          1.52152,
          1.523,
          1.51574,
          1.51593,
          1.51631,
          1.51596,
          1.5159,
          1.51645,
          1.51627,
          1.51613,
          1.5159,
          1.51592,
          1.51593,
          1.51646,
          1.51594,
          1.51409,
          1.51625,
          1.51569,
          1.51645,
          1.51618,
          1.5164,
          1.51841,
          1.51605,
          1.51588,
          1.5159,
          1.51629,
          1.5186,
          1.51841,
          1.51743,
          1.51689,
          1.5173,
          1.5182,
          1.51892,
          1.51847,
          1.51846,
          1.51829,
          1.51708,
          1.51652,
          1.51844,
          1.51663,
          1.51687,
          1.51707,
          1.52177,
          1.51872,
          1.51667,
          1.52081,
          1.5202,
          1.51813,
          1.518,
          1.51811,
          1.51806,
          1.51711,
          1.51674,
          1.51674,
          1.5169,
          1.51709,
          1.5166,
          1.51769,
          1.5161,
          1.5167,
          1.51643,
          1.51665,
          1.52127,
          1.51779,
          1.5161,
          1.51694,
          1.51646,
          1.51655,
          1.52121,
          1.51776,
          1.51796,
          1.51832,
          1.51915,
          1.51666,
          1.51905,
          1.51937,
          1.51829,
          1.51852,
          1.51888
         ],
         "xaxis": "x",
         "yaxis": "y"
        },
        {
         "alignmentgroup": "True",
         "hovertemplate": "variable=RI<br>value=%{x}<extra></extra>",
         "legendgroup": "RI",
         "marker": {
          "color": "#636efa"
         },
         "name": "RI",
         "notched": true,
         "offsetgroup": "RI",
         "showlegend": false,
         "type": "box",
         "x": [
          1.52101,
          1.51761,
          1.51618,
          1.51766,
          1.51742,
          1.51743,
          1.51756,
          1.51918,
          1.51755,
          1.51571,
          1.51763,
          1.51589,
          1.51748,
          1.51763,
          1.51761,
          1.51784,
          1.52196,
          1.51911,
          1.51735,
          1.5175,
          1.51736,
          1.51751,
          1.5172,
          1.51764,
          1.51793,
          1.51721,
          1.51768,
          1.51784,
          1.51768,
          1.51747,
          1.51753,
          1.51783,
          1.51567,
          1.51797,
          1.51793,
          1.51755,
          1.51779,
          1.5221,
          1.519,
          1.51869,
          1.52223,
          1.51898,
          1.51926,
          1.51808,
          1.51837,
          1.51778,
          1.51769,
          1.51824,
          1.51754,
          1.51754,
          1.51905,
          1.52172,
          1.52227,
          1.52172,
          1.52099,
          1.52152,
          1.52152,
          1.52152,
          1.523,
          1.51574,
          1.51593,
          1.51631,
          1.51596,
          1.5159,
          1.51645,
          1.51627,
          1.51613,
          1.5159,
          1.51592,
          1.51593,
          1.51646,
          1.51594,
          1.51409,
          1.51625,
          1.51569,
          1.51645,
          1.51618,
          1.5164,
          1.51841,
          1.51605,
          1.51588,
          1.5159,
          1.51629,
          1.5186,
          1.51841,
          1.51743,
          1.51689,
          1.5173,
          1.5182,
          1.51892,
          1.51847,
          1.51846,
          1.51829,
          1.51708,
          1.51652,
          1.51844,
          1.51663,
          1.51687,
          1.51707,
          1.52177,
          1.51872,
          1.51667,
          1.52081,
          1.5202,
          1.51813,
          1.518,
          1.51811,
          1.51806,
          1.51711,
          1.51674,
          1.51674,
          1.5169,
          1.51709,
          1.5166,
          1.51769,
          1.5161,
          1.5167,
          1.51643,
          1.51665,
          1.52127,
          1.51779,
          1.5161,
          1.51694,
          1.51646,
          1.51655,
          1.52121,
          1.51776,
          1.51796,
          1.51832,
          1.51915,
          1.51666,
          1.51905,
          1.51937,
          1.51829,
          1.51852,
          1.51888
         ],
         "xaxis": "x2",
         "yaxis": "y2"
        },
        {
         "alignmentgroup": "True",
         "bingroup": "x",
         "hovertemplate": "variable=Na<br>value=%{x}<br>count=%{y}<extra></extra>",
         "legendgroup": "Na",
         "marker": {
          "color": "#EF553B",
          "pattern": {
           "shape": ""
          }
         },
         "name": "Na",
         "offsetgroup": "Na",
         "orientation": "v",
         "showlegend": true,
         "type": "histogram",
         "x": [
          13.64,
          13.89,
          13.53,
          13.21,
          13.27,
          13.3,
          13.15,
          14.04,
          13,
          12.72,
          12.8,
          12.88,
          12.86,
          12.61,
          12.81,
          12.68,
          14.36,
          13.9,
          13.02,
          12.82,
          12.78,
          12.81,
          13.38,
          12.98,
          13.21,
          12.87,
          12.56,
          13.08,
          12.65,
          12.84,
          12.57,
          12.69,
          13.29,
          12.74,
          12.79,
          12.71,
          13.21,
          13.73,
          13.49,
          13.19,
          13.21,
          13.58,
          13.2,
          13.43,
          13.14,
          13.21,
          12.45,
          12.87,
          13.48,
          13.39,
          13.6,
          13.51,
          14.17,
          13.48,
          13.69,
          13.05,
          13.05,
          13.12,
          13.31,
          14.86,
          13.09,
          13.34,
          13.02,
          13.02,
          13.44,
          13,
          13.92,
          12.82,
          12.86,
          13.25,
          13.41,
          13.09,
          14.25,
          13.36,
          13.24,
          13.4,
          13.01,
          12.55,
          12.93,
          12.9,
          13.12,
          13.24,
          12.71,
          13.36,
          13.02,
          12.2,
          12.67,
          12.35,
          12.62,
          13.46,
          13.1,
          13.41,
          13.24,
          13.72,
          13.56,
          13.25,
          12.93,
          13.23,
          13.48,
          13.2,
          12.93,
          12.94,
          13.78,
          13.98,
          13.43,
          13.71,
          13.33,
          13,
          12.89,
          12.79,
          12.87,
          13.33,
          13,
          12.99,
          13.65,
          13.33,
          13.24,
          12.16,
          13.14,
          14.32,
          13.64,
          13.42,
          12.86,
          13.04,
          13.41,
          14.03,
          13.53,
          13.5,
          13.33,
          12.73,
          12.86,
          14,
          13.79,
          14.46,
          14.09,
          14.99
         ],
         "xaxis": "x",
         "yaxis": "y"
        },
        {
         "alignmentgroup": "True",
         "hovertemplate": "variable=Na<br>value=%{x}<extra></extra>",
         "legendgroup": "Na",
         "marker": {
          "color": "#EF553B"
         },
         "name": "Na",
         "notched": true,
         "offsetgroup": "Na",
         "showlegend": false,
         "type": "box",
         "x": [
          13.64,
          13.89,
          13.53,
          13.21,
          13.27,
          13.3,
          13.15,
          14.04,
          13,
          12.72,
          12.8,
          12.88,
          12.86,
          12.61,
          12.81,
          12.68,
          14.36,
          13.9,
          13.02,
          12.82,
          12.78,
          12.81,
          13.38,
          12.98,
          13.21,
          12.87,
          12.56,
          13.08,
          12.65,
          12.84,
          12.57,
          12.69,
          13.29,
          12.74,
          12.79,
          12.71,
          13.21,
          13.73,
          13.49,
          13.19,
          13.21,
          13.58,
          13.2,
          13.43,
          13.14,
          13.21,
          12.45,
          12.87,
          13.48,
          13.39,
          13.6,
          13.51,
          14.17,
          13.48,
          13.69,
          13.05,
          13.05,
          13.12,
          13.31,
          14.86,
          13.09,
          13.34,
          13.02,
          13.02,
          13.44,
          13,
          13.92,
          12.82,
          12.86,
          13.25,
          13.41,
          13.09,
          14.25,
          13.36,
          13.24,
          13.4,
          13.01,
          12.55,
          12.93,
          12.9,
          13.12,
          13.24,
          12.71,
          13.36,
          13.02,
          12.2,
          12.67,
          12.35,
          12.62,
          13.46,
          13.1,
          13.41,
          13.24,
          13.72,
          13.56,
          13.25,
          12.93,
          13.23,
          13.48,
          13.2,
          12.93,
          12.94,
          13.78,
          13.98,
          13.43,
          13.71,
          13.33,
          13,
          12.89,
          12.79,
          12.87,
          13.33,
          13,
          12.99,
          13.65,
          13.33,
          13.24,
          12.16,
          13.14,
          14.32,
          13.64,
          13.42,
          12.86,
          13.04,
          13.41,
          14.03,
          13.53,
          13.5,
          13.33,
          12.73,
          12.86,
          14,
          13.79,
          14.46,
          14.09,
          14.99
         ],
         "xaxis": "x2",
         "yaxis": "y2"
        },
        {
         "alignmentgroup": "True",
         "bingroup": "x",
         "hovertemplate": "variable=Mg<br>value=%{x}<br>count=%{y}<extra></extra>",
         "legendgroup": "Mg",
         "marker": {
          "color": "#00cc96",
          "pattern": {
           "shape": ""
          }
         },
         "name": "Mg",
         "offsetgroup": "Mg",
         "orientation": "v",
         "showlegend": true,
         "type": "histogram",
         "x": [
          4.49,
          3.6,
          3.55,
          3.69,
          3.62,
          3.6,
          3.61,
          3.58,
          3.6,
          3.46,
          3.66,
          3.43,
          3.56,
          3.59,
          3.54,
          3.67,
          3.85,
          3.73,
          3.54,
          3.55,
          3.62,
          3.57,
          3.5,
          3.54,
          3.48,
          3.48,
          3.52,
          3.49,
          3.56,
          3.5,
          3.47,
          3.54,
          3.45,
          3.48,
          3.5,
          3.42,
          3.39,
          3.84,
          3.48,
          3.37,
          3.77,
          3.35,
          3.33,
          2.87,
          2.84,
          2.81,
          2.71,
          3.48,
          3.74,
          3.66,
          3.62,
          3.86,
          3.81,
          3.74,
          3.59,
          3.65,
          3.65,
          3.58,
          3.58,
          3.67,
          3.59,
          3.57,
          3.56,
          3.58,
          3.61,
          3.58,
          3.52,
          3.52,
          3.52,
          3.45,
          3.55,
          3.52,
          3.09,
          3.58,
          3.49,
          3.49,
          3.5,
          3.48,
          3.74,
          3.44,
          3.41,
          3.34,
          3.33,
          3.43,
          3.62,
          3.25,
          2.88,
          2.72,
          2.76,
          3.83,
          3.97,
          3.89,
          3.9,
          3.68,
          3.57,
          3.76,
          3.54,
          3.54,
          3.48,
          3.68,
          3.66,
          3.61,
          2.28,
          1.35,
          3.98,
          3.93,
          3.85,
          3.8,
          3.62,
          3.52,
          3.56,
          3.54,
          3.47,
          3.18,
          3.66,
          3.53,
          3.57,
          3.52,
          3.45,
          3.9,
          3.65,
          3.4,
          3.58,
          3.4,
          3.39,
          3.76,
          3.41,
          3.36,
          3.34,
          1.85,
          0,
          2.39,
          2.41,
          2.24,
          2.19,
          0.78
         ],
         "xaxis": "x",
         "yaxis": "y"
        },
        {
         "alignmentgroup": "True",
         "hovertemplate": "variable=Mg<br>value=%{x}<extra></extra>",
         "legendgroup": "Mg",
         "marker": {
          "color": "#00cc96"
         },
         "name": "Mg",
         "notched": true,
         "offsetgroup": "Mg",
         "showlegend": false,
         "type": "box",
         "x": [
          4.49,
          3.6,
          3.55,
          3.69,
          3.62,
          3.6,
          3.61,
          3.58,
          3.6,
          3.46,
          3.66,
          3.43,
          3.56,
          3.59,
          3.54,
          3.67,
          3.85,
          3.73,
          3.54,
          3.55,
          3.62,
          3.57,
          3.5,
          3.54,
          3.48,
          3.48,
          3.52,
          3.49,
          3.56,
          3.5,
          3.47,
          3.54,
          3.45,
          3.48,
          3.5,
          3.42,
          3.39,
          3.84,
          3.48,
          3.37,
          3.77,
          3.35,
          3.33,
          2.87,
          2.84,
          2.81,
          2.71,
          3.48,
          3.74,
          3.66,
          3.62,
          3.86,
          3.81,
          3.74,
          3.59,
          3.65,
          3.65,
          3.58,
          3.58,
          3.67,
          3.59,
          3.57,
          3.56,
          3.58,
          3.61,
          3.58,
          3.52,
          3.52,
          3.52,
          3.45,
          3.55,
          3.52,
          3.09,
          3.58,
          3.49,
          3.49,
          3.5,
          3.48,
          3.74,
          3.44,
          3.41,
          3.34,
          3.33,
          3.43,
          3.62,
          3.25,
          2.88,
          2.72,
          2.76,
          3.83,
          3.97,
          3.89,
          3.9,
          3.68,
          3.57,
          3.76,
          3.54,
          3.54,
          3.48,
          3.68,
          3.66,
          3.61,
          2.28,
          1.35,
          3.98,
          3.93,
          3.85,
          3.8,
          3.62,
          3.52,
          3.56,
          3.54,
          3.47,
          3.18,
          3.66,
          3.53,
          3.57,
          3.52,
          3.45,
          3.9,
          3.65,
          3.4,
          3.58,
          3.4,
          3.39,
          3.76,
          3.41,
          3.36,
          3.34,
          1.85,
          0,
          2.39,
          2.41,
          2.24,
          2.19,
          0.78
         ],
         "xaxis": "x2",
         "yaxis": "y2"
        },
        {
         "alignmentgroup": "True",
         "bingroup": "x",
         "hovertemplate": "variable=Al<br>value=%{x}<br>count=%{y}<extra></extra>",
         "legendgroup": "Al",
         "marker": {
          "color": "#ab63fa",
          "pattern": {
           "shape": ""
          }
         },
         "name": "Al",
         "offsetgroup": "Al",
         "orientation": "v",
         "showlegend": true,
         "type": "histogram",
         "x": [
          1.1,
          1.36,
          1.54,
          1.29,
          1.24,
          1.14,
          1.05,
          1.37,
          1.36,
          1.56,
          1.27,
          1.4,
          1.27,
          1.31,
          1.23,
          1.16,
          0.89,
          1.18,
          1.69,
          1.49,
          1.29,
          1.35,
          1.15,
          1.21,
          1.41,
          1.33,
          1.43,
          1.28,
          1.3,
          1.14,
          1.38,
          1.34,
          1.21,
          1.35,
          1.12,
          1.2,
          1.33,
          0.72,
          1.35,
          1.18,
          0.79,
          1.23,
          1.28,
          1.19,
          1.28,
          1.29,
          1.29,
          1.29,
          1.17,
          1.19,
          1.11,
          0.88,
          0.78,
          0.9,
          1.12,
          0.87,
          0.87,
          0.9,
          0.82,
          1.74,
          1.52,
          1.57,
          1.54,
          1.51,
          1.54,
          1.54,
          1.25,
          1.9,
          2.12,
          1.43,
          1.25,
          1.55,
          2.08,
          1.49,
          1.47,
          1.52,
          1.48,
          1.87,
          1.11,
          1.45,
          1.58,
          1.47,
          1.49,
          1.43,
          1.06,
          1.16,
          1.71,
          1.63,
          0.83,
          1.26,
          1.19,
          1.33,
          1.41,
          1.81,
          1.47,
          1.32,
          1.62,
          1.48,
          1.71,
          1.15,
          1.56,
          1.26,
          1.43,
          1.63,
          1.18,
          1.54,
          1.25,
          1.08,
          1.57,
          1.54,
          1.64,
          1.61,
          1.79,
          1.23,
          1.11,
          1.34,
          1.38,
          1.35,
          1.76,
          0.83,
          0.65,
          1.22,
          1.31,
          1.26,
          1.28,
          0.58,
          1.52,
          1.63,
          1.54,
          1.86,
          1.83,
          1.56,
          1.19,
          1.62,
          1.66,
          1.74
         ],
         "xaxis": "x",
         "yaxis": "y"
        },
        {
         "alignmentgroup": "True",
         "hovertemplate": "variable=Al<br>value=%{x}<extra></extra>",
         "legendgroup": "Al",
         "marker": {
          "color": "#ab63fa"
         },
         "name": "Al",
         "notched": true,
         "offsetgroup": "Al",
         "showlegend": false,
         "type": "box",
         "x": [
          1.1,
          1.36,
          1.54,
          1.29,
          1.24,
          1.14,
          1.05,
          1.37,
          1.36,
          1.56,
          1.27,
          1.4,
          1.27,
          1.31,
          1.23,
          1.16,
          0.89,
          1.18,
          1.69,
          1.49,
          1.29,
          1.35,
          1.15,
          1.21,
          1.41,
          1.33,
          1.43,
          1.28,
          1.3,
          1.14,
          1.38,
          1.34,
          1.21,
          1.35,
          1.12,
          1.2,
          1.33,
          0.72,
          1.35,
          1.18,
          0.79,
          1.23,
          1.28,
          1.19,
          1.28,
          1.29,
          1.29,
          1.29,
          1.17,
          1.19,
          1.11,
          0.88,
          0.78,
          0.9,
          1.12,
          0.87,
          0.87,
          0.9,
          0.82,
          1.74,
          1.52,
          1.57,
          1.54,
          1.51,
          1.54,
          1.54,
          1.25,
          1.9,
          2.12,
          1.43,
          1.25,
          1.55,
          2.08,
          1.49,
          1.47,
          1.52,
          1.48,
          1.87,
          1.11,
          1.45,
          1.58,
          1.47,
          1.49,
          1.43,
          1.06,
          1.16,
          1.71,
          1.63,
          0.83,
          1.26,
          1.19,
          1.33,
          1.41,
          1.81,
          1.47,
          1.32,
          1.62,
          1.48,
          1.71,
          1.15,
          1.56,
          1.26,
          1.43,
          1.63,
          1.18,
          1.54,
          1.25,
          1.08,
          1.57,
          1.54,
          1.64,
          1.61,
          1.79,
          1.23,
          1.11,
          1.34,
          1.38,
          1.35,
          1.76,
          0.83,
          0.65,
          1.22,
          1.31,
          1.26,
          1.28,
          0.58,
          1.52,
          1.63,
          1.54,
          1.86,
          1.83,
          1.56,
          1.19,
          1.62,
          1.66,
          1.74
         ],
         "xaxis": "x2",
         "yaxis": "y2"
        },
        {
         "alignmentgroup": "True",
         "bingroup": "x",
         "hovertemplate": "variable=Si<br>value=%{x}<br>count=%{y}<extra></extra>",
         "legendgroup": "Si",
         "marker": {
          "color": "#FFA15A",
          "pattern": {
           "shape": ""
          }
         },
         "name": "Si",
         "offsetgroup": "Si",
         "orientation": "v",
         "showlegend": true,
         "type": "histogram",
         "x": [
          71.78,
          72.73,
          72.99,
          72.61,
          73.08,
          73.09,
          73.24,
          72.08,
          72.99,
          73.2,
          73.01,
          73.28,
          73.21,
          73.29,
          73.24,
          73.11,
          71.36,
          72.12,
          72.73,
          72.75,
          72.79,
          73.02,
          72.85,
          73,
          72.64,
          73.04,
          73.15,
          72.86,
          73.08,
          73.27,
          73.39,
          72.95,
          72.74,
          72.96,
          73.03,
          73.2,
          72.76,
          71.76,
          71.95,
          72.72,
          71.99,
          72.08,
          72.36,
          72.84,
          72.85,
          72.98,
          73.7,
          72.95,
          72.99,
          72.79,
          72.64,
          71.79,
          71.35,
          72.01,
          71.96,
          72.22,
          72.32,
          72.2,
          71.99,
          71.87,
          73.1,
          72.87,
          73.11,
          73.12,
          72.39,
          72.83,
          72.88,
          72.86,
          72.66,
          73.17,
          72.81,
          72.87,
          72.28,
          72.72,
          73.25,
          72.65,
          72.89,
          73.23,
          72.28,
          73.06,
          73.26,
          73.1,
          73.28,
          72.26,
          72.34,
          73.55,
          73.21,
          72.87,
          73.81,
          72.55,
          72.44,
          72.38,
          72.33,
          72.06,
          72.45,
          72.4,
          72.96,
          72.84,
          72.52,
          72.75,
          72.51,
          72.75,
          71.99,
          71.76,
          72.49,
          71.81,
          72.78,
          73.07,
          72.96,
          73.36,
          73.14,
          72.54,
          72.72,
          72.97,
          72.77,
          72.67,
          72.7,
          72.89,
          72.48,
          71.5,
          73,
          72.69,
          72.61,
          73.01,
          72.64,
          71.79,
          72.04,
          71.94,
          72.14,
          72.69,
          73.88,
          72.37,
          72.76,
          72.38,
          72.67,
          72.5
         ],
         "xaxis": "x",
         "yaxis": "y"
        },
        {
         "alignmentgroup": "True",
         "hovertemplate": "variable=Si<br>value=%{x}<extra></extra>",
         "legendgroup": "Si",
         "marker": {
          "color": "#FFA15A"
         },
         "name": "Si",
         "notched": true,
         "offsetgroup": "Si",
         "showlegend": false,
         "type": "box",
         "x": [
          71.78,
          72.73,
          72.99,
          72.61,
          73.08,
          73.09,
          73.24,
          72.08,
          72.99,
          73.2,
          73.01,
          73.28,
          73.21,
          73.29,
          73.24,
          73.11,
          71.36,
          72.12,
          72.73,
          72.75,
          72.79,
          73.02,
          72.85,
          73,
          72.64,
          73.04,
          73.15,
          72.86,
          73.08,
          73.27,
          73.39,
          72.95,
          72.74,
          72.96,
          73.03,
          73.2,
          72.76,
          71.76,
          71.95,
          72.72,
          71.99,
          72.08,
          72.36,
          72.84,
          72.85,
          72.98,
          73.7,
          72.95,
          72.99,
          72.79,
          72.64,
          71.79,
          71.35,
          72.01,
          71.96,
          72.22,
          72.32,
          72.2,
          71.99,
          71.87,
          73.1,
          72.87,
          73.11,
          73.12,
          72.39,
          72.83,
          72.88,
          72.86,
          72.66,
          73.17,
          72.81,
          72.87,
          72.28,
          72.72,
          73.25,
          72.65,
          72.89,
          73.23,
          72.28,
          73.06,
          73.26,
          73.1,
          73.28,
          72.26,
          72.34,
          73.55,
          73.21,
          72.87,
          73.81,
          72.55,
          72.44,
          72.38,
          72.33,
          72.06,
          72.45,
          72.4,
          72.96,
          72.84,
          72.52,
          72.75,
          72.51,
          72.75,
          71.99,
          71.76,
          72.49,
          71.81,
          72.78,
          73.07,
          72.96,
          73.36,
          73.14,
          72.54,
          72.72,
          72.97,
          72.77,
          72.67,
          72.7,
          72.89,
          72.48,
          71.5,
          73,
          72.69,
          72.61,
          73.01,
          72.64,
          71.79,
          72.04,
          71.94,
          72.14,
          72.69,
          73.88,
          72.37,
          72.76,
          72.38,
          72.67,
          72.5
         ],
         "xaxis": "x2",
         "yaxis": "y2"
        },
        {
         "alignmentgroup": "True",
         "bingroup": "x",
         "hovertemplate": "variable=K<br>value=%{x}<br>count=%{y}<extra></extra>",
         "legendgroup": "K",
         "marker": {
          "color": "#19d3f3",
          "pattern": {
           "shape": ""
          }
         },
         "name": "K",
         "offsetgroup": "K",
         "orientation": "v",
         "showlegend": true,
         "type": "histogram",
         "x": [
          0.06,
          0.48,
          0.39,
          0.57,
          0.55,
          0.58,
          0.57,
          0.56,
          0.57,
          0.67,
          0.6,
          0.69,
          0.54,
          0.58,
          0.58,
          0.61,
          0.15,
          0.06,
          0.54,
          0.54,
          0.59,
          0.62,
          0.5,
          0.65,
          0.59,
          0.56,
          0.57,
          0.6,
          0.61,
          0.56,
          0.6,
          0.57,
          0.56,
          0.64,
          0.64,
          0.59,
          0.59,
          0.17,
          0.55,
          0.57,
          0.13,
          0.59,
          0.6,
          0.55,
          0.55,
          0.51,
          0.56,
          0.6,
          0.59,
          0.57,
          0.14,
          0.23,
          0,
          0.18,
          0.09,
          0.19,
          0.19,
          0.23,
          0.12,
          0.16,
          0.67,
          0.61,
          0.72,
          0.69,
          0.66,
          0.61,
          0.37,
          0.69,
          0.69,
          0.61,
          0.68,
          0.68,
          1.1,
          0.45,
          0.38,
          0.67,
          0.6,
          0.63,
          0.64,
          0.44,
          0.07,
          0.39,
          0.67,
          0.51,
          0.64,
          0.62,
          0.73,
          0.7,
          0.35,
          0.57,
          0.6,
          0.51,
          0.55,
          0.64,
          0.64,
          0.58,
          0.64,
          0.56,
          0.62,
          0.54,
          0.58,
          0.56,
          0.49,
          0.39,
          0.58,
          0.54,
          0.52,
          0.56,
          0.61,
          0.66,
          0.65,
          0.68,
          0.66,
          0.58,
          0.11,
          0.56,
          0.56,
          0.57,
          0.6,
          0,
          0.06,
          0.59,
          0.61,
          0.52,
          0.52,
          0.11,
          0.58,
          0.57,
          0.56,
          0.6,
          0.97,
          0,
          0,
          0,
          0,
          0
         ],
         "xaxis": "x",
         "yaxis": "y"
        },
        {
         "alignmentgroup": "True",
         "hovertemplate": "variable=K<br>value=%{x}<extra></extra>",
         "legendgroup": "K",
         "marker": {
          "color": "#19d3f3"
         },
         "name": "K",
         "notched": true,
         "offsetgroup": "K",
         "showlegend": false,
         "type": "box",
         "x": [
          0.06,
          0.48,
          0.39,
          0.57,
          0.55,
          0.58,
          0.57,
          0.56,
          0.57,
          0.67,
          0.6,
          0.69,
          0.54,
          0.58,
          0.58,
          0.61,
          0.15,
          0.06,
          0.54,
          0.54,
          0.59,
          0.62,
          0.5,
          0.65,
          0.59,
          0.56,
          0.57,
          0.6,
          0.61,
          0.56,
          0.6,
          0.57,
          0.56,
          0.64,
          0.64,
          0.59,
          0.59,
          0.17,
          0.55,
          0.57,
          0.13,
          0.59,
          0.6,
          0.55,
          0.55,
          0.51,
          0.56,
          0.6,
          0.59,
          0.57,
          0.14,
          0.23,
          0,
          0.18,
          0.09,
          0.19,
          0.19,
          0.23,
          0.12,
          0.16,
          0.67,
          0.61,
          0.72,
          0.69,
          0.66,
          0.61,
          0.37,
          0.69,
          0.69,
          0.61,
          0.68,
          0.68,
          1.1,
          0.45,
          0.38,
          0.67,
          0.6,
          0.63,
          0.64,
          0.44,
          0.07,
          0.39,
          0.67,
          0.51,
          0.64,
          0.62,
          0.73,
          0.7,
          0.35,
          0.57,
          0.6,
          0.51,
          0.55,
          0.64,
          0.64,
          0.58,
          0.64,
          0.56,
          0.62,
          0.54,
          0.58,
          0.56,
          0.49,
          0.39,
          0.58,
          0.54,
          0.52,
          0.56,
          0.61,
          0.66,
          0.65,
          0.68,
          0.66,
          0.58,
          0.11,
          0.56,
          0.56,
          0.57,
          0.6,
          0,
          0.06,
          0.59,
          0.61,
          0.52,
          0.52,
          0.11,
          0.58,
          0.57,
          0.56,
          0.6,
          0.97,
          0,
          0,
          0,
          0,
          0
         ],
         "xaxis": "x2",
         "yaxis": "y2"
        },
        {
         "alignmentgroup": "True",
         "bingroup": "x",
         "hovertemplate": "variable=Ca<br>value=%{x}<br>count=%{y}<extra></extra>",
         "legendgroup": "Ca",
         "marker": {
          "color": "#FF6692",
          "pattern": {
           "shape": ""
          }
         },
         "name": "Ca",
         "offsetgroup": "Ca",
         "orientation": "v",
         "showlegend": true,
         "type": "histogram",
         "x": [
          8.75,
          7.83,
          7.78,
          8.22,
          8.07,
          8.17,
          8.24,
          8.3,
          8.4,
          8.09,
          8.56,
          8.05,
          8.38,
          8.5,
          8.39,
          8.7,
          9.15,
          8.89,
          8.44,
          8.52,
          8.7,
          8.59,
          8.43,
          8.53,
          8.43,
          8.43,
          8.54,
          8.49,
          8.69,
          8.55,
          8.55,
          8.75,
          8.57,
          8.68,
          8.77,
          8.64,
          8.59,
          9.74,
          9,
          8.83,
          10.02,
          8.91,
          9.14,
          9.03,
          9.07,
          9.02,
          9.06,
          8.43,
          8.03,
          8.27,
          8.76,
          9.54,
          9.69,
          9.61,
          9.4,
          9.85,
          9.85,
          9.82,
          10.17,
          7.36,
          7.83,
          7.89,
          7.9,
          7.96,
          8.03,
          8.04,
          7.94,
          7.97,
          7.97,
          7.86,
          8.1,
          8.05,
          7.08,
          8.21,
          8.03,
          8.08,
          8.12,
          8.08,
          8.96,
          8.27,
          8.39,
          8.22,
          8.24,
          8.6,
          9.13,
          8.9,
          8.54,
          9.23,
          9.42,
          8.21,
          8.43,
          8.28,
          8.31,
          7.88,
          7.96,
          8.42,
          8.03,
          8.1,
          7.99,
          8.52,
          8.55,
          8.6,
          9.85,
          10.56,
          8.15,
          8.21,
          8.12,
          8.38,
          8.11,
          7.9,
          7.99,
          8.11,
          8.18,
          8.81,
          8.6,
          8.33,
          8.44,
          8.53,
          8.38,
          9.49,
          8.93,
          8.32,
          8.79,
          8.58,
          8.65,
          9.65,
          8.79,
          8.81,
          8.99,
          10.09,
          10.17,
          9.57,
          9.77,
          9.26,
          9.32,
          9.95
         ],
         "xaxis": "x",
         "yaxis": "y"
        },
        {
         "alignmentgroup": "True",
         "hovertemplate": "variable=Ca<br>value=%{x}<extra></extra>",
         "legendgroup": "Ca",
         "marker": {
          "color": "#FF6692"
         },
         "name": "Ca",
         "notched": true,
         "offsetgroup": "Ca",
         "showlegend": false,
         "type": "box",
         "x": [
          8.75,
          7.83,
          7.78,
          8.22,
          8.07,
          8.17,
          8.24,
          8.3,
          8.4,
          8.09,
          8.56,
          8.05,
          8.38,
          8.5,
          8.39,
          8.7,
          9.15,
          8.89,
          8.44,
          8.52,
          8.7,
          8.59,
          8.43,
          8.53,
          8.43,
          8.43,
          8.54,
          8.49,
          8.69,
          8.55,
          8.55,
          8.75,
          8.57,
          8.68,
          8.77,
          8.64,
          8.59,
          9.74,
          9,
          8.83,
          10.02,
          8.91,
          9.14,
          9.03,
          9.07,
          9.02,
          9.06,
          8.43,
          8.03,
          8.27,
          8.76,
          9.54,
          9.69,
          9.61,
          9.4,
          9.85,
          9.85,
          9.82,
          10.17,
          7.36,
          7.83,
          7.89,
          7.9,
          7.96,
          8.03,
          8.04,
          7.94,
          7.97,
          7.97,
          7.86,
          8.1,
          8.05,
          7.08,
          8.21,
          8.03,
          8.08,
          8.12,
          8.08,
          8.96,
          8.27,
          8.39,
          8.22,
          8.24,
          8.6,
          9.13,
          8.9,
          8.54,
          9.23,
          9.42,
          8.21,
          8.43,
          8.28,
          8.31,
          7.88,
          7.96,
          8.42,
          8.03,
          8.1,
          7.99,
          8.52,
          8.55,
          8.6,
          9.85,
          10.56,
          8.15,
          8.21,
          8.12,
          8.38,
          8.11,
          7.9,
          7.99,
          8.11,
          8.18,
          8.81,
          8.6,
          8.33,
          8.44,
          8.53,
          8.38,
          9.49,
          8.93,
          8.32,
          8.79,
          8.58,
          8.65,
          9.65,
          8.79,
          8.81,
          8.99,
          10.09,
          10.17,
          9.57,
          9.77,
          9.26,
          9.32,
          9.95
         ],
         "xaxis": "x2",
         "yaxis": "y2"
        },
        {
         "alignmentgroup": "True",
         "bingroup": "x",
         "hovertemplate": "variable=Ba<br>value=%{x}<br>count=%{y}<extra></extra>",
         "legendgroup": "Ba",
         "marker": {
          "color": "#B6E880",
          "pattern": {
           "shape": ""
          }
         },
         "name": "Ba",
         "offsetgroup": "Ba",
         "orientation": "v",
         "showlegend": true,
         "type": "histogram",
         "x": [
          0,
          0,
          0,
          0,
          0,
          0,
          0,
          0,
          0,
          0,
          0,
          0,
          0,
          0,
          0,
          0,
          0,
          0,
          0,
          0,
          0,
          0,
          0,
          0,
          0,
          0,
          0,
          0,
          0,
          0,
          0,
          0,
          0,
          0,
          0,
          0,
          0,
          0,
          0,
          0,
          0,
          0,
          0,
          0,
          0,
          0,
          0,
          0,
          0,
          0,
          0,
          0,
          0,
          0,
          0,
          0,
          0,
          0,
          0,
          0,
          0,
          0,
          0,
          0,
          0,
          0,
          0,
          0,
          0,
          0,
          0,
          0,
          0,
          0,
          0,
          0,
          0,
          0,
          0,
          0,
          0,
          0,
          0,
          0,
          0,
          0,
          0,
          0,
          0,
          0,
          0,
          0,
          0,
          0,
          0,
          0,
          0,
          0,
          0,
          0,
          0,
          0,
          0,
          0,
          0,
          0,
          0,
          0,
          0,
          0,
          0,
          0,
          0,
          0,
          0,
          0,
          0,
          0,
          0,
          0,
          0,
          0,
          0,
          0,
          0,
          0,
          0,
          0,
          0,
          0,
          0,
          0,
          0,
          0,
          0,
          0
         ],
         "xaxis": "x",
         "yaxis": "y"
        },
        {
         "alignmentgroup": "True",
         "hovertemplate": "variable=Ba<br>value=%{x}<extra></extra>",
         "legendgroup": "Ba",
         "marker": {
          "color": "#B6E880"
         },
         "name": "Ba",
         "notched": true,
         "offsetgroup": "Ba",
         "showlegend": false,
         "type": "box",
         "x": [
          0,
          0,
          0,
          0,
          0,
          0,
          0,
          0,
          0,
          0,
          0,
          0,
          0,
          0,
          0,
          0,
          0,
          0,
          0,
          0,
          0,
          0,
          0,
          0,
          0,
          0,
          0,
          0,
          0,
          0,
          0,
          0,
          0,
          0,
          0,
          0,
          0,
          0,
          0,
          0,
          0,
          0,
          0,
          0,
          0,
          0,
          0,
          0,
          0,
          0,
          0,
          0,
          0,
          0,
          0,
          0,
          0,
          0,
          0,
          0,
          0,
          0,
          0,
          0,
          0,
          0,
          0,
          0,
          0,
          0,
          0,
          0,
          0,
          0,
          0,
          0,
          0,
          0,
          0,
          0,
          0,
          0,
          0,
          0,
          0,
          0,
          0,
          0,
          0,
          0,
          0,
          0,
          0,
          0,
          0,
          0,
          0,
          0,
          0,
          0,
          0,
          0,
          0,
          0,
          0,
          0,
          0,
          0,
          0,
          0,
          0,
          0,
          0,
          0,
          0,
          0,
          0,
          0,
          0,
          0,
          0,
          0,
          0,
          0,
          0,
          0,
          0,
          0,
          0,
          0,
          0,
          0,
          0,
          0,
          0,
          0
         ],
         "xaxis": "x2",
         "yaxis": "y2"
        },
        {
         "alignmentgroup": "True",
         "bingroup": "x",
         "hovertemplate": "variable=Fe<br>value=%{x}<br>count=%{y}<extra></extra>",
         "legendgroup": "Fe",
         "marker": {
          "color": "#FF97FF",
          "pattern": {
           "shape": ""
          }
         },
         "name": "Fe",
         "offsetgroup": "Fe",
         "orientation": "v",
         "showlegend": true,
         "type": "histogram",
         "x": [
          0,
          0,
          0,
          0,
          0,
          0,
          0,
          0,
          0.11,
          0.24,
          0,
          0.24,
          0.17,
          0,
          0,
          0,
          0,
          0,
          0.07,
          0.19,
          0,
          0,
          0,
          0,
          0,
          0,
          0,
          0,
          0.14,
          0,
          0.06,
          0,
          0,
          0,
          0,
          0,
          0,
          0,
          0,
          0.16,
          0,
          0,
          0.11,
          0,
          0,
          0.09,
          0.24,
          0,
          0,
          0.11,
          0,
          0.11,
          0,
          0.07,
          0,
          0.17,
          0.17,
          0.16,
          0.03,
          0.12,
          0,
          0,
          0,
          0,
          0,
          0,
          0.14,
          0,
          0,
          0,
          0,
          0.09,
          0,
          0,
          0,
          0.1,
          0,
          0.09,
          0.22,
          0,
          0.19,
          0,
          0,
          0,
          0.15,
          0.24,
          0,
          0,
          0.2,
          0.14,
          0,
          0,
          0.1,
          0,
          0,
          0,
          0.21,
          0,
          0,
          0,
          0.12,
          0,
          0.17,
          0.18,
          0,
          0.15,
          0,
          0.12,
          0,
          0,
          0,
          0,
          0,
          0.24,
          0,
          0,
          0.1,
          0,
          0.17,
          0,
          0,
          0,
          0,
          0,
          0,
          0,
          0,
          0.09,
          0,
          0,
          0,
          0,
          0,
          0,
          0,
          0
         ],
         "xaxis": "x",
         "yaxis": "y"
        },
        {
         "alignmentgroup": "True",
         "hovertemplate": "variable=Fe<br>value=%{x}<extra></extra>",
         "legendgroup": "Fe",
         "marker": {
          "color": "#FF97FF"
         },
         "name": "Fe",
         "notched": true,
         "offsetgroup": "Fe",
         "showlegend": false,
         "type": "box",
         "x": [
          0,
          0,
          0,
          0,
          0,
          0,
          0,
          0,
          0.11,
          0.24,
          0,
          0.24,
          0.17,
          0,
          0,
          0,
          0,
          0,
          0.07,
          0.19,
          0,
          0,
          0,
          0,
          0,
          0,
          0,
          0,
          0.14,
          0,
          0.06,
          0,
          0,
          0,
          0,
          0,
          0,
          0,
          0,
          0.16,
          0,
          0,
          0.11,
          0,
          0,
          0.09,
          0.24,
          0,
          0,
          0.11,
          0,
          0.11,
          0,
          0.07,
          0,
          0.17,
          0.17,
          0.16,
          0.03,
          0.12,
          0,
          0,
          0,
          0,
          0,
          0,
          0.14,
          0,
          0,
          0,
          0,
          0.09,
          0,
          0,
          0,
          0.1,
          0,
          0.09,
          0.22,
          0,
          0.19,
          0,
          0,
          0,
          0.15,
          0.24,
          0,
          0,
          0.2,
          0.14,
          0,
          0,
          0.1,
          0,
          0,
          0,
          0.21,
          0,
          0,
          0,
          0.12,
          0,
          0.17,
          0.18,
          0,
          0.15,
          0,
          0.12,
          0,
          0,
          0,
          0,
          0,
          0.24,
          0,
          0,
          0.1,
          0,
          0.17,
          0,
          0,
          0,
          0,
          0,
          0,
          0,
          0,
          0.09,
          0,
          0,
          0,
          0,
          0,
          0,
          0,
          0
         ],
         "xaxis": "x2",
         "yaxis": "y2"
        },
        {
         "alignmentgroup": "True",
         "bingroup": "x",
         "hovertemplate": "variable=Type<br>value=%{x}<br>count=%{y}<extra></extra>",
         "legendgroup": "Type",
         "marker": {
          "color": "#FECB52",
          "pattern": {
           "shape": ""
          }
         },
         "name": "Type",
         "offsetgroup": "Type",
         "orientation": "v",
         "showlegend": true,
         "type": "histogram",
         "x": [
          1,
          1,
          1,
          1,
          1,
          1,
          1,
          1,
          1,
          1,
          1,
          1,
          1,
          1,
          1,
          1,
          1,
          1,
          1,
          1,
          1,
          1,
          1,
          1,
          1,
          1,
          1,
          1,
          1,
          1,
          1,
          1,
          1,
          1,
          1,
          1,
          1,
          1,
          1,
          1,
          1,
          1,
          1,
          1,
          1,
          1,
          1,
          1,
          1,
          1,
          1,
          1,
          1,
          1,
          1,
          1,
          1,
          1,
          1,
          2,
          2,
          2,
          2,
          2,
          2,
          2,
          2,
          2,
          2,
          2,
          2,
          2,
          2,
          2,
          2,
          2,
          2,
          2,
          2,
          2,
          2,
          2,
          2,
          2,
          2,
          2,
          2,
          2,
          2,
          2,
          2,
          2,
          2,
          2,
          2,
          2,
          2,
          2,
          2,
          2,
          2,
          2,
          2,
          2,
          2,
          2,
          2,
          2,
          2,
          2,
          2,
          2,
          2,
          2,
          3,
          3,
          3,
          3,
          3,
          3,
          3,
          3,
          3,
          3,
          3,
          3,
          3,
          3,
          3,
          5,
          5,
          6,
          6,
          6,
          6,
          6
         ],
         "xaxis": "x",
         "yaxis": "y"
        },
        {
         "alignmentgroup": "True",
         "hovertemplate": "variable=Type<br>value=%{x}<extra></extra>",
         "legendgroup": "Type",
         "marker": {
          "color": "#FECB52"
         },
         "name": "Type",
         "notched": true,
         "offsetgroup": "Type",
         "showlegend": false,
         "type": "box",
         "x": [
          1,
          1,
          1,
          1,
          1,
          1,
          1,
          1,
          1,
          1,
          1,
          1,
          1,
          1,
          1,
          1,
          1,
          1,
          1,
          1,
          1,
          1,
          1,
          1,
          1,
          1,
          1,
          1,
          1,
          1,
          1,
          1,
          1,
          1,
          1,
          1,
          1,
          1,
          1,
          1,
          1,
          1,
          1,
          1,
          1,
          1,
          1,
          1,
          1,
          1,
          1,
          1,
          1,
          1,
          1,
          1,
          1,
          1,
          1,
          2,
          2,
          2,
          2,
          2,
          2,
          2,
          2,
          2,
          2,
          2,
          2,
          2,
          2,
          2,
          2,
          2,
          2,
          2,
          2,
          2,
          2,
          2,
          2,
          2,
          2,
          2,
          2,
          2,
          2,
          2,
          2,
          2,
          2,
          2,
          2,
          2,
          2,
          2,
          2,
          2,
          2,
          2,
          2,
          2,
          2,
          2,
          2,
          2,
          2,
          2,
          2,
          2,
          2,
          2,
          3,
          3,
          3,
          3,
          3,
          3,
          3,
          3,
          3,
          3,
          3,
          3,
          3,
          3,
          3,
          5,
          5,
          6,
          6,
          6,
          6,
          6
         ],
         "xaxis": "x2",
         "yaxis": "y2"
        }
       ],
       "layout": {
        "barmode": "overlay",
        "legend": {
         "title": {
          "text": "variable"
         },
         "tracegroupgap": 0
        },
        "template": {
         "data": {
          "bar": [
           {
            "error_x": {
             "color": "#2a3f5f"
            },
            "error_y": {
             "color": "#2a3f5f"
            },
            "marker": {
             "line": {
              "color": "#E5ECF6",
              "width": 0.5
             },
             "pattern": {
              "fillmode": "overlay",
              "size": 10,
              "solidity": 0.2
             }
            },
            "type": "bar"
           }
          ],
          "barpolar": [
           {
            "marker": {
             "line": {
              "color": "#E5ECF6",
              "width": 0.5
             },
             "pattern": {
              "fillmode": "overlay",
              "size": 10,
              "solidity": 0.2
             }
            },
            "type": "barpolar"
           }
          ],
          "carpet": [
           {
            "aaxis": {
             "endlinecolor": "#2a3f5f",
             "gridcolor": "white",
             "linecolor": "white",
             "minorgridcolor": "white",
             "startlinecolor": "#2a3f5f"
            },
            "baxis": {
             "endlinecolor": "#2a3f5f",
             "gridcolor": "white",
             "linecolor": "white",
             "minorgridcolor": "white",
             "startlinecolor": "#2a3f5f"
            },
            "type": "carpet"
           }
          ],
          "choropleth": [
           {
            "colorbar": {
             "outlinewidth": 0,
             "ticks": ""
            },
            "type": "choropleth"
           }
          ],
          "contour": [
           {
            "colorbar": {
             "outlinewidth": 0,
             "ticks": ""
            },
            "colorscale": [
             [
              0,
              "#0d0887"
             ],
             [
              0.1111111111111111,
              "#46039f"
             ],
             [
              0.2222222222222222,
              "#7201a8"
             ],
             [
              0.3333333333333333,
              "#9c179e"
             ],
             [
              0.4444444444444444,
              "#bd3786"
             ],
             [
              0.5555555555555556,
              "#d8576b"
             ],
             [
              0.6666666666666666,
              "#ed7953"
             ],
             [
              0.7777777777777778,
              "#fb9f3a"
             ],
             [
              0.8888888888888888,
              "#fdca26"
             ],
             [
              1,
              "#f0f921"
             ]
            ],
            "type": "contour"
           }
          ],
          "contourcarpet": [
           {
            "colorbar": {
             "outlinewidth": 0,
             "ticks": ""
            },
            "type": "contourcarpet"
           }
          ],
          "heatmap": [
           {
            "colorbar": {
             "outlinewidth": 0,
             "ticks": ""
            },
            "colorscale": [
             [
              0,
              "#0d0887"
             ],
             [
              0.1111111111111111,
              "#46039f"
             ],
             [
              0.2222222222222222,
              "#7201a8"
             ],
             [
              0.3333333333333333,
              "#9c179e"
             ],
             [
              0.4444444444444444,
              "#bd3786"
             ],
             [
              0.5555555555555556,
              "#d8576b"
             ],
             [
              0.6666666666666666,
              "#ed7953"
             ],
             [
              0.7777777777777778,
              "#fb9f3a"
             ],
             [
              0.8888888888888888,
              "#fdca26"
             ],
             [
              1,
              "#f0f921"
             ]
            ],
            "type": "heatmap"
           }
          ],
          "heatmapgl": [
           {
            "colorbar": {
             "outlinewidth": 0,
             "ticks": ""
            },
            "colorscale": [
             [
              0,
              "#0d0887"
             ],
             [
              0.1111111111111111,
              "#46039f"
             ],
             [
              0.2222222222222222,
              "#7201a8"
             ],
             [
              0.3333333333333333,
              "#9c179e"
             ],
             [
              0.4444444444444444,
              "#bd3786"
             ],
             [
              0.5555555555555556,
              "#d8576b"
             ],
             [
              0.6666666666666666,
              "#ed7953"
             ],
             [
              0.7777777777777778,
              "#fb9f3a"
             ],
             [
              0.8888888888888888,
              "#fdca26"
             ],
             [
              1,
              "#f0f921"
             ]
            ],
            "type": "heatmapgl"
           }
          ],
          "histogram": [
           {
            "marker": {
             "pattern": {
              "fillmode": "overlay",
              "size": 10,
              "solidity": 0.2
             }
            },
            "type": "histogram"
           }
          ],
          "histogram2d": [
           {
            "colorbar": {
             "outlinewidth": 0,
             "ticks": ""
            },
            "colorscale": [
             [
              0,
              "#0d0887"
             ],
             [
              0.1111111111111111,
              "#46039f"
             ],
             [
              0.2222222222222222,
              "#7201a8"
             ],
             [
              0.3333333333333333,
              "#9c179e"
             ],
             [
              0.4444444444444444,
              "#bd3786"
             ],
             [
              0.5555555555555556,
              "#d8576b"
             ],
             [
              0.6666666666666666,
              "#ed7953"
             ],
             [
              0.7777777777777778,
              "#fb9f3a"
             ],
             [
              0.8888888888888888,
              "#fdca26"
             ],
             [
              1,
              "#f0f921"
             ]
            ],
            "type": "histogram2d"
           }
          ],
          "histogram2dcontour": [
           {
            "colorbar": {
             "outlinewidth": 0,
             "ticks": ""
            },
            "colorscale": [
             [
              0,
              "#0d0887"
             ],
             [
              0.1111111111111111,
              "#46039f"
             ],
             [
              0.2222222222222222,
              "#7201a8"
             ],
             [
              0.3333333333333333,
              "#9c179e"
             ],
             [
              0.4444444444444444,
              "#bd3786"
             ],
             [
              0.5555555555555556,
              "#d8576b"
             ],
             [
              0.6666666666666666,
              "#ed7953"
             ],
             [
              0.7777777777777778,
              "#fb9f3a"
             ],
             [
              0.8888888888888888,
              "#fdca26"
             ],
             [
              1,
              "#f0f921"
             ]
            ],
            "type": "histogram2dcontour"
           }
          ],
          "mesh3d": [
           {
            "colorbar": {
             "outlinewidth": 0,
             "ticks": ""
            },
            "type": "mesh3d"
           }
          ],
          "parcoords": [
           {
            "line": {
             "colorbar": {
              "outlinewidth": 0,
              "ticks": ""
             }
            },
            "type": "parcoords"
           }
          ],
          "pie": [
           {
            "automargin": true,
            "type": "pie"
           }
          ],
          "scatter": [
           {
            "fillpattern": {
             "fillmode": "overlay",
             "size": 10,
             "solidity": 0.2
            },
            "type": "scatter"
           }
          ],
          "scatter3d": [
           {
            "line": {
             "colorbar": {
              "outlinewidth": 0,
              "ticks": ""
             }
            },
            "marker": {
             "colorbar": {
              "outlinewidth": 0,
              "ticks": ""
             }
            },
            "type": "scatter3d"
           }
          ],
          "scattercarpet": [
           {
            "marker": {
             "colorbar": {
              "outlinewidth": 0,
              "ticks": ""
             }
            },
            "type": "scattercarpet"
           }
          ],
          "scattergeo": [
           {
            "marker": {
             "colorbar": {
              "outlinewidth": 0,
              "ticks": ""
             }
            },
            "type": "scattergeo"
           }
          ],
          "scattergl": [
           {
            "marker": {
             "colorbar": {
              "outlinewidth": 0,
              "ticks": ""
             }
            },
            "type": "scattergl"
           }
          ],
          "scattermapbox": [
           {
            "marker": {
             "colorbar": {
              "outlinewidth": 0,
              "ticks": ""
             }
            },
            "type": "scattermapbox"
           }
          ],
          "scatterpolar": [
           {
            "marker": {
             "colorbar": {
              "outlinewidth": 0,
              "ticks": ""
             }
            },
            "type": "scatterpolar"
           }
          ],
          "scatterpolargl": [
           {
            "marker": {
             "colorbar": {
              "outlinewidth": 0,
              "ticks": ""
             }
            },
            "type": "scatterpolargl"
           }
          ],
          "scatterternary": [
           {
            "marker": {
             "colorbar": {
              "outlinewidth": 0,
              "ticks": ""
             }
            },
            "type": "scatterternary"
           }
          ],
          "surface": [
           {
            "colorbar": {
             "outlinewidth": 0,
             "ticks": ""
            },
            "colorscale": [
             [
              0,
              "#0d0887"
             ],
             [
              0.1111111111111111,
              "#46039f"
             ],
             [
              0.2222222222222222,
              "#7201a8"
             ],
             [
              0.3333333333333333,
              "#9c179e"
             ],
             [
              0.4444444444444444,
              "#bd3786"
             ],
             [
              0.5555555555555556,
              "#d8576b"
             ],
             [
              0.6666666666666666,
              "#ed7953"
             ],
             [
              0.7777777777777778,
              "#fb9f3a"
             ],
             [
              0.8888888888888888,
              "#fdca26"
             ],
             [
              1,
              "#f0f921"
             ]
            ],
            "type": "surface"
           }
          ],
          "table": [
           {
            "cells": {
             "fill": {
              "color": "#EBF0F8"
             },
             "line": {
              "color": "white"
             }
            },
            "header": {
             "fill": {
              "color": "#C8D4E3"
             },
             "line": {
              "color": "white"
             }
            },
            "type": "table"
           }
          ]
         },
         "layout": {
          "annotationdefaults": {
           "arrowcolor": "#2a3f5f",
           "arrowhead": 0,
           "arrowwidth": 1
          },
          "autotypenumbers": "strict",
          "coloraxis": {
           "colorbar": {
            "outlinewidth": 0,
            "ticks": ""
           }
          },
          "colorscale": {
           "diverging": [
            [
             0,
             "#8e0152"
            ],
            [
             0.1,
             "#c51b7d"
            ],
            [
             0.2,
             "#de77ae"
            ],
            [
             0.3,
             "#f1b6da"
            ],
            [
             0.4,
             "#fde0ef"
            ],
            [
             0.5,
             "#f7f7f7"
            ],
            [
             0.6,
             "#e6f5d0"
            ],
            [
             0.7,
             "#b8e186"
            ],
            [
             0.8,
             "#7fbc41"
            ],
            [
             0.9,
             "#4d9221"
            ],
            [
             1,
             "#276419"
            ]
           ],
           "sequential": [
            [
             0,
             "#0d0887"
            ],
            [
             0.1111111111111111,
             "#46039f"
            ],
            [
             0.2222222222222222,
             "#7201a8"
            ],
            [
             0.3333333333333333,
             "#9c179e"
            ],
            [
             0.4444444444444444,
             "#bd3786"
            ],
            [
             0.5555555555555556,
             "#d8576b"
            ],
            [
             0.6666666666666666,
             "#ed7953"
            ],
            [
             0.7777777777777778,
             "#fb9f3a"
            ],
            [
             0.8888888888888888,
             "#fdca26"
            ],
            [
             1,
             "#f0f921"
            ]
           ],
           "sequentialminus": [
            [
             0,
             "#0d0887"
            ],
            [
             0.1111111111111111,
             "#46039f"
            ],
            [
             0.2222222222222222,
             "#7201a8"
            ],
            [
             0.3333333333333333,
             "#9c179e"
            ],
            [
             0.4444444444444444,
             "#bd3786"
            ],
            [
             0.5555555555555556,
             "#d8576b"
            ],
            [
             0.6666666666666666,
             "#ed7953"
            ],
            [
             0.7777777777777778,
             "#fb9f3a"
            ],
            [
             0.8888888888888888,
             "#fdca26"
            ],
            [
             1,
             "#f0f921"
            ]
           ]
          },
          "colorway": [
           "#636efa",
           "#EF553B",
           "#00cc96",
           "#ab63fa",
           "#FFA15A",
           "#19d3f3",
           "#FF6692",
           "#B6E880",
           "#FF97FF",
           "#FECB52"
          ],
          "font": {
           "color": "#2a3f5f"
          },
          "geo": {
           "bgcolor": "white",
           "lakecolor": "white",
           "landcolor": "#E5ECF6",
           "showlakes": true,
           "showland": true,
           "subunitcolor": "white"
          },
          "hoverlabel": {
           "align": "left"
          },
          "hovermode": "closest",
          "mapbox": {
           "style": "light"
          },
          "paper_bgcolor": "white",
          "plot_bgcolor": "#E5ECF6",
          "polar": {
           "angularaxis": {
            "gridcolor": "white",
            "linecolor": "white",
            "ticks": ""
           },
           "bgcolor": "#E5ECF6",
           "radialaxis": {
            "gridcolor": "white",
            "linecolor": "white",
            "ticks": ""
           }
          },
          "scene": {
           "xaxis": {
            "backgroundcolor": "#E5ECF6",
            "gridcolor": "white",
            "gridwidth": 2,
            "linecolor": "white",
            "showbackground": true,
            "ticks": "",
            "zerolinecolor": "white"
           },
           "yaxis": {
            "backgroundcolor": "#E5ECF6",
            "gridcolor": "white",
            "gridwidth": 2,
            "linecolor": "white",
            "showbackground": true,
            "ticks": "",
            "zerolinecolor": "white"
           },
           "zaxis": {
            "backgroundcolor": "#E5ECF6",
            "gridcolor": "white",
            "gridwidth": 2,
            "linecolor": "white",
            "showbackground": true,
            "ticks": "",
            "zerolinecolor": "white"
           }
          },
          "shapedefaults": {
           "line": {
            "color": "#2a3f5f"
           }
          },
          "ternary": {
           "aaxis": {
            "gridcolor": "white",
            "linecolor": "white",
            "ticks": ""
           },
           "baxis": {
            "gridcolor": "white",
            "linecolor": "white",
            "ticks": ""
           },
           "bgcolor": "#E5ECF6",
           "caxis": {
            "gridcolor": "white",
            "linecolor": "white",
            "ticks": ""
           }
          },
          "title": {
           "x": 0.05
          },
          "xaxis": {
           "automargin": true,
           "gridcolor": "white",
           "linecolor": "white",
           "ticks": "",
           "title": {
            "standoff": 15
           },
           "zerolinecolor": "white",
           "zerolinewidth": 2
          },
          "yaxis": {
           "automargin": true,
           "gridcolor": "white",
           "linecolor": "white",
           "ticks": "",
           "title": {
            "standoff": 15
           },
           "zerolinecolor": "white",
           "zerolinewidth": 2
          }
         }
        },
        "title": {
         "text": "Distribution of Features"
        },
        "xaxis": {
         "anchor": "y",
         "domain": [
          0,
          1
         ],
         "title": {
          "text": "value"
         }
        },
        "xaxis2": {
         "anchor": "y2",
         "domain": [
          0,
          1
         ],
         "matches": "x",
         "showgrid": true,
         "showticklabels": false
        },
        "yaxis": {
         "anchor": "x",
         "domain": [
          0,
          0.7326
         ],
         "title": {
          "text": "count"
         }
        },
        "yaxis2": {
         "anchor": "x2",
         "domain": [
          0.7426,
          1
         ],
         "matches": "y2",
         "showgrid": false,
         "showline": false,
         "showticklabels": false,
         "ticks": ""
        }
       }
      },
      "text/html": [
       "<div>                            <div id=\"364090a6-8ab0-474c-9ad3-822036d8bb06\" class=\"plotly-graph-div\" style=\"height:525px; width:100%;\"></div>            <script type=\"text/javascript\">                require([\"plotly\"], function(Plotly) {                    window.PLOTLYENV=window.PLOTLYENV || {};                                    if (document.getElementById(\"364090a6-8ab0-474c-9ad3-822036d8bb06\")) {                    Plotly.newPlot(                        \"364090a6-8ab0-474c-9ad3-822036d8bb06\",                        [{\"alignmentgroup\":\"True\",\"bingroup\":\"x\",\"hovertemplate\":\"variable=RI<br>value=%{x}<br>count=%{y}<extra></extra>\",\"legendgroup\":\"RI\",\"marker\":{\"color\":\"#636efa\",\"pattern\":{\"shape\":\"\"}},\"name\":\"RI\",\"offsetgroup\":\"RI\",\"orientation\":\"v\",\"showlegend\":true,\"x\":[1.52101,1.51761,1.51618,1.51766,1.51742,1.51743,1.51756,1.51918,1.51755,1.51571,1.51763,1.51589,1.51748,1.51763,1.51761,1.51784,1.52196,1.51911,1.51735,1.5175,1.51736,1.51751,1.5172,1.51764,1.51793,1.51721,1.51768,1.51784,1.51768,1.51747,1.51753,1.51783,1.51567,1.51797,1.51793,1.51755,1.51779,1.5221,1.519,1.51869,1.52223,1.51898,1.51926,1.51808,1.51837,1.51778,1.51769,1.51824,1.51754,1.51754,1.51905,1.52172,1.52227,1.52172,1.52099,1.52152,1.52152,1.52152,1.523,1.51574,1.51593,1.51631,1.51596,1.5159,1.51645,1.51627,1.51613,1.5159,1.51592,1.51593,1.51646,1.51594,1.51409,1.51625,1.51569,1.51645,1.51618,1.5164,1.51841,1.51605,1.51588,1.5159,1.51629,1.5186,1.51841,1.51743,1.51689,1.5173,1.5182,1.51892,1.51847,1.51846,1.51829,1.51708,1.51652,1.51844,1.51663,1.51687,1.51707,1.52177,1.51872,1.51667,1.52081,1.5202,1.51813,1.518,1.51811,1.51806,1.51711,1.51674,1.51674,1.5169,1.51709,1.5166,1.51769,1.5161,1.5167,1.51643,1.51665,1.52127,1.51779,1.5161,1.51694,1.51646,1.51655,1.52121,1.51776,1.51796,1.51832,1.51915,1.51666,1.51905,1.51937,1.51829,1.51852,1.51888],\"xaxis\":\"x\",\"yaxis\":\"y\",\"type\":\"histogram\"},{\"alignmentgroup\":\"True\",\"hovertemplate\":\"variable=RI<br>value=%{x}<extra></extra>\",\"legendgroup\":\"RI\",\"marker\":{\"color\":\"#636efa\"},\"name\":\"RI\",\"notched\":true,\"offsetgroup\":\"RI\",\"showlegend\":false,\"x\":[1.52101,1.51761,1.51618,1.51766,1.51742,1.51743,1.51756,1.51918,1.51755,1.51571,1.51763,1.51589,1.51748,1.51763,1.51761,1.51784,1.52196,1.51911,1.51735,1.5175,1.51736,1.51751,1.5172,1.51764,1.51793,1.51721,1.51768,1.51784,1.51768,1.51747,1.51753,1.51783,1.51567,1.51797,1.51793,1.51755,1.51779,1.5221,1.519,1.51869,1.52223,1.51898,1.51926,1.51808,1.51837,1.51778,1.51769,1.51824,1.51754,1.51754,1.51905,1.52172,1.52227,1.52172,1.52099,1.52152,1.52152,1.52152,1.523,1.51574,1.51593,1.51631,1.51596,1.5159,1.51645,1.51627,1.51613,1.5159,1.51592,1.51593,1.51646,1.51594,1.51409,1.51625,1.51569,1.51645,1.51618,1.5164,1.51841,1.51605,1.51588,1.5159,1.51629,1.5186,1.51841,1.51743,1.51689,1.5173,1.5182,1.51892,1.51847,1.51846,1.51829,1.51708,1.51652,1.51844,1.51663,1.51687,1.51707,1.52177,1.51872,1.51667,1.52081,1.5202,1.51813,1.518,1.51811,1.51806,1.51711,1.51674,1.51674,1.5169,1.51709,1.5166,1.51769,1.5161,1.5167,1.51643,1.51665,1.52127,1.51779,1.5161,1.51694,1.51646,1.51655,1.52121,1.51776,1.51796,1.51832,1.51915,1.51666,1.51905,1.51937,1.51829,1.51852,1.51888],\"xaxis\":\"x2\",\"yaxis\":\"y2\",\"type\":\"box\"},{\"alignmentgroup\":\"True\",\"bingroup\":\"x\",\"hovertemplate\":\"variable=Na<br>value=%{x}<br>count=%{y}<extra></extra>\",\"legendgroup\":\"Na\",\"marker\":{\"color\":\"#EF553B\",\"pattern\":{\"shape\":\"\"}},\"name\":\"Na\",\"offsetgroup\":\"Na\",\"orientation\":\"v\",\"showlegend\":true,\"x\":[13.64,13.89,13.53,13.21,13.27,13.3,13.15,14.04,13.0,12.72,12.8,12.88,12.86,12.61,12.81,12.68,14.36,13.9,13.02,12.82,12.78,12.81,13.38,12.98,13.21,12.87,12.56,13.08,12.65,12.84,12.57,12.69,13.29,12.74,12.79,12.71,13.21,13.73,13.49,13.19,13.21,13.58,13.2,13.43,13.14,13.21,12.45,12.87,13.48,13.39,13.6,13.51,14.17,13.48,13.69,13.05,13.05,13.12,13.31,14.86,13.09,13.34,13.02,13.02,13.44,13.0,13.92,12.82,12.86,13.25,13.41,13.09,14.25,13.36,13.24,13.4,13.01,12.55,12.93,12.9,13.12,13.24,12.71,13.36,13.02,12.2,12.67,12.35,12.62,13.46,13.1,13.41,13.24,13.72,13.56,13.25,12.93,13.23,13.48,13.2,12.93,12.94,13.78,13.98,13.43,13.71,13.33,13.0,12.89,12.79,12.87,13.33,13.0,12.99,13.65,13.33,13.24,12.16,13.14,14.32,13.64,13.42,12.86,13.04,13.41,14.03,13.53,13.5,13.33,12.73,12.86,14.0,13.79,14.46,14.09,14.99],\"xaxis\":\"x\",\"yaxis\":\"y\",\"type\":\"histogram\"},{\"alignmentgroup\":\"True\",\"hovertemplate\":\"variable=Na<br>value=%{x}<extra></extra>\",\"legendgroup\":\"Na\",\"marker\":{\"color\":\"#EF553B\"},\"name\":\"Na\",\"notched\":true,\"offsetgroup\":\"Na\",\"showlegend\":false,\"x\":[13.64,13.89,13.53,13.21,13.27,13.3,13.15,14.04,13.0,12.72,12.8,12.88,12.86,12.61,12.81,12.68,14.36,13.9,13.02,12.82,12.78,12.81,13.38,12.98,13.21,12.87,12.56,13.08,12.65,12.84,12.57,12.69,13.29,12.74,12.79,12.71,13.21,13.73,13.49,13.19,13.21,13.58,13.2,13.43,13.14,13.21,12.45,12.87,13.48,13.39,13.6,13.51,14.17,13.48,13.69,13.05,13.05,13.12,13.31,14.86,13.09,13.34,13.02,13.02,13.44,13.0,13.92,12.82,12.86,13.25,13.41,13.09,14.25,13.36,13.24,13.4,13.01,12.55,12.93,12.9,13.12,13.24,12.71,13.36,13.02,12.2,12.67,12.35,12.62,13.46,13.1,13.41,13.24,13.72,13.56,13.25,12.93,13.23,13.48,13.2,12.93,12.94,13.78,13.98,13.43,13.71,13.33,13.0,12.89,12.79,12.87,13.33,13.0,12.99,13.65,13.33,13.24,12.16,13.14,14.32,13.64,13.42,12.86,13.04,13.41,14.03,13.53,13.5,13.33,12.73,12.86,14.0,13.79,14.46,14.09,14.99],\"xaxis\":\"x2\",\"yaxis\":\"y2\",\"type\":\"box\"},{\"alignmentgroup\":\"True\",\"bingroup\":\"x\",\"hovertemplate\":\"variable=Mg<br>value=%{x}<br>count=%{y}<extra></extra>\",\"legendgroup\":\"Mg\",\"marker\":{\"color\":\"#00cc96\",\"pattern\":{\"shape\":\"\"}},\"name\":\"Mg\",\"offsetgroup\":\"Mg\",\"orientation\":\"v\",\"showlegend\":true,\"x\":[4.49,3.6,3.55,3.69,3.62,3.6,3.61,3.58,3.6,3.46,3.66,3.43,3.56,3.59,3.54,3.67,3.85,3.73,3.54,3.55,3.62,3.57,3.5,3.54,3.48,3.48,3.52,3.49,3.56,3.5,3.47,3.54,3.45,3.48,3.5,3.42,3.39,3.84,3.48,3.37,3.77,3.35,3.33,2.87,2.84,2.81,2.71,3.48,3.74,3.66,3.62,3.86,3.81,3.74,3.59,3.65,3.65,3.58,3.58,3.67,3.59,3.57,3.56,3.58,3.61,3.58,3.52,3.52,3.52,3.45,3.55,3.52,3.09,3.58,3.49,3.49,3.5,3.48,3.74,3.44,3.41,3.34,3.33,3.43,3.62,3.25,2.88,2.72,2.76,3.83,3.97,3.89,3.9,3.68,3.57,3.76,3.54,3.54,3.48,3.68,3.66,3.61,2.28,1.35,3.98,3.93,3.85,3.8,3.62,3.52,3.56,3.54,3.47,3.18,3.66,3.53,3.57,3.52,3.45,3.9,3.65,3.4,3.58,3.4,3.39,3.76,3.41,3.36,3.34,1.85,0.0,2.39,2.41,2.24,2.19,0.78],\"xaxis\":\"x\",\"yaxis\":\"y\",\"type\":\"histogram\"},{\"alignmentgroup\":\"True\",\"hovertemplate\":\"variable=Mg<br>value=%{x}<extra></extra>\",\"legendgroup\":\"Mg\",\"marker\":{\"color\":\"#00cc96\"},\"name\":\"Mg\",\"notched\":true,\"offsetgroup\":\"Mg\",\"showlegend\":false,\"x\":[4.49,3.6,3.55,3.69,3.62,3.6,3.61,3.58,3.6,3.46,3.66,3.43,3.56,3.59,3.54,3.67,3.85,3.73,3.54,3.55,3.62,3.57,3.5,3.54,3.48,3.48,3.52,3.49,3.56,3.5,3.47,3.54,3.45,3.48,3.5,3.42,3.39,3.84,3.48,3.37,3.77,3.35,3.33,2.87,2.84,2.81,2.71,3.48,3.74,3.66,3.62,3.86,3.81,3.74,3.59,3.65,3.65,3.58,3.58,3.67,3.59,3.57,3.56,3.58,3.61,3.58,3.52,3.52,3.52,3.45,3.55,3.52,3.09,3.58,3.49,3.49,3.5,3.48,3.74,3.44,3.41,3.34,3.33,3.43,3.62,3.25,2.88,2.72,2.76,3.83,3.97,3.89,3.9,3.68,3.57,3.76,3.54,3.54,3.48,3.68,3.66,3.61,2.28,1.35,3.98,3.93,3.85,3.8,3.62,3.52,3.56,3.54,3.47,3.18,3.66,3.53,3.57,3.52,3.45,3.9,3.65,3.4,3.58,3.4,3.39,3.76,3.41,3.36,3.34,1.85,0.0,2.39,2.41,2.24,2.19,0.78],\"xaxis\":\"x2\",\"yaxis\":\"y2\",\"type\":\"box\"},{\"alignmentgroup\":\"True\",\"bingroup\":\"x\",\"hovertemplate\":\"variable=Al<br>value=%{x}<br>count=%{y}<extra></extra>\",\"legendgroup\":\"Al\",\"marker\":{\"color\":\"#ab63fa\",\"pattern\":{\"shape\":\"\"}},\"name\":\"Al\",\"offsetgroup\":\"Al\",\"orientation\":\"v\",\"showlegend\":true,\"x\":[1.1,1.36,1.54,1.29,1.24,1.14,1.05,1.37,1.36,1.56,1.27,1.4,1.27,1.31,1.23,1.16,0.89,1.18,1.69,1.49,1.29,1.35,1.15,1.21,1.41,1.33,1.43,1.28,1.3,1.14,1.38,1.34,1.21,1.35,1.12,1.2,1.33,0.72,1.35,1.18,0.79,1.23,1.28,1.19,1.28,1.29,1.29,1.29,1.17,1.19,1.11,0.88,0.78,0.9,1.12,0.87,0.87,0.9,0.82,1.74,1.52,1.57,1.54,1.51,1.54,1.54,1.25,1.9,2.12,1.43,1.25,1.55,2.08,1.49,1.47,1.52,1.48,1.87,1.11,1.45,1.58,1.47,1.49,1.43,1.06,1.16,1.71,1.63,0.83,1.26,1.19,1.33,1.41,1.81,1.47,1.32,1.62,1.48,1.71,1.15,1.56,1.26,1.43,1.63,1.18,1.54,1.25,1.08,1.57,1.54,1.64,1.61,1.79,1.23,1.11,1.34,1.38,1.35,1.76,0.83,0.65,1.22,1.31,1.26,1.28,0.58,1.52,1.63,1.54,1.86,1.83,1.56,1.19,1.62,1.66,1.74],\"xaxis\":\"x\",\"yaxis\":\"y\",\"type\":\"histogram\"},{\"alignmentgroup\":\"True\",\"hovertemplate\":\"variable=Al<br>value=%{x}<extra></extra>\",\"legendgroup\":\"Al\",\"marker\":{\"color\":\"#ab63fa\"},\"name\":\"Al\",\"notched\":true,\"offsetgroup\":\"Al\",\"showlegend\":false,\"x\":[1.1,1.36,1.54,1.29,1.24,1.14,1.05,1.37,1.36,1.56,1.27,1.4,1.27,1.31,1.23,1.16,0.89,1.18,1.69,1.49,1.29,1.35,1.15,1.21,1.41,1.33,1.43,1.28,1.3,1.14,1.38,1.34,1.21,1.35,1.12,1.2,1.33,0.72,1.35,1.18,0.79,1.23,1.28,1.19,1.28,1.29,1.29,1.29,1.17,1.19,1.11,0.88,0.78,0.9,1.12,0.87,0.87,0.9,0.82,1.74,1.52,1.57,1.54,1.51,1.54,1.54,1.25,1.9,2.12,1.43,1.25,1.55,2.08,1.49,1.47,1.52,1.48,1.87,1.11,1.45,1.58,1.47,1.49,1.43,1.06,1.16,1.71,1.63,0.83,1.26,1.19,1.33,1.41,1.81,1.47,1.32,1.62,1.48,1.71,1.15,1.56,1.26,1.43,1.63,1.18,1.54,1.25,1.08,1.57,1.54,1.64,1.61,1.79,1.23,1.11,1.34,1.38,1.35,1.76,0.83,0.65,1.22,1.31,1.26,1.28,0.58,1.52,1.63,1.54,1.86,1.83,1.56,1.19,1.62,1.66,1.74],\"xaxis\":\"x2\",\"yaxis\":\"y2\",\"type\":\"box\"},{\"alignmentgroup\":\"True\",\"bingroup\":\"x\",\"hovertemplate\":\"variable=Si<br>value=%{x}<br>count=%{y}<extra></extra>\",\"legendgroup\":\"Si\",\"marker\":{\"color\":\"#FFA15A\",\"pattern\":{\"shape\":\"\"}},\"name\":\"Si\",\"offsetgroup\":\"Si\",\"orientation\":\"v\",\"showlegend\":true,\"x\":[71.78,72.73,72.99,72.61,73.08,73.09,73.24,72.08,72.99,73.2,73.01,73.28,73.21,73.29,73.24,73.11,71.36,72.12,72.73,72.75,72.79,73.02,72.85,73.0,72.64,73.04,73.15,72.86,73.08,73.27,73.39,72.95,72.74,72.96,73.03,73.2,72.76,71.76,71.95,72.72,71.99,72.08,72.36,72.84,72.85,72.98,73.7,72.95,72.99,72.79,72.64,71.79,71.35,72.01,71.96,72.22,72.32,72.2,71.99,71.87,73.1,72.87,73.11,73.12,72.39,72.83,72.88,72.86,72.66,73.17,72.81,72.87,72.28,72.72,73.25,72.65,72.89,73.23,72.28,73.06,73.26,73.1,73.28,72.26,72.34,73.55,73.21,72.87,73.81,72.55,72.44,72.38,72.33,72.06,72.45,72.4,72.96,72.84,72.52,72.75,72.51,72.75,71.99,71.76,72.49,71.81,72.78,73.07,72.96,73.36,73.14,72.54,72.72,72.97,72.77,72.67,72.7,72.89,72.48,71.5,73.0,72.69,72.61,73.01,72.64,71.79,72.04,71.94,72.14,72.69,73.88,72.37,72.76,72.38,72.67,72.5],\"xaxis\":\"x\",\"yaxis\":\"y\",\"type\":\"histogram\"},{\"alignmentgroup\":\"True\",\"hovertemplate\":\"variable=Si<br>value=%{x}<extra></extra>\",\"legendgroup\":\"Si\",\"marker\":{\"color\":\"#FFA15A\"},\"name\":\"Si\",\"notched\":true,\"offsetgroup\":\"Si\",\"showlegend\":false,\"x\":[71.78,72.73,72.99,72.61,73.08,73.09,73.24,72.08,72.99,73.2,73.01,73.28,73.21,73.29,73.24,73.11,71.36,72.12,72.73,72.75,72.79,73.02,72.85,73.0,72.64,73.04,73.15,72.86,73.08,73.27,73.39,72.95,72.74,72.96,73.03,73.2,72.76,71.76,71.95,72.72,71.99,72.08,72.36,72.84,72.85,72.98,73.7,72.95,72.99,72.79,72.64,71.79,71.35,72.01,71.96,72.22,72.32,72.2,71.99,71.87,73.1,72.87,73.11,73.12,72.39,72.83,72.88,72.86,72.66,73.17,72.81,72.87,72.28,72.72,73.25,72.65,72.89,73.23,72.28,73.06,73.26,73.1,73.28,72.26,72.34,73.55,73.21,72.87,73.81,72.55,72.44,72.38,72.33,72.06,72.45,72.4,72.96,72.84,72.52,72.75,72.51,72.75,71.99,71.76,72.49,71.81,72.78,73.07,72.96,73.36,73.14,72.54,72.72,72.97,72.77,72.67,72.7,72.89,72.48,71.5,73.0,72.69,72.61,73.01,72.64,71.79,72.04,71.94,72.14,72.69,73.88,72.37,72.76,72.38,72.67,72.5],\"xaxis\":\"x2\",\"yaxis\":\"y2\",\"type\":\"box\"},{\"alignmentgroup\":\"True\",\"bingroup\":\"x\",\"hovertemplate\":\"variable=K<br>value=%{x}<br>count=%{y}<extra></extra>\",\"legendgroup\":\"K\",\"marker\":{\"color\":\"#19d3f3\",\"pattern\":{\"shape\":\"\"}},\"name\":\"K\",\"offsetgroup\":\"K\",\"orientation\":\"v\",\"showlegend\":true,\"x\":[0.06,0.48,0.39,0.57,0.55,0.58,0.57,0.56,0.57,0.67,0.6,0.69,0.54,0.58,0.58,0.61,0.15,0.06,0.54,0.54,0.59,0.62,0.5,0.65,0.59,0.56,0.57,0.6,0.61,0.56,0.6,0.57,0.56,0.64,0.64,0.59,0.59,0.17,0.55,0.57,0.13,0.59,0.6,0.55,0.55,0.51,0.56,0.6,0.59,0.57,0.14,0.23,0.0,0.18,0.09,0.19,0.19,0.23,0.12,0.16,0.67,0.61,0.72,0.69,0.66,0.61,0.37,0.69,0.69,0.61,0.68,0.68,1.1,0.45,0.38,0.67,0.6,0.63,0.64,0.44,0.07,0.39,0.67,0.51,0.64,0.62,0.73,0.7,0.35,0.57,0.6,0.51,0.55,0.64,0.64,0.58,0.64,0.56,0.62,0.54,0.58,0.56,0.49,0.39,0.58,0.54,0.52,0.56,0.61,0.66,0.65,0.68,0.66,0.58,0.11,0.56,0.56,0.57,0.6,0.0,0.06,0.59,0.61,0.52,0.52,0.11,0.58,0.57,0.56,0.6,0.97,0.0,0.0,0.0,0.0,0.0],\"xaxis\":\"x\",\"yaxis\":\"y\",\"type\":\"histogram\"},{\"alignmentgroup\":\"True\",\"hovertemplate\":\"variable=K<br>value=%{x}<extra></extra>\",\"legendgroup\":\"K\",\"marker\":{\"color\":\"#19d3f3\"},\"name\":\"K\",\"notched\":true,\"offsetgroup\":\"K\",\"showlegend\":false,\"x\":[0.06,0.48,0.39,0.57,0.55,0.58,0.57,0.56,0.57,0.67,0.6,0.69,0.54,0.58,0.58,0.61,0.15,0.06,0.54,0.54,0.59,0.62,0.5,0.65,0.59,0.56,0.57,0.6,0.61,0.56,0.6,0.57,0.56,0.64,0.64,0.59,0.59,0.17,0.55,0.57,0.13,0.59,0.6,0.55,0.55,0.51,0.56,0.6,0.59,0.57,0.14,0.23,0.0,0.18,0.09,0.19,0.19,0.23,0.12,0.16,0.67,0.61,0.72,0.69,0.66,0.61,0.37,0.69,0.69,0.61,0.68,0.68,1.1,0.45,0.38,0.67,0.6,0.63,0.64,0.44,0.07,0.39,0.67,0.51,0.64,0.62,0.73,0.7,0.35,0.57,0.6,0.51,0.55,0.64,0.64,0.58,0.64,0.56,0.62,0.54,0.58,0.56,0.49,0.39,0.58,0.54,0.52,0.56,0.61,0.66,0.65,0.68,0.66,0.58,0.11,0.56,0.56,0.57,0.6,0.0,0.06,0.59,0.61,0.52,0.52,0.11,0.58,0.57,0.56,0.6,0.97,0.0,0.0,0.0,0.0,0.0],\"xaxis\":\"x2\",\"yaxis\":\"y2\",\"type\":\"box\"},{\"alignmentgroup\":\"True\",\"bingroup\":\"x\",\"hovertemplate\":\"variable=Ca<br>value=%{x}<br>count=%{y}<extra></extra>\",\"legendgroup\":\"Ca\",\"marker\":{\"color\":\"#FF6692\",\"pattern\":{\"shape\":\"\"}},\"name\":\"Ca\",\"offsetgroup\":\"Ca\",\"orientation\":\"v\",\"showlegend\":true,\"x\":[8.75,7.83,7.78,8.22,8.07,8.17,8.24,8.3,8.4,8.09,8.56,8.05,8.38,8.5,8.39,8.7,9.15,8.89,8.44,8.52,8.7,8.59,8.43,8.53,8.43,8.43,8.54,8.49,8.69,8.55,8.55,8.75,8.57,8.68,8.77,8.64,8.59,9.74,9.0,8.83,10.02,8.91,9.14,9.03,9.07,9.02,9.06,8.43,8.03,8.27,8.76,9.54,9.69,9.61,9.4,9.85,9.85,9.82,10.17,7.36,7.83,7.89,7.9,7.96,8.03,8.04,7.94,7.97,7.97,7.86,8.1,8.05,7.08,8.21,8.03,8.08,8.12,8.08,8.96,8.27,8.39,8.22,8.24,8.6,9.13,8.9,8.54,9.23,9.42,8.21,8.43,8.28,8.31,7.88,7.96,8.42,8.03,8.1,7.99,8.52,8.55,8.6,9.85,10.56,8.15,8.21,8.12,8.38,8.11,7.9,7.99,8.11,8.18,8.81,8.6,8.33,8.44,8.53,8.38,9.49,8.93,8.32,8.79,8.58,8.65,9.65,8.79,8.81,8.99,10.09,10.17,9.57,9.77,9.26,9.32,9.95],\"xaxis\":\"x\",\"yaxis\":\"y\",\"type\":\"histogram\"},{\"alignmentgroup\":\"True\",\"hovertemplate\":\"variable=Ca<br>value=%{x}<extra></extra>\",\"legendgroup\":\"Ca\",\"marker\":{\"color\":\"#FF6692\"},\"name\":\"Ca\",\"notched\":true,\"offsetgroup\":\"Ca\",\"showlegend\":false,\"x\":[8.75,7.83,7.78,8.22,8.07,8.17,8.24,8.3,8.4,8.09,8.56,8.05,8.38,8.5,8.39,8.7,9.15,8.89,8.44,8.52,8.7,8.59,8.43,8.53,8.43,8.43,8.54,8.49,8.69,8.55,8.55,8.75,8.57,8.68,8.77,8.64,8.59,9.74,9.0,8.83,10.02,8.91,9.14,9.03,9.07,9.02,9.06,8.43,8.03,8.27,8.76,9.54,9.69,9.61,9.4,9.85,9.85,9.82,10.17,7.36,7.83,7.89,7.9,7.96,8.03,8.04,7.94,7.97,7.97,7.86,8.1,8.05,7.08,8.21,8.03,8.08,8.12,8.08,8.96,8.27,8.39,8.22,8.24,8.6,9.13,8.9,8.54,9.23,9.42,8.21,8.43,8.28,8.31,7.88,7.96,8.42,8.03,8.1,7.99,8.52,8.55,8.6,9.85,10.56,8.15,8.21,8.12,8.38,8.11,7.9,7.99,8.11,8.18,8.81,8.6,8.33,8.44,8.53,8.38,9.49,8.93,8.32,8.79,8.58,8.65,9.65,8.79,8.81,8.99,10.09,10.17,9.57,9.77,9.26,9.32,9.95],\"xaxis\":\"x2\",\"yaxis\":\"y2\",\"type\":\"box\"},{\"alignmentgroup\":\"True\",\"bingroup\":\"x\",\"hovertemplate\":\"variable=Ba<br>value=%{x}<br>count=%{y}<extra></extra>\",\"legendgroup\":\"Ba\",\"marker\":{\"color\":\"#B6E880\",\"pattern\":{\"shape\":\"\"}},\"name\":\"Ba\",\"offsetgroup\":\"Ba\",\"orientation\":\"v\",\"showlegend\":true,\"x\":[0.0,0.0,0.0,0.0,0.0,0.0,0.0,0.0,0.0,0.0,0.0,0.0,0.0,0.0,0.0,0.0,0.0,0.0,0.0,0.0,0.0,0.0,0.0,0.0,0.0,0.0,0.0,0.0,0.0,0.0,0.0,0.0,0.0,0.0,0.0,0.0,0.0,0.0,0.0,0.0,0.0,0.0,0.0,0.0,0.0,0.0,0.0,0.0,0.0,0.0,0.0,0.0,0.0,0.0,0.0,0.0,0.0,0.0,0.0,0.0,0.0,0.0,0.0,0.0,0.0,0.0,0.0,0.0,0.0,0.0,0.0,0.0,0.0,0.0,0.0,0.0,0.0,0.0,0.0,0.0,0.0,0.0,0.0,0.0,0.0,0.0,0.0,0.0,0.0,0.0,0.0,0.0,0.0,0.0,0.0,0.0,0.0,0.0,0.0,0.0,0.0,0.0,0.0,0.0,0.0,0.0,0.0,0.0,0.0,0.0,0.0,0.0,0.0,0.0,0.0,0.0,0.0,0.0,0.0,0.0,0.0,0.0,0.0,0.0,0.0,0.0,0.0,0.0,0.0,0.0,0.0,0.0,0.0,0.0,0.0,0.0],\"xaxis\":\"x\",\"yaxis\":\"y\",\"type\":\"histogram\"},{\"alignmentgroup\":\"True\",\"hovertemplate\":\"variable=Ba<br>value=%{x}<extra></extra>\",\"legendgroup\":\"Ba\",\"marker\":{\"color\":\"#B6E880\"},\"name\":\"Ba\",\"notched\":true,\"offsetgroup\":\"Ba\",\"showlegend\":false,\"x\":[0.0,0.0,0.0,0.0,0.0,0.0,0.0,0.0,0.0,0.0,0.0,0.0,0.0,0.0,0.0,0.0,0.0,0.0,0.0,0.0,0.0,0.0,0.0,0.0,0.0,0.0,0.0,0.0,0.0,0.0,0.0,0.0,0.0,0.0,0.0,0.0,0.0,0.0,0.0,0.0,0.0,0.0,0.0,0.0,0.0,0.0,0.0,0.0,0.0,0.0,0.0,0.0,0.0,0.0,0.0,0.0,0.0,0.0,0.0,0.0,0.0,0.0,0.0,0.0,0.0,0.0,0.0,0.0,0.0,0.0,0.0,0.0,0.0,0.0,0.0,0.0,0.0,0.0,0.0,0.0,0.0,0.0,0.0,0.0,0.0,0.0,0.0,0.0,0.0,0.0,0.0,0.0,0.0,0.0,0.0,0.0,0.0,0.0,0.0,0.0,0.0,0.0,0.0,0.0,0.0,0.0,0.0,0.0,0.0,0.0,0.0,0.0,0.0,0.0,0.0,0.0,0.0,0.0,0.0,0.0,0.0,0.0,0.0,0.0,0.0,0.0,0.0,0.0,0.0,0.0,0.0,0.0,0.0,0.0,0.0,0.0],\"xaxis\":\"x2\",\"yaxis\":\"y2\",\"type\":\"box\"},{\"alignmentgroup\":\"True\",\"bingroup\":\"x\",\"hovertemplate\":\"variable=Fe<br>value=%{x}<br>count=%{y}<extra></extra>\",\"legendgroup\":\"Fe\",\"marker\":{\"color\":\"#FF97FF\",\"pattern\":{\"shape\":\"\"}},\"name\":\"Fe\",\"offsetgroup\":\"Fe\",\"orientation\":\"v\",\"showlegend\":true,\"x\":[0.0,0.0,0.0,0.0,0.0,0.0,0.0,0.0,0.11,0.24,0.0,0.24,0.17,0.0,0.0,0.0,0.0,0.0,0.07,0.19,0.0,0.0,0.0,0.0,0.0,0.0,0.0,0.0,0.14,0.0,0.06,0.0,0.0,0.0,0.0,0.0,0.0,0.0,0.0,0.16,0.0,0.0,0.11,0.0,0.0,0.09,0.24,0.0,0.0,0.11,0.0,0.11,0.0,0.07,0.0,0.17,0.17,0.16,0.03,0.12,0.0,0.0,0.0,0.0,0.0,0.0,0.14,0.0,0.0,0.0,0.0,0.09,0.0,0.0,0.0,0.1,0.0,0.09,0.22,0.0,0.19,0.0,0.0,0.0,0.15,0.24,0.0,0.0,0.2,0.14,0.0,0.0,0.1,0.0,0.0,0.0,0.21,0.0,0.0,0.0,0.12,0.0,0.17,0.18,0.0,0.15,0.0,0.12,0.0,0.0,0.0,0.0,0.0,0.24,0.0,0.0,0.1,0.0,0.17,0.0,0.0,0.0,0.0,0.0,0.0,0.0,0.0,0.09,0.0,0.0,0.0,0.0,0.0,0.0,0.0,0.0],\"xaxis\":\"x\",\"yaxis\":\"y\",\"type\":\"histogram\"},{\"alignmentgroup\":\"True\",\"hovertemplate\":\"variable=Fe<br>value=%{x}<extra></extra>\",\"legendgroup\":\"Fe\",\"marker\":{\"color\":\"#FF97FF\"},\"name\":\"Fe\",\"notched\":true,\"offsetgroup\":\"Fe\",\"showlegend\":false,\"x\":[0.0,0.0,0.0,0.0,0.0,0.0,0.0,0.0,0.11,0.24,0.0,0.24,0.17,0.0,0.0,0.0,0.0,0.0,0.07,0.19,0.0,0.0,0.0,0.0,0.0,0.0,0.0,0.0,0.14,0.0,0.06,0.0,0.0,0.0,0.0,0.0,0.0,0.0,0.0,0.16,0.0,0.0,0.11,0.0,0.0,0.09,0.24,0.0,0.0,0.11,0.0,0.11,0.0,0.07,0.0,0.17,0.17,0.16,0.03,0.12,0.0,0.0,0.0,0.0,0.0,0.0,0.14,0.0,0.0,0.0,0.0,0.09,0.0,0.0,0.0,0.1,0.0,0.09,0.22,0.0,0.19,0.0,0.0,0.0,0.15,0.24,0.0,0.0,0.2,0.14,0.0,0.0,0.1,0.0,0.0,0.0,0.21,0.0,0.0,0.0,0.12,0.0,0.17,0.18,0.0,0.15,0.0,0.12,0.0,0.0,0.0,0.0,0.0,0.24,0.0,0.0,0.1,0.0,0.17,0.0,0.0,0.0,0.0,0.0,0.0,0.0,0.0,0.09,0.0,0.0,0.0,0.0,0.0,0.0,0.0,0.0],\"xaxis\":\"x2\",\"yaxis\":\"y2\",\"type\":\"box\"},{\"alignmentgroup\":\"True\",\"bingroup\":\"x\",\"hovertemplate\":\"variable=Type<br>value=%{x}<br>count=%{y}<extra></extra>\",\"legendgroup\":\"Type\",\"marker\":{\"color\":\"#FECB52\",\"pattern\":{\"shape\":\"\"}},\"name\":\"Type\",\"offsetgroup\":\"Type\",\"orientation\":\"v\",\"showlegend\":true,\"x\":[1.0,1.0,1.0,1.0,1.0,1.0,1.0,1.0,1.0,1.0,1.0,1.0,1.0,1.0,1.0,1.0,1.0,1.0,1.0,1.0,1.0,1.0,1.0,1.0,1.0,1.0,1.0,1.0,1.0,1.0,1.0,1.0,1.0,1.0,1.0,1.0,1.0,1.0,1.0,1.0,1.0,1.0,1.0,1.0,1.0,1.0,1.0,1.0,1.0,1.0,1.0,1.0,1.0,1.0,1.0,1.0,1.0,1.0,1.0,2.0,2.0,2.0,2.0,2.0,2.0,2.0,2.0,2.0,2.0,2.0,2.0,2.0,2.0,2.0,2.0,2.0,2.0,2.0,2.0,2.0,2.0,2.0,2.0,2.0,2.0,2.0,2.0,2.0,2.0,2.0,2.0,2.0,2.0,2.0,2.0,2.0,2.0,2.0,2.0,2.0,2.0,2.0,2.0,2.0,2.0,2.0,2.0,2.0,2.0,2.0,2.0,2.0,2.0,2.0,3.0,3.0,3.0,3.0,3.0,3.0,3.0,3.0,3.0,3.0,3.0,3.0,3.0,3.0,3.0,5.0,5.0,6.0,6.0,6.0,6.0,6.0],\"xaxis\":\"x\",\"yaxis\":\"y\",\"type\":\"histogram\"},{\"alignmentgroup\":\"True\",\"hovertemplate\":\"variable=Type<br>value=%{x}<extra></extra>\",\"legendgroup\":\"Type\",\"marker\":{\"color\":\"#FECB52\"},\"name\":\"Type\",\"notched\":true,\"offsetgroup\":\"Type\",\"showlegend\":false,\"x\":[1.0,1.0,1.0,1.0,1.0,1.0,1.0,1.0,1.0,1.0,1.0,1.0,1.0,1.0,1.0,1.0,1.0,1.0,1.0,1.0,1.0,1.0,1.0,1.0,1.0,1.0,1.0,1.0,1.0,1.0,1.0,1.0,1.0,1.0,1.0,1.0,1.0,1.0,1.0,1.0,1.0,1.0,1.0,1.0,1.0,1.0,1.0,1.0,1.0,1.0,1.0,1.0,1.0,1.0,1.0,1.0,1.0,1.0,1.0,2.0,2.0,2.0,2.0,2.0,2.0,2.0,2.0,2.0,2.0,2.0,2.0,2.0,2.0,2.0,2.0,2.0,2.0,2.0,2.0,2.0,2.0,2.0,2.0,2.0,2.0,2.0,2.0,2.0,2.0,2.0,2.0,2.0,2.0,2.0,2.0,2.0,2.0,2.0,2.0,2.0,2.0,2.0,2.0,2.0,2.0,2.0,2.0,2.0,2.0,2.0,2.0,2.0,2.0,2.0,3.0,3.0,3.0,3.0,3.0,3.0,3.0,3.0,3.0,3.0,3.0,3.0,3.0,3.0,3.0,5.0,5.0,6.0,6.0,6.0,6.0,6.0],\"xaxis\":\"x2\",\"yaxis\":\"y2\",\"type\":\"box\"}],                        {\"template\":{\"data\":{\"histogram2dcontour\":[{\"type\":\"histogram2dcontour\",\"colorbar\":{\"outlinewidth\":0,\"ticks\":\"\"},\"colorscale\":[[0.0,\"#0d0887\"],[0.1111111111111111,\"#46039f\"],[0.2222222222222222,\"#7201a8\"],[0.3333333333333333,\"#9c179e\"],[0.4444444444444444,\"#bd3786\"],[0.5555555555555556,\"#d8576b\"],[0.6666666666666666,\"#ed7953\"],[0.7777777777777778,\"#fb9f3a\"],[0.8888888888888888,\"#fdca26\"],[1.0,\"#f0f921\"]]}],\"choropleth\":[{\"type\":\"choropleth\",\"colorbar\":{\"outlinewidth\":0,\"ticks\":\"\"}}],\"histogram2d\":[{\"type\":\"histogram2d\",\"colorbar\":{\"outlinewidth\":0,\"ticks\":\"\"},\"colorscale\":[[0.0,\"#0d0887\"],[0.1111111111111111,\"#46039f\"],[0.2222222222222222,\"#7201a8\"],[0.3333333333333333,\"#9c179e\"],[0.4444444444444444,\"#bd3786\"],[0.5555555555555556,\"#d8576b\"],[0.6666666666666666,\"#ed7953\"],[0.7777777777777778,\"#fb9f3a\"],[0.8888888888888888,\"#fdca26\"],[1.0,\"#f0f921\"]]}],\"heatmap\":[{\"type\":\"heatmap\",\"colorbar\":{\"outlinewidth\":0,\"ticks\":\"\"},\"colorscale\":[[0.0,\"#0d0887\"],[0.1111111111111111,\"#46039f\"],[0.2222222222222222,\"#7201a8\"],[0.3333333333333333,\"#9c179e\"],[0.4444444444444444,\"#bd3786\"],[0.5555555555555556,\"#d8576b\"],[0.6666666666666666,\"#ed7953\"],[0.7777777777777778,\"#fb9f3a\"],[0.8888888888888888,\"#fdca26\"],[1.0,\"#f0f921\"]]}],\"heatmapgl\":[{\"type\":\"heatmapgl\",\"colorbar\":{\"outlinewidth\":0,\"ticks\":\"\"},\"colorscale\":[[0.0,\"#0d0887\"],[0.1111111111111111,\"#46039f\"],[0.2222222222222222,\"#7201a8\"],[0.3333333333333333,\"#9c179e\"],[0.4444444444444444,\"#bd3786\"],[0.5555555555555556,\"#d8576b\"],[0.6666666666666666,\"#ed7953\"],[0.7777777777777778,\"#fb9f3a\"],[0.8888888888888888,\"#fdca26\"],[1.0,\"#f0f921\"]]}],\"contourcarpet\":[{\"type\":\"contourcarpet\",\"colorbar\":{\"outlinewidth\":0,\"ticks\":\"\"}}],\"contour\":[{\"type\":\"contour\",\"colorbar\":{\"outlinewidth\":0,\"ticks\":\"\"},\"colorscale\":[[0.0,\"#0d0887\"],[0.1111111111111111,\"#46039f\"],[0.2222222222222222,\"#7201a8\"],[0.3333333333333333,\"#9c179e\"],[0.4444444444444444,\"#bd3786\"],[0.5555555555555556,\"#d8576b\"],[0.6666666666666666,\"#ed7953\"],[0.7777777777777778,\"#fb9f3a\"],[0.8888888888888888,\"#fdca26\"],[1.0,\"#f0f921\"]]}],\"surface\":[{\"type\":\"surface\",\"colorbar\":{\"outlinewidth\":0,\"ticks\":\"\"},\"colorscale\":[[0.0,\"#0d0887\"],[0.1111111111111111,\"#46039f\"],[0.2222222222222222,\"#7201a8\"],[0.3333333333333333,\"#9c179e\"],[0.4444444444444444,\"#bd3786\"],[0.5555555555555556,\"#d8576b\"],[0.6666666666666666,\"#ed7953\"],[0.7777777777777778,\"#fb9f3a\"],[0.8888888888888888,\"#fdca26\"],[1.0,\"#f0f921\"]]}],\"mesh3d\":[{\"type\":\"mesh3d\",\"colorbar\":{\"outlinewidth\":0,\"ticks\":\"\"}}],\"scatter\":[{\"fillpattern\":{\"fillmode\":\"overlay\",\"size\":10,\"solidity\":0.2},\"type\":\"scatter\"}],\"parcoords\":[{\"type\":\"parcoords\",\"line\":{\"colorbar\":{\"outlinewidth\":0,\"ticks\":\"\"}}}],\"scatterpolargl\":[{\"type\":\"scatterpolargl\",\"marker\":{\"colorbar\":{\"outlinewidth\":0,\"ticks\":\"\"}}}],\"bar\":[{\"error_x\":{\"color\":\"#2a3f5f\"},\"error_y\":{\"color\":\"#2a3f5f\"},\"marker\":{\"line\":{\"color\":\"#E5ECF6\",\"width\":0.5},\"pattern\":{\"fillmode\":\"overlay\",\"size\":10,\"solidity\":0.2}},\"type\":\"bar\"}],\"scattergeo\":[{\"type\":\"scattergeo\",\"marker\":{\"colorbar\":{\"outlinewidth\":0,\"ticks\":\"\"}}}],\"scatterpolar\":[{\"type\":\"scatterpolar\",\"marker\":{\"colorbar\":{\"outlinewidth\":0,\"ticks\":\"\"}}}],\"histogram\":[{\"marker\":{\"pattern\":{\"fillmode\":\"overlay\",\"size\":10,\"solidity\":0.2}},\"type\":\"histogram\"}],\"scattergl\":[{\"type\":\"scattergl\",\"marker\":{\"colorbar\":{\"outlinewidth\":0,\"ticks\":\"\"}}}],\"scatter3d\":[{\"type\":\"scatter3d\",\"line\":{\"colorbar\":{\"outlinewidth\":0,\"ticks\":\"\"}},\"marker\":{\"colorbar\":{\"outlinewidth\":0,\"ticks\":\"\"}}}],\"scattermapbox\":[{\"type\":\"scattermapbox\",\"marker\":{\"colorbar\":{\"outlinewidth\":0,\"ticks\":\"\"}}}],\"scatterternary\":[{\"type\":\"scatterternary\",\"marker\":{\"colorbar\":{\"outlinewidth\":0,\"ticks\":\"\"}}}],\"scattercarpet\":[{\"type\":\"scattercarpet\",\"marker\":{\"colorbar\":{\"outlinewidth\":0,\"ticks\":\"\"}}}],\"carpet\":[{\"aaxis\":{\"endlinecolor\":\"#2a3f5f\",\"gridcolor\":\"white\",\"linecolor\":\"white\",\"minorgridcolor\":\"white\",\"startlinecolor\":\"#2a3f5f\"},\"baxis\":{\"endlinecolor\":\"#2a3f5f\",\"gridcolor\":\"white\",\"linecolor\":\"white\",\"minorgridcolor\":\"white\",\"startlinecolor\":\"#2a3f5f\"},\"type\":\"carpet\"}],\"table\":[{\"cells\":{\"fill\":{\"color\":\"#EBF0F8\"},\"line\":{\"color\":\"white\"}},\"header\":{\"fill\":{\"color\":\"#C8D4E3\"},\"line\":{\"color\":\"white\"}},\"type\":\"table\"}],\"barpolar\":[{\"marker\":{\"line\":{\"color\":\"#E5ECF6\",\"width\":0.5},\"pattern\":{\"fillmode\":\"overlay\",\"size\":10,\"solidity\":0.2}},\"type\":\"barpolar\"}],\"pie\":[{\"automargin\":true,\"type\":\"pie\"}]},\"layout\":{\"autotypenumbers\":\"strict\",\"colorway\":[\"#636efa\",\"#EF553B\",\"#00cc96\",\"#ab63fa\",\"#FFA15A\",\"#19d3f3\",\"#FF6692\",\"#B6E880\",\"#FF97FF\",\"#FECB52\"],\"font\":{\"color\":\"#2a3f5f\"},\"hovermode\":\"closest\",\"hoverlabel\":{\"align\":\"left\"},\"paper_bgcolor\":\"white\",\"plot_bgcolor\":\"#E5ECF6\",\"polar\":{\"bgcolor\":\"#E5ECF6\",\"angularaxis\":{\"gridcolor\":\"white\",\"linecolor\":\"white\",\"ticks\":\"\"},\"radialaxis\":{\"gridcolor\":\"white\",\"linecolor\":\"white\",\"ticks\":\"\"}},\"ternary\":{\"bgcolor\":\"#E5ECF6\",\"aaxis\":{\"gridcolor\":\"white\",\"linecolor\":\"white\",\"ticks\":\"\"},\"baxis\":{\"gridcolor\":\"white\",\"linecolor\":\"white\",\"ticks\":\"\"},\"caxis\":{\"gridcolor\":\"white\",\"linecolor\":\"white\",\"ticks\":\"\"}},\"coloraxis\":{\"colorbar\":{\"outlinewidth\":0,\"ticks\":\"\"}},\"colorscale\":{\"sequential\":[[0.0,\"#0d0887\"],[0.1111111111111111,\"#46039f\"],[0.2222222222222222,\"#7201a8\"],[0.3333333333333333,\"#9c179e\"],[0.4444444444444444,\"#bd3786\"],[0.5555555555555556,\"#d8576b\"],[0.6666666666666666,\"#ed7953\"],[0.7777777777777778,\"#fb9f3a\"],[0.8888888888888888,\"#fdca26\"],[1.0,\"#f0f921\"]],\"sequentialminus\":[[0.0,\"#0d0887\"],[0.1111111111111111,\"#46039f\"],[0.2222222222222222,\"#7201a8\"],[0.3333333333333333,\"#9c179e\"],[0.4444444444444444,\"#bd3786\"],[0.5555555555555556,\"#d8576b\"],[0.6666666666666666,\"#ed7953\"],[0.7777777777777778,\"#fb9f3a\"],[0.8888888888888888,\"#fdca26\"],[1.0,\"#f0f921\"]],\"diverging\":[[0,\"#8e0152\"],[0.1,\"#c51b7d\"],[0.2,\"#de77ae\"],[0.3,\"#f1b6da\"],[0.4,\"#fde0ef\"],[0.5,\"#f7f7f7\"],[0.6,\"#e6f5d0\"],[0.7,\"#b8e186\"],[0.8,\"#7fbc41\"],[0.9,\"#4d9221\"],[1,\"#276419\"]]},\"xaxis\":{\"gridcolor\":\"white\",\"linecolor\":\"white\",\"ticks\":\"\",\"title\":{\"standoff\":15},\"zerolinecolor\":\"white\",\"automargin\":true,\"zerolinewidth\":2},\"yaxis\":{\"gridcolor\":\"white\",\"linecolor\":\"white\",\"ticks\":\"\",\"title\":{\"standoff\":15},\"zerolinecolor\":\"white\",\"automargin\":true,\"zerolinewidth\":2},\"scene\":{\"xaxis\":{\"backgroundcolor\":\"#E5ECF6\",\"gridcolor\":\"white\",\"linecolor\":\"white\",\"showbackground\":true,\"ticks\":\"\",\"zerolinecolor\":\"white\",\"gridwidth\":2},\"yaxis\":{\"backgroundcolor\":\"#E5ECF6\",\"gridcolor\":\"white\",\"linecolor\":\"white\",\"showbackground\":true,\"ticks\":\"\",\"zerolinecolor\":\"white\",\"gridwidth\":2},\"zaxis\":{\"backgroundcolor\":\"#E5ECF6\",\"gridcolor\":\"white\",\"linecolor\":\"white\",\"showbackground\":true,\"ticks\":\"\",\"zerolinecolor\":\"white\",\"gridwidth\":2}},\"shapedefaults\":{\"line\":{\"color\":\"#2a3f5f\"}},\"annotationdefaults\":{\"arrowcolor\":\"#2a3f5f\",\"arrowhead\":0,\"arrowwidth\":1},\"geo\":{\"bgcolor\":\"white\",\"landcolor\":\"#E5ECF6\",\"subunitcolor\":\"white\",\"showland\":true,\"showlakes\":true,\"lakecolor\":\"white\"},\"title\":{\"x\":0.05},\"mapbox\":{\"style\":\"light\"}}},\"xaxis\":{\"anchor\":\"y\",\"domain\":[0.0,1.0],\"title\":{\"text\":\"value\"}},\"yaxis\":{\"anchor\":\"x\",\"domain\":[0.0,0.7326],\"title\":{\"text\":\"count\"}},\"xaxis2\":{\"anchor\":\"y2\",\"domain\":[0.0,1.0],\"matches\":\"x\",\"showticklabels\":false,\"showgrid\":true},\"yaxis2\":{\"anchor\":\"x2\",\"domain\":[0.7426,1.0],\"matches\":\"y2\",\"showticklabels\":false,\"showline\":false,\"ticks\":\"\",\"showgrid\":false},\"legend\":{\"title\":{\"text\":\"variable\"},\"tracegroupgap\":0},\"title\":{\"text\":\"Distribution of Features\"},\"barmode\":\"overlay\"},                        {\"responsive\": true}                    ).then(function(){\n",
       "                            \n",
       "var gd = document.getElementById('364090a6-8ab0-474c-9ad3-822036d8bb06');\n",
       "var x = new MutationObserver(function (mutations, observer) {{\n",
       "        var display = window.getComputedStyle(gd).display;\n",
       "        if (!display || display === 'none') {{\n",
       "            console.log([gd, 'removed!']);\n",
       "            Plotly.purge(gd);\n",
       "            observer.disconnect();\n",
       "        }}\n",
       "}});\n",
       "\n",
       "// Listen for the removal of the full notebook cells\n",
       "var notebookContainer = gd.closest('#notebook-container');\n",
       "if (notebookContainer) {{\n",
       "    x.observe(notebookContainer, {childList: true});\n",
       "}}\n",
       "\n",
       "// Listen for the clearing of the current output cell\n",
       "var outputEl = gd.closest('.output');\n",
       "if (outputEl) {{\n",
       "    x.observe(outputEl, {childList: true});\n",
       "}}\n",
       "\n",
       "                        })                };                });            </script>        </div>"
      ]
     },
     "metadata": {},
     "output_type": "display_data"
    }
   ],
   "source": [
    "# Visualize the distribution of each feature using histograms\n",
    "\n",
    "fig = px.histogram(df, x=df.columns, marginal=\"box\", title='Distribution of Features')\n",
    "fig.update_layout(barmode='overlay')\n",
    "fig.show()\n"
   ]
  },
  {
   "cell_type": "code",
   "execution_count": 36,
   "id": "61633193-dffc-48c9-bbbb-67958b309063",
   "metadata": {
    "scrolled": true
   },
   "outputs": [
    {
     "data": {
      "image/png": "[encoded data removed]",
      "text/plain": [
       "<Figure size 1000x800 with 2 Axes>"
      ]
     },
     "metadata": {},
     "output_type": "display_data"
    }
   ],
   "source": [
    "# Visualize the correlation matrix using a heatmap\n",
    "\n",
    "\n",
    "corr_matrix = df.corr()\n",
    "plt.figure(figsize=(10, 8))\n",
    "sns.heatmap(corr_matrix, cmap='viridis', annot=True)\n",
    "plt.title('Correlation Matrix Heatmap')\n",
    "plt.show()\n",
    "\n"
   ]
  },
  {
   "cell_type": "markdown",
   "id": "de643f50-cc05-4fec-b453-a201907078ba",
   "metadata": {},
   "source": [
    "Heatmap:\n",
    "\n",
    "- Refractive index has a strong positive correlation with calcium and a moderate positive correlation with barium.\n",
    "\n",
    "- Aluminum and magnesium content exhibit a strong negative correlation.\n",
    "\n",
    "- Potassium content shows a strong negative correlation with calcium and barium."
   ]
  },
  {
   "cell_type": "code",
   "execution_count": 37,
   "id": "2bbf7a81-4fa8-4fbc-b593-b0fa51948d6f",
   "metadata": {},
   "outputs": [
    {
     "data": {
      "image/png": "[encoded data removed]",
      "text/plain": [
       "<Figure size 640x480 with 1 Axes>"
      ]
     },
     "metadata": {},
     "output_type": "display_data"
    }
   ],
   "source": [
    "# Scatter Plot to explore two dimensions at once\n",
    "\n",
    "\n",
    "sns.scatterplot(x='Mg', y='Al', hue='Type', data=df, palette='viridis')\n",
    "plt.title('Scatter Plot of Mg vs Al by Glass Type')\n",
    "plt.show()\n"
   ]
  },
  {
   "cell_type": "code",
   "execution_count": 38,
   "id": "6312fc07-e053-4369-8439-dc1f910a2a79",
   "metadata": {},
   "outputs": [
    {
     "data": {
      "application/vnd.plotly.v1+json": {
       "config": {
        "plotlyServerURL": "https://plot.ly"
       },
       "data": [
        {
         "alignmentgroup": "True",
         "hovertemplate": "Type=%{x}<br>RI=%{y}<extra></extra>",
         "legendgroup": "",
         "marker": {
          "color": "#636efa"
         },
         "name": "",
         "notched": false,
         "offsetgroup": "",
         "orientation": "v",
         "showlegend": false,
         "type": "box",
         "x": [
          1,
          1,
          1,
          1,
          1,
          1,
          1,
          1,
          1,
          1,
          1,
          1,
          1,
          1,
          1,
          1,
          1,
          1,
          1,
          1,
          1,
          1,
          1,
          1,
          1,
          1,
          1,
          1,
          1,
          1,
          1,
          1,
          1,
          1,
          1,
          1,
          1,
          1,
          1,
          1,
          1,
          1,
          1,
          1,
          1,
          1,
          1,
          1,
          1,
          1,
          1,
          1,
          1,
          1,
          1,
          1,
          1,
          1,
          1,
          1,
          1,
          1,
          1,
          1,
          1,
          1,
          1,
          1,
          1,
          1,
          2,
          2,
          2,
          2,
          2,
          2,
          2,
          2,
          2,
          2,
          2,
          2,
          2,
          2,
          2,
          2,
          2,
          2,
          2,
          2,
          2,
          2,
          2,
          2,
          2,
          2,
          2,
          2,
          2,
          2,
          2,
          2,
          2,
          2,
          2,
          2,
          2,
          2,
          2,
          2,
          2,
          2,
          2,
          2,
          2,
          2,
          2,
          2,
          2,
          2,
          2,
          2,
          2,
          2,
          2,
          2,
          2,
          2,
          2,
          2,
          2,
          2,
          2,
          2,
          2,
          2,
          2,
          2,
          2,
          2,
          2,
          2,
          2,
          2,
          2,
          2,
          3,
          3,
          3,
          3,
          3,
          3,
          3,
          3,
          3,
          3,
          3,
          3,
          3,
          3,
          3,
          3,
          3,
          5,
          5,
          5,
          5,
          5,
          5,
          5,
          5,
          5,
          5,
          5,
          5,
          5,
          6,
          6,
          6,
          6,
          6,
          6,
          6,
          6,
          6,
          7,
          7,
          7,
          7,
          7,
          7,
          7,
          7,
          7,
          7,
          7,
          7,
          7,
          7,
          7,
          7,
          7,
          7,
          7,
          7,
          7,
          7,
          7,
          7,
          7,
          7,
          7,
          7,
          7
         ],
         "x0": " ",
         "xaxis": "x",
         "y": [
          1.52101,
          1.51761,
          1.51618,
          1.51766,
          1.51742,
          1.51596,
          1.51743,
          1.51756,
          1.51918,
          1.51755,
          1.51571,
          1.51763,
          1.51589,
          1.51748,
          1.51763,
          1.51761,
          1.51784,
          1.52196,
          1.51911,
          1.51735,
          1.5175,
          1.51966,
          1.51736,
          1.51751,
          1.5172,
          1.51764,
          1.51793,
          1.51721,
          1.51768,
          1.51784,
          1.51768,
          1.51747,
          1.51775,
          1.51753,
          1.51783,
          1.51567,
          1.51909,
          1.51797,
          1.52213,
          1.52213,
          1.51793,
          1.51755,
          1.51779,
          1.5221,
          1.51786,
          1.519,
          1.51869,
          1.52667,
          1.52223,
          1.51898,
          1.5232,
          1.51926,
          1.51808,
          1.51837,
          1.51778,
          1.51769,
          1.51215,
          1.51824,
          1.51754,
          1.51754,
          1.51905,
          1.51977,
          1.52172,
          1.52227,
          1.52172,
          1.52099,
          1.52152,
          1.52152,
          1.52152,
          1.523,
          1.51574,
          1.51848,
          1.51593,
          1.51631,
          1.51596,
          1.5159,
          1.51645,
          1.51627,
          1.51613,
          1.5159,
          1.51592,
          1.51593,
          1.51646,
          1.51594,
          1.51409,
          1.51625,
          1.51569,
          1.51645,
          1.51618,
          1.5164,
          1.51841,
          1.51605,
          1.51588,
          1.5159,
          1.51629,
          1.5186,
          1.51841,
          1.51743,
          1.51689,
          1.51811,
          1.51655,
          1.5173,
          1.5182,
          1.52725,
          1.5241,
          1.52475,
          1.53125,
          1.53393,
          1.52222,
          1.51818,
          1.52664,
          1.52739,
          1.52777,
          1.51892,
          1.51847,
          1.51846,
          1.51829,
          1.51708,
          1.51673,
          1.51652,
          1.51844,
          1.51663,
          1.51687,
          1.51707,
          1.52177,
          1.51872,
          1.51667,
          1.52081,
          1.52068,
          1.5202,
          1.52177,
          1.52614,
          1.51813,
          1.518,
          1.51811,
          1.51789,
          1.51806,
          1.51711,
          1.51674,
          1.51674,
          1.5169,
          1.51851,
          1.51662,
          1.51709,
          1.5166,
          1.51839,
          1.51769,
          1.5161,
          1.5167,
          1.51643,
          1.51665,
          1.52127,
          1.51779,
          1.5161,
          1.51694,
          1.51646,
          1.51655,
          1.52121,
          1.51776,
          1.51796,
          1.51832,
          1.51934,
          1.52211,
          1.51514,
          1.51915,
          1.52171,
          1.52151,
          1.51969,
          1.51666,
          1.51994,
          1.52369,
          1.51316,
          1.51321,
          1.52043,
          1.52058,
          1.52119,
          1.51905,
          1.51937,
          1.51829,
          1.51852,
          1.51299,
          1.51888,
          1.51916,
          1.51969,
          1.51115,
          1.51131,
          1.51838,
          1.52315,
          1.52247,
          1.52365,
          1.51613,
          1.51602,
          1.51623,
          1.51719,
          1.51683,
          1.51545,
          1.51556,
          1.51727,
          1.51531,
          1.51609,
          1.51508,
          1.51653,
          1.51514,
          1.51658,
          1.51617,
          1.51732,
          1.51645,
          1.51831,
          1.5164,
          1.51623,
          1.51685,
          1.52065,
          1.51651,
          1.51711
         ],
         "y0": " ",
         "yaxis": "y"
        }
       ],
       "layout": {
        "boxmode": "group",
        "legend": {
         "tracegroupgap": 0
        },
        "template": {
         "data": {
          "bar": [
           {
            "error_x": {
             "color": "#2a3f5f"
            },
            "error_y": {
             "color": "#2a3f5f"
            },
            "marker": {
             "line": {
              "color": "#E5ECF6",
              "width": 0.5
             },
             "pattern": {
              "fillmode": "overlay",
              "size": 10,
              "solidity": 0.2
             }
            },
            "type": "bar"
           }
          ],
          "barpolar": [
           {
            "marker": {
             "line": {
              "color": "#E5ECF6",
              "width": 0.5
             },
             "pattern": {
              "fillmode": "overlay",
              "size": 10,
              "solidity": 0.2
             }
            },
            "type": "barpolar"
           }
          ],
          "carpet": [
           {
            "aaxis": {
             "endlinecolor": "#2a3f5f",
             "gridcolor": "white",
             "linecolor": "white",
             "minorgridcolor": "white",
             "startlinecolor": "#2a3f5f"
            },
            "baxis": {
             "endlinecolor": "#2a3f5f",
             "gridcolor": "white",
             "linecolor": "white",
             "minorgridcolor": "white",
             "startlinecolor": "#2a3f5f"
            },
            "type": "carpet"
           }
          ],
          "choropleth": [
           {
            "colorbar": {
             "outlinewidth": 0,
             "ticks": ""
            },
            "type": "choropleth"
           }
          ],
          "contour": [
           {
            "colorbar": {
             "outlinewidth": 0,
             "ticks": ""
            },
            "colorscale": [
             [
              0,
              "#0d0887"
             ],
             [
              0.1111111111111111,
              "#46039f"
             ],
             [
              0.2222222222222222,
              "#7201a8"
             ],
             [
              0.3333333333333333,
              "#9c179e"
             ],
             [
              0.4444444444444444,
              "#bd3786"
             ],
             [
              0.5555555555555556,
              "#d8576b"
             ],
             [
              0.6666666666666666,
              "#ed7953"
             ],
             [
              0.7777777777777778,
              "#fb9f3a"
             ],
             [
              0.8888888888888888,
              "#fdca26"
             ],
             [
              1,
              "#f0f921"
             ]
            ],
            "type": "contour"
           }
          ],
          "contourcarpet": [
           {
            "colorbar": {
             "outlinewidth": 0,
             "ticks": ""
            },
            "type": "contourcarpet"
           }
          ],
          "heatmap": [
           {
            "colorbar": {
             "outlinewidth": 0,
             "ticks": ""
            },
            "colorscale": [
             [
              0,
              "#0d0887"
             ],
             [
              0.1111111111111111,
              "#46039f"
             ],
             [
              0.2222222222222222,
              "#7201a8"
             ],
             [
              0.3333333333333333,
              "#9c179e"
             ],
             [
              0.4444444444444444,
              "#bd3786"
             ],
             [
              0.5555555555555556,
              "#d8576b"
             ],
             [
              0.6666666666666666,
              "#ed7953"
             ],
             [
              0.7777777777777778,
              "#fb9f3a"
             ],
             [
              0.8888888888888888,
              "#fdca26"
             ],
             [
              1,
              "#f0f921"
             ]
            ],
            "type": "heatmap"
           }
          ],
          "heatmapgl": [
           {
            "colorbar": {
             "outlinewidth": 0,
             "ticks": ""
            },
            "colorscale": [
             [
              0,
              "#0d0887"
             ],
             [
              0.1111111111111111,
              "#46039f"
             ],
             [
              0.2222222222222222,
              "#7201a8"
             ],
             [
              0.3333333333333333,
              "#9c179e"
             ],
             [
              0.4444444444444444,
              "#bd3786"
             ],
             [
              0.5555555555555556,
              "#d8576b"
             ],
             [
              0.6666666666666666,
              "#ed7953"
             ],
             [
              0.7777777777777778,
              "#fb9f3a"
             ],
             [
              0.8888888888888888,
              "#fdca26"
             ],
             [
              1,
              "#f0f921"
             ]
            ],
            "type": "heatmapgl"
           }
          ],
          "histogram": [
           {
            "marker": {
             "pattern": {
              "fillmode": "overlay",
              "size": 10,
              "solidity": 0.2
             }
            },
            "type": "histogram"
           }
          ],
          "histogram2d": [
           {
            "colorbar": {
             "outlinewidth": 0,
             "ticks": ""
            },
            "colorscale": [
             [
              0,
              "#0d0887"
             ],
             [
              0.1111111111111111,
              "#46039f"
             ],
             [
              0.2222222222222222,
              "#7201a8"
             ],
             [
              0.3333333333333333,
              "#9c179e"
             ],
             [
              0.4444444444444444,
              "#bd3786"
             ],
             [
              0.5555555555555556,
              "#d8576b"
             ],
             [
              0.6666666666666666,
              "#ed7953"
             ],
             [
              0.7777777777777778,
              "#fb9f3a"
             ],
             [
              0.8888888888888888,
              "#fdca26"
             ],
             [
              1,
              "#f0f921"
             ]
            ],
            "type": "histogram2d"
           }
          ],
          "histogram2dcontour": [
           {
            "colorbar": {
             "outlinewidth": 0,
             "ticks": ""
            },
            "colorscale": [
             [
              0,
              "#0d0887"
             ],
             [
              0.1111111111111111,
              "#46039f"
             ],
             [
              0.2222222222222222,
              "#7201a8"
             ],
             [
              0.3333333333333333,
              "#9c179e"
             ],
             [
              0.4444444444444444,
              "#bd3786"
             ],
             [
              0.5555555555555556,
              "#d8576b"
             ],
             [
              0.6666666666666666,
              "#ed7953"
             ],
             [
              0.7777777777777778,
              "#fb9f3a"
             ],
             [
              0.8888888888888888,
              "#fdca26"
             ],
             [
              1,
              "#f0f921"
             ]
            ],
            "type": "histogram2dcontour"
           }
          ],
          "mesh3d": [
           {
            "colorbar": {
             "outlinewidth": 0,
             "ticks": ""
            },
            "type": "mesh3d"
           }
          ],
          "parcoords": [
           {
            "line": {
             "colorbar": {
              "outlinewidth": 0,
              "ticks": ""
             }
            },
            "type": "parcoords"
           }
          ],
          "pie": [
           {
            "automargin": true,
            "type": "pie"
           }
          ],
          "scatter": [
           {
            "fillpattern": {
             "fillmode": "overlay",
             "size": 10,
             "solidity": 0.2
            },
            "type": "scatter"
           }
          ],
          "scatter3d": [
           {
            "line": {
             "colorbar": {
              "outlinewidth": 0,
              "ticks": ""
             }
            },
            "marker": {
             "colorbar": {
              "outlinewidth": 0,
              "ticks": ""
             }
            },
            "type": "scatter3d"
           }
          ],
          "scattercarpet": [
           {
            "marker": {
             "colorbar": {
              "outlinewidth": 0,
              "ticks": ""
             }
            },
            "type": "scattercarpet"
           }
          ],
          "scattergeo": [
           {
            "marker": {
             "colorbar": {
              "outlinewidth": 0,
              "ticks": ""
             }
            },
            "type": "scattergeo"
           }
          ],
          "scattergl": [
           {
            "marker": {
             "colorbar": {
              "outlinewidth": 0,
              "ticks": ""
             }
            },
            "type": "scattergl"
           }
          ],
          "scattermapbox": [
           {
            "marker": {
             "colorbar": {
              "outlinewidth": 0,
              "ticks": ""
             }
            },
            "type": "scattermapbox"
           }
          ],
          "scatterpolar": [
           {
            "marker": {
             "colorbar": {
              "outlinewidth": 0,
              "ticks": ""
             }
            },
            "type": "scatterpolar"
           }
          ],
          "scatterpolargl": [
           {
            "marker": {
             "colorbar": {
              "outlinewidth": 0,
              "ticks": ""
             }
            },
            "type": "scatterpolargl"
           }
          ],
          "scatterternary": [
           {
            "marker": {
             "colorbar": {
              "outlinewidth": 0,
              "ticks": ""
             }
            },
            "type": "scatterternary"
           }
          ],
          "surface": [
           {
            "colorbar": {
             "outlinewidth": 0,
             "ticks": ""
            },
            "colorscale": [
             [
              0,
              "#0d0887"
             ],
             [
              0.1111111111111111,
              "#46039f"
             ],
             [
              0.2222222222222222,
              "#7201a8"
             ],
             [
              0.3333333333333333,
              "#9c179e"
             ],
             [
              0.4444444444444444,
              "#bd3786"
             ],
             [
              0.5555555555555556,
              "#d8576b"
             ],
             [
              0.6666666666666666,
              "#ed7953"
             ],
             [
              0.7777777777777778,
              "#fb9f3a"
             ],
             [
              0.8888888888888888,
              "#fdca26"
             ],
             [
              1,
              "#f0f921"
             ]
            ],
            "type": "surface"
           }
          ],
          "table": [
           {
            "cells": {
             "fill": {
              "color": "#EBF0F8"
             },
             "line": {
              "color": "white"
             }
            },
            "header": {
             "fill": {
              "color": "#C8D4E3"
             },
             "line": {
              "color": "white"
             }
            },
            "type": "table"
           }
          ]
         },
         "layout": {
          "annotationdefaults": {
           "arrowcolor": "#2a3f5f",
           "arrowhead": 0,
           "arrowwidth": 1
          },
          "autotypenumbers": "strict",
          "coloraxis": {
           "colorbar": {
            "outlinewidth": 0,
            "ticks": ""
           }
          },
          "colorscale": {
           "diverging": [
            [
             0,
             "#8e0152"
            ],
            [
             0.1,
             "#c51b7d"
            ],
            [
             0.2,
             "#de77ae"
            ],
            [
             0.3,
             "#f1b6da"
            ],
            [
             0.4,
             "#fde0ef"
            ],
            [
             0.5,
             "#f7f7f7"
            ],
            [
             0.6,
             "#e6f5d0"
            ],
            [
             0.7,
             "#b8e186"
            ],
            [
             0.8,
             "#7fbc41"
            ],
            [
             0.9,
             "#4d9221"
            ],
            [
             1,
             "#276419"
            ]
           ],
           "sequential": [
            [
             0,
             "#0d0887"
            ],
            [
             0.1111111111111111,
             "#46039f"
            ],
            [
             0.2222222222222222,
             "#7201a8"
            ],
            [
             0.3333333333333333,
             "#9c179e"
            ],
            [
             0.4444444444444444,
             "#bd3786"
            ],
            [
             0.5555555555555556,
             "#d8576b"
            ],
            [
             0.6666666666666666,
             "#ed7953"
            ],
            [
             0.7777777777777778,
             "#fb9f3a"
            ],
            [
             0.8888888888888888,
             "#fdca26"
            ],
            [
             1,
             "#f0f921"
            ]
           ],
           "sequentialminus": [
            [
             0,
             "#0d0887"
            ],
            [
             0.1111111111111111,
             "#46039f"
            ],
            [
             0.2222222222222222,
             "#7201a8"
            ],
            [
             0.3333333333333333,
             "#9c179e"
            ],
            [
             0.4444444444444444,
             "#bd3786"
            ],
            [
             0.5555555555555556,
             "#d8576b"
            ],
            [
             0.6666666666666666,
             "#ed7953"
            ],
            [
             0.7777777777777778,
             "#fb9f3a"
            ],
            [
             0.8888888888888888,
             "#fdca26"
            ],
            [
             1,
             "#f0f921"
            ]
           ]
          },
          "colorway": [
           "#636efa",
           "#EF553B",
           "#00cc96",
           "#ab63fa",
           "#FFA15A",
           "#19d3f3",
           "#FF6692",
           "#B6E880",
           "#FF97FF",
           "#FECB52"
          ],
          "font": {
           "color": "#2a3f5f"
          },
          "geo": {
           "bgcolor": "white",
           "lakecolor": "white",
           "landcolor": "#E5ECF6",
           "showlakes": true,
           "showland": true,
           "subunitcolor": "white"
          },
          "hoverlabel": {
           "align": "left"
          },
          "hovermode": "closest",
          "mapbox": {
           "style": "light"
          },
          "paper_bgcolor": "white",
          "plot_bgcolor": "#E5ECF6",
          "polar": {
           "angularaxis": {
            "gridcolor": "white",
            "linecolor": "white",
            "ticks": ""
           },
           "bgcolor": "#E5ECF6",
           "radialaxis": {
            "gridcolor": "white",
            "linecolor": "white",
            "ticks": ""
           }
          },
          "scene": {
           "xaxis": {
            "backgroundcolor": "#E5ECF6",
            "gridcolor": "white",
            "gridwidth": 2,
            "linecolor": "white",
            "showbackground": true,
            "ticks": "",
            "zerolinecolor": "white"
           },
           "yaxis": {
            "backgroundcolor": "#E5ECF6",
            "gridcolor": "white",
            "gridwidth": 2,
            "linecolor": "white",
            "showbackground": true,
            "ticks": "",
            "zerolinecolor": "white"
           },
           "zaxis": {
            "backgroundcolor": "#E5ECF6",
            "gridcolor": "white",
            "gridwidth": 2,
            "linecolor": "white",
            "showbackground": true,
            "ticks": "",
            "zerolinecolor": "white"
           }
          },
          "shapedefaults": {
           "line": {
            "color": "#2a3f5f"
           }
          },
          "ternary": {
           "aaxis": {
            "gridcolor": "white",
            "linecolor": "white",
            "ticks": ""
           },
           "baxis": {
            "gridcolor": "white",
            "linecolor": "white",
            "ticks": ""
           },
           "bgcolor": "#E5ECF6",
           "caxis": {
            "gridcolor": "white",
            "linecolor": "white",
            "ticks": ""
           }
          },
          "title": {
           "x": 0.05
          },
          "xaxis": {
           "automargin": true,
           "gridcolor": "white",
           "linecolor": "white",
           "ticks": "",
           "title": {
            "standoff": 15
           },
           "zerolinecolor": "white",
           "zerolinewidth": 2
          },
          "yaxis": {
           "automargin": true,
           "gridcolor": "white",
           "linecolor": "white",
           "ticks": "",
           "title": {
            "standoff": 15
           },
           "zerolinecolor": "white",
           "zerolinewidth": 2
          }
         }
        },
        "title": {
         "text": "Boxplot of Refractive Index by Glass Type"
        },
        "xaxis": {
         "anchor": "y",
         "domain": [
          0,
          1
         ],
         "title": {
          "text": "Type"
         }
        },
        "yaxis": {
         "anchor": "x",
         "domain": [
          0,
          1
         ],
         "title": {
          "text": "RI"
         }
        }
       }
      },
      "text/html": [
       "<div>                            <div id=\"3cf9844c-0e52-4c7b-a8a8-6ac1bf05b7e8\" class=\"plotly-graph-div\" style=\"height:525px; width:100%;\"></div>            <script type=\"text/javascript\">                require([\"plotly\"], function(Plotly) {                    window.PLOTLYENV=window.PLOTLYENV || {};                                    if (document.getElementById(\"3cf9844c-0e52-4c7b-a8a8-6ac1bf05b7e8\")) {                    Plotly.newPlot(                        \"3cf9844c-0e52-4c7b-a8a8-6ac1bf05b7e8\",                        [{\"alignmentgroup\":\"True\",\"hovertemplate\":\"Type=%{x}<br>RI=%{y}<extra></extra>\",\"legendgroup\":\"\",\"marker\":{\"color\":\"#636efa\"},\"name\":\"\",\"notched\":false,\"offsetgroup\":\"\",\"orientation\":\"v\",\"showlegend\":false,\"x\":[1,1,1,1,1,1,1,1,1,1,1,1,1,1,1,1,1,1,1,1,1,1,1,1,1,1,1,1,1,1,1,1,1,1,1,1,1,1,1,1,1,1,1,1,1,1,1,1,1,1,1,1,1,1,1,1,1,1,1,1,1,1,1,1,1,1,1,1,1,1,2,2,2,2,2,2,2,2,2,2,2,2,2,2,2,2,2,2,2,2,2,2,2,2,2,2,2,2,2,2,2,2,2,2,2,2,2,2,2,2,2,2,2,2,2,2,2,2,2,2,2,2,2,2,2,2,2,2,2,2,2,2,2,2,2,2,2,2,2,2,2,2,2,2,2,2,3,3,3,3,3,3,3,3,3,3,3,3,3,3,3,3,3,5,5,5,5,5,5,5,5,5,5,5,5,5,6,6,6,6,6,6,6,6,6,7,7,7,7,7,7,7,7,7,7,7,7,7,7,7,7,7,7,7,7,7,7,7,7,7,7,7,7,7],\"x0\":\" \",\"xaxis\":\"x\",\"y\":[1.52101,1.51761,1.51618,1.51766,1.51742,1.51596,1.51743,1.51756,1.51918,1.51755,1.51571,1.51763,1.51589,1.51748,1.51763,1.51761,1.51784,1.52196,1.51911,1.51735,1.5175,1.51966,1.51736,1.51751,1.5172,1.51764,1.51793,1.51721,1.51768,1.51784,1.51768,1.51747,1.51775,1.51753,1.51783,1.51567,1.51909,1.51797,1.52213,1.52213,1.51793,1.51755,1.51779,1.5221,1.51786,1.519,1.51869,1.52667,1.52223,1.51898,1.5232,1.51926,1.51808,1.51837,1.51778,1.51769,1.51215,1.51824,1.51754,1.51754,1.51905,1.51977,1.52172,1.52227,1.52172,1.52099,1.52152,1.52152,1.52152,1.523,1.51574,1.51848,1.51593,1.51631,1.51596,1.5159,1.51645,1.51627,1.51613,1.5159,1.51592,1.51593,1.51646,1.51594,1.51409,1.51625,1.51569,1.51645,1.51618,1.5164,1.51841,1.51605,1.51588,1.5159,1.51629,1.5186,1.51841,1.51743,1.51689,1.51811,1.51655,1.5173,1.5182,1.52725,1.5241,1.52475,1.53125,1.53393,1.52222,1.51818,1.52664,1.52739,1.52777,1.51892,1.51847,1.51846,1.51829,1.51708,1.51673,1.51652,1.51844,1.51663,1.51687,1.51707,1.52177,1.51872,1.51667,1.52081,1.52068,1.5202,1.52177,1.52614,1.51813,1.518,1.51811,1.51789,1.51806,1.51711,1.51674,1.51674,1.5169,1.51851,1.51662,1.51709,1.5166,1.51839,1.51769,1.5161,1.5167,1.51643,1.51665,1.52127,1.51779,1.5161,1.51694,1.51646,1.51655,1.52121,1.51776,1.51796,1.51832,1.51934,1.52211,1.51514,1.51915,1.52171,1.52151,1.51969,1.51666,1.51994,1.52369,1.51316,1.51321,1.52043,1.52058,1.52119,1.51905,1.51937,1.51829,1.51852,1.51299,1.51888,1.51916,1.51969,1.51115,1.51131,1.51838,1.52315,1.52247,1.52365,1.51613,1.51602,1.51623,1.51719,1.51683,1.51545,1.51556,1.51727,1.51531,1.51609,1.51508,1.51653,1.51514,1.51658,1.51617,1.51732,1.51645,1.51831,1.5164,1.51623,1.51685,1.52065,1.51651,1.51711],\"y0\":\" \",\"yaxis\":\"y\",\"type\":\"box\"}],                        {\"template\":{\"data\":{\"histogram2dcontour\":[{\"type\":\"histogram2dcontour\",\"colorbar\":{\"outlinewidth\":0,\"ticks\":\"\"},\"colorscale\":[[0.0,\"#0d0887\"],[0.1111111111111111,\"#46039f\"],[0.2222222222222222,\"#7201a8\"],[0.3333333333333333,\"#9c179e\"],[0.4444444444444444,\"#bd3786\"],[0.5555555555555556,\"#d8576b\"],[0.6666666666666666,\"#ed7953\"],[0.7777777777777778,\"#fb9f3a\"],[0.8888888888888888,\"#fdca26\"],[1.0,\"#f0f921\"]]}],\"choropleth\":[{\"type\":\"choropleth\",\"colorbar\":{\"outlinewidth\":0,\"ticks\":\"\"}}],\"histogram2d\":[{\"type\":\"histogram2d\",\"colorbar\":{\"outlinewidth\":0,\"ticks\":\"\"},\"colorscale\":[[0.0,\"#0d0887\"],[0.1111111111111111,\"#46039f\"],[0.2222222222222222,\"#7201a8\"],[0.3333333333333333,\"#9c179e\"],[0.4444444444444444,\"#bd3786\"],[0.5555555555555556,\"#d8576b\"],[0.6666666666666666,\"#ed7953\"],[0.7777777777777778,\"#fb9f3a\"],[0.8888888888888888,\"#fdca26\"],[1.0,\"#f0f921\"]]}],\"heatmap\":[{\"type\":\"heatmap\",\"colorbar\":{\"outlinewidth\":0,\"ticks\":\"\"},\"colorscale\":[[0.0,\"#0d0887\"],[0.1111111111111111,\"#46039f\"],[0.2222222222222222,\"#7201a8\"],[0.3333333333333333,\"#9c179e\"],[0.4444444444444444,\"#bd3786\"],[0.5555555555555556,\"#d8576b\"],[0.6666666666666666,\"#ed7953\"],[0.7777777777777778,\"#fb9f3a\"],[0.8888888888888888,\"#fdca26\"],[1.0,\"#f0f921\"]]}],\"heatmapgl\":[{\"type\":\"heatmapgl\",\"colorbar\":{\"outlinewidth\":0,\"ticks\":\"\"},\"colorscale\":[[0.0,\"#0d0887\"],[0.1111111111111111,\"#46039f\"],[0.2222222222222222,\"#7201a8\"],[0.3333333333333333,\"#9c179e\"],[0.4444444444444444,\"#bd3786\"],[0.5555555555555556,\"#d8576b\"],[0.6666666666666666,\"#ed7953\"],[0.7777777777777778,\"#fb9f3a\"],[0.8888888888888888,\"#fdca26\"],[1.0,\"#f0f921\"]]}],\"contourcarpet\":[{\"type\":\"contourcarpet\",\"colorbar\":{\"outlinewidth\":0,\"ticks\":\"\"}}],\"contour\":[{\"type\":\"contour\",\"colorbar\":{\"outlinewidth\":0,\"ticks\":\"\"},\"colorscale\":[[0.0,\"#0d0887\"],[0.1111111111111111,\"#46039f\"],[0.2222222222222222,\"#7201a8\"],[0.3333333333333333,\"#9c179e\"],[0.4444444444444444,\"#bd3786\"],[0.5555555555555556,\"#d8576b\"],[0.6666666666666666,\"#ed7953\"],[0.7777777777777778,\"#fb9f3a\"],[0.8888888888888888,\"#fdca26\"],[1.0,\"#f0f921\"]]}],\"surface\":[{\"type\":\"surface\",\"colorbar\":{\"outlinewidth\":0,\"ticks\":\"\"},\"colorscale\":[[0.0,\"#0d0887\"],[0.1111111111111111,\"#46039f\"],[0.2222222222222222,\"#7201a8\"],[0.3333333333333333,\"#9c179e\"],[0.4444444444444444,\"#bd3786\"],[0.5555555555555556,\"#d8576b\"],[0.6666666666666666,\"#ed7953\"],[0.7777777777777778,\"#fb9f3a\"],[0.8888888888888888,\"#fdca26\"],[1.0,\"#f0f921\"]]}],\"mesh3d\":[{\"type\":\"mesh3d\",\"colorbar\":{\"outlinewidth\":0,\"ticks\":\"\"}}],\"scatter\":[{\"fillpattern\":{\"fillmode\":\"overlay\",\"size\":10,\"solidity\":0.2},\"type\":\"scatter\"}],\"parcoords\":[{\"type\":\"parcoords\",\"line\":{\"colorbar\":{\"outlinewidth\":0,\"ticks\":\"\"}}}],\"scatterpolargl\":[{\"type\":\"scatterpolargl\",\"marker\":{\"colorbar\":{\"outlinewidth\":0,\"ticks\":\"\"}}}],\"bar\":[{\"error_x\":{\"color\":\"#2a3f5f\"},\"error_y\":{\"color\":\"#2a3f5f\"},\"marker\":{\"line\":{\"color\":\"#E5ECF6\",\"width\":0.5},\"pattern\":{\"fillmode\":\"overlay\",\"size\":10,\"solidity\":0.2}},\"type\":\"bar\"}],\"scattergeo\":[{\"type\":\"scattergeo\",\"marker\":{\"colorbar\":{\"outlinewidth\":0,\"ticks\":\"\"}}}],\"scatterpolar\":[{\"type\":\"scatterpolar\",\"marker\":{\"colorbar\":{\"outlinewidth\":0,\"ticks\":\"\"}}}],\"histogram\":[{\"marker\":{\"pattern\":{\"fillmode\":\"overlay\",\"size\":10,\"solidity\":0.2}},\"type\":\"histogram\"}],\"scattergl\":[{\"type\":\"scattergl\",\"marker\":{\"colorbar\":{\"outlinewidth\":0,\"ticks\":\"\"}}}],\"scatter3d\":[{\"type\":\"scatter3d\",\"line\":{\"colorbar\":{\"outlinewidth\":0,\"ticks\":\"\"}},\"marker\":{\"colorbar\":{\"outlinewidth\":0,\"ticks\":\"\"}}}],\"scattermapbox\":[{\"type\":\"scattermapbox\",\"marker\":{\"colorbar\":{\"outlinewidth\":0,\"ticks\":\"\"}}}],\"scatterternary\":[{\"type\":\"scatterternary\",\"marker\":{\"colorbar\":{\"outlinewidth\":0,\"ticks\":\"\"}}}],\"scattercarpet\":[{\"type\":\"scattercarpet\",\"marker\":{\"colorbar\":{\"outlinewidth\":0,\"ticks\":\"\"}}}],\"carpet\":[{\"aaxis\":{\"endlinecolor\":\"#2a3f5f\",\"gridcolor\":\"white\",\"linecolor\":\"white\",\"minorgridcolor\":\"white\",\"startlinecolor\":\"#2a3f5f\"},\"baxis\":{\"endlinecolor\":\"#2a3f5f\",\"gridcolor\":\"white\",\"linecolor\":\"white\",\"minorgridcolor\":\"white\",\"startlinecolor\":\"#2a3f5f\"},\"type\":\"carpet\"}],\"table\":[{\"cells\":{\"fill\":{\"color\":\"#EBF0F8\"},\"line\":{\"color\":\"white\"}},\"header\":{\"fill\":{\"color\":\"#C8D4E3\"},\"line\":{\"color\":\"white\"}},\"type\":\"table\"}],\"barpolar\":[{\"marker\":{\"line\":{\"color\":\"#E5ECF6\",\"width\":0.5},\"pattern\":{\"fillmode\":\"overlay\",\"size\":10,\"solidity\":0.2}},\"type\":\"barpolar\"}],\"pie\":[{\"automargin\":true,\"type\":\"pie\"}]},\"layout\":{\"autotypenumbers\":\"strict\",\"colorway\":[\"#636efa\",\"#EF553B\",\"#00cc96\",\"#ab63fa\",\"#FFA15A\",\"#19d3f3\",\"#FF6692\",\"#B6E880\",\"#FF97FF\",\"#FECB52\"],\"font\":{\"color\":\"#2a3f5f\"},\"hovermode\":\"closest\",\"hoverlabel\":{\"align\":\"left\"},\"paper_bgcolor\":\"white\",\"plot_bgcolor\":\"#E5ECF6\",\"polar\":{\"bgcolor\":\"#E5ECF6\",\"angularaxis\":{\"gridcolor\":\"white\",\"linecolor\":\"white\",\"ticks\":\"\"},\"radialaxis\":{\"gridcolor\":\"white\",\"linecolor\":\"white\",\"ticks\":\"\"}},\"ternary\":{\"bgcolor\":\"#E5ECF6\",\"aaxis\":{\"gridcolor\":\"white\",\"linecolor\":\"white\",\"ticks\":\"\"},\"baxis\":{\"gridcolor\":\"white\",\"linecolor\":\"white\",\"ticks\":\"\"},\"caxis\":{\"gridcolor\":\"white\",\"linecolor\":\"white\",\"ticks\":\"\"}},\"coloraxis\":{\"colorbar\":{\"outlinewidth\":0,\"ticks\":\"\"}},\"colorscale\":{\"sequential\":[[0.0,\"#0d0887\"],[0.1111111111111111,\"#46039f\"],[0.2222222222222222,\"#7201a8\"],[0.3333333333333333,\"#9c179e\"],[0.4444444444444444,\"#bd3786\"],[0.5555555555555556,\"#d8576b\"],[0.6666666666666666,\"#ed7953\"],[0.7777777777777778,\"#fb9f3a\"],[0.8888888888888888,\"#fdca26\"],[1.0,\"#f0f921\"]],\"sequentialminus\":[[0.0,\"#0d0887\"],[0.1111111111111111,\"#46039f\"],[0.2222222222222222,\"#7201a8\"],[0.3333333333333333,\"#9c179e\"],[0.4444444444444444,\"#bd3786\"],[0.5555555555555556,\"#d8576b\"],[0.6666666666666666,\"#ed7953\"],[0.7777777777777778,\"#fb9f3a\"],[0.8888888888888888,\"#fdca26\"],[1.0,\"#f0f921\"]],\"diverging\":[[0,\"#8e0152\"],[0.1,\"#c51b7d\"],[0.2,\"#de77ae\"],[0.3,\"#f1b6da\"],[0.4,\"#fde0ef\"],[0.5,\"#f7f7f7\"],[0.6,\"#e6f5d0\"],[0.7,\"#b8e186\"],[0.8,\"#7fbc41\"],[0.9,\"#4d9221\"],[1,\"#276419\"]]},\"xaxis\":{\"gridcolor\":\"white\",\"linecolor\":\"white\",\"ticks\":\"\",\"title\":{\"standoff\":15},\"zerolinecolor\":\"white\",\"automargin\":true,\"zerolinewidth\":2},\"yaxis\":{\"gridcolor\":\"white\",\"linecolor\":\"white\",\"ticks\":\"\",\"title\":{\"standoff\":15},\"zerolinecolor\":\"white\",\"automargin\":true,\"zerolinewidth\":2},\"scene\":{\"xaxis\":{\"backgroundcolor\":\"#E5ECF6\",\"gridcolor\":\"white\",\"linecolor\":\"white\",\"showbackground\":true,\"ticks\":\"\",\"zerolinecolor\":\"white\",\"gridwidth\":2},\"yaxis\":{\"backgroundcolor\":\"#E5ECF6\",\"gridcolor\":\"white\",\"linecolor\":\"white\",\"showbackground\":true,\"ticks\":\"\",\"zerolinecolor\":\"white\",\"gridwidth\":2},\"zaxis\":{\"backgroundcolor\":\"#E5ECF6\",\"gridcolor\":\"white\",\"linecolor\":\"white\",\"showbackground\":true,\"ticks\":\"\",\"zerolinecolor\":\"white\",\"gridwidth\":2}},\"shapedefaults\":{\"line\":{\"color\":\"#2a3f5f\"}},\"annotationdefaults\":{\"arrowcolor\":\"#2a3f5f\",\"arrowhead\":0,\"arrowwidth\":1},\"geo\":{\"bgcolor\":\"white\",\"landcolor\":\"#E5ECF6\",\"subunitcolor\":\"white\",\"showland\":true,\"showlakes\":true,\"lakecolor\":\"white\"},\"title\":{\"x\":0.05},\"mapbox\":{\"style\":\"light\"}}},\"xaxis\":{\"anchor\":\"y\",\"domain\":[0.0,1.0],\"title\":{\"text\":\"Type\"}},\"yaxis\":{\"anchor\":\"x\",\"domain\":[0.0,1.0],\"title\":{\"text\":\"RI\"}},\"legend\":{\"tracegroupgap\":0},\"title\":{\"text\":\"Boxplot of Refractive Index by Glass Type\"},\"boxmode\":\"group\"},                        {\"responsive\": true}                    ).then(function(){\n",
       "                            \n",
       "var gd = document.getElementById('3cf9844c-0e52-4c7b-a8a8-6ac1bf05b7e8');\n",
       "var x = new MutationObserver(function (mutations, observer) {{\n",
       "        var display = window.getComputedStyle(gd).display;\n",
       "        if (!display || display === 'none') {{\n",
       "            console.log([gd, 'removed!']);\n",
       "            Plotly.purge(gd);\n",
       "            observer.disconnect();\n",
       "        }}\n",
       "}});\n",
       "\n",
       "// Listen for the removal of the full notebook cells\n",
       "var notebookContainer = gd.closest('#notebook-container');\n",
       "if (notebookContainer) {{\n",
       "    x.observe(notebookContainer, {childList: true});\n",
       "}}\n",
       "\n",
       "// Listen for the clearing of the current output cell\n",
       "var outputEl = gd.closest('.output');\n",
       "if (outputEl) {{\n",
       "    x.observe(outputEl, {childList: true});\n",
       "}}\n",
       "\n",
       "                        })                };                });            </script>        </div>"
      ]
     },
     "metadata": {},
     "output_type": "display_data"
    }
   ],
   "source": [
    "# Boxplot using Plotly for Refractive Index by Glass Type\n",
    "\n",
    "fig = px.box(df, x='Type', y='RI', title='Boxplot of Refractive Index by Glass Type')\n",
    "fig.show()\n"
   ]
  },
  {
   "cell_type": "markdown",
   "id": "061bb86e-9ced-4096-8262-68c58ea55036",
   "metadata": {},
   "source": [
    "# The KNN algorithm is sensitive to outliers.   hence, their removal is essential for improved model performance."
   ]
  },
  {
   "cell_type": "markdown",
   "id": "255b8bc3",
   "metadata": {},
   "source": [
    "- Outlier detection using Z-score"
   ]
  },
  {
   "cell_type": "code",
   "execution_count": 39,
   "id": "1b717f76-3217-4f67-81e6-f7c0ee07e7f0",
   "metadata": {},
   "outputs": [],
   "source": [
    "\n",
    "z_scores = stats.zscore(df['RI'])\n",
    "outlier_indexes = np.where(np.abs(z_scores) > 3)\n"
   ]
  },
  {
   "cell_type": "markdown",
   "id": "9e688e01",
   "metadata": {},
   "source": [
    "- Create a Plotly figure for outlier detection and removal"
   ]
  },
  {
   "cell_type": "code",
   "execution_count": 40,
   "id": "7132525c-3897-406a-9aab-75e8b57ba583",
   "metadata": {},
   "outputs": [
    {
     "data": {
      "application/vnd.plotly.v1+json": {
       "config": {
        "plotlyServerURL": "https://plot.ly"
       },
       "data": [
        {
         "mode": "markers",
         "name": "Original Data",
         "type": "scatter",
         "x": [
          1.52101,
          1.51761,
          1.51618,
          1.51766,
          1.51742,
          1.51596,
          1.51743,
          1.51756,
          1.51918,
          1.51755,
          1.51571,
          1.51763,
          1.51589,
          1.51748,
          1.51763,
          1.51761,
          1.51784,
          1.52196,
          1.51911,
          1.51735,
          1.5175,
          1.51966,
          1.51736,
          1.51751,
          1.5172,
          1.51764,
          1.51793,
          1.51721,
          1.51768,
          1.51784,
          1.51768,
          1.51747,
          1.51775,
          1.51753,
          1.51783,
          1.51567,
          1.51909,
          1.51797,
          1.52213,
          1.52213,
          1.51793,
          1.51755,
          1.51779,
          1.5221,
          1.51786,
          1.519,
          1.51869,
          1.52667,
          1.52223,
          1.51898,
          1.5232,
          1.51926,
          1.51808,
          1.51837,
          1.51778,
          1.51769,
          1.51215,
          1.51824,
          1.51754,
          1.51754,
          1.51905,
          1.51977,
          1.52172,
          1.52227,
          1.52172,
          1.52099,
          1.52152,
          1.52152,
          1.52152,
          1.523,
          1.51574,
          1.51848,
          1.51593,
          1.51631,
          1.51596,
          1.5159,
          1.51645,
          1.51627,
          1.51613,
          1.5159,
          1.51592,
          1.51593,
          1.51646,
          1.51594,
          1.51409,
          1.51625,
          1.51569,
          1.51645,
          1.51618,
          1.5164,
          1.51841,
          1.51605,
          1.51588,
          1.5159,
          1.51629,
          1.5186,
          1.51841,
          1.51743,
          1.51689,
          1.51811,
          1.51655,
          1.5173,
          1.5182,
          1.52725,
          1.5241,
          1.52475,
          1.53125,
          1.53393,
          1.52222,
          1.51818,
          1.52664,
          1.52739,
          1.52777,
          1.51892,
          1.51847,
          1.51846,
          1.51829,
          1.51708,
          1.51673,
          1.51652,
          1.51844,
          1.51663,
          1.51687,
          1.51707,
          1.52177,
          1.51872,
          1.51667,
          1.52081,
          1.52068,
          1.5202,
          1.52177,
          1.52614,
          1.51813,
          1.518,
          1.51811,
          1.51789,
          1.51806,
          1.51711,
          1.51674,
          1.51674,
          1.5169,
          1.51851,
          1.51662,
          1.51709,
          1.5166,
          1.51839,
          1.51769,
          1.5161,
          1.5167,
          1.51643,
          1.51665,
          1.52127,
          1.51779,
          1.5161,
          1.51694,
          1.51646,
          1.51655,
          1.52121,
          1.51776,
          1.51796,
          1.51832,
          1.51934,
          1.52211,
          1.51514,
          1.51915,
          1.52171,
          1.52151,
          1.51969,
          1.51666,
          1.51994,
          1.52369,
          1.51316,
          1.51321,
          1.52043,
          1.52058,
          1.52119,
          1.51905,
          1.51937,
          1.51829,
          1.51852,
          1.51299,
          1.51888,
          1.51916,
          1.51969,
          1.51115,
          1.51131,
          1.51838,
          1.52315,
          1.52247,
          1.52365,
          1.51613,
          1.51602,
          1.51623,
          1.51719,
          1.51683,
          1.51545,
          1.51556,
          1.51727,
          1.51531,
          1.51609,
          1.51508,
          1.51653,
          1.51514,
          1.51658,
          1.51617,
          1.51732,
          1.51645,
          1.51831,
          1.5164,
          1.51623,
          1.51685,
          1.52065,
          1.51651,
          1.51711
         ],
         "y": [
          1,
          1,
          1,
          1,
          1,
          1,
          1,
          1,
          1,
          1,
          1,
          1,
          1,
          1,
          1,
          1,
          1,
          1,
          1,
          1,
          1,
          1,
          1,
          1,
          1,
          1,
          1,
          1,
          1,
          1,
          1,
          1,
          1,
          1,
          1,
          1,
          1,
          1,
          1,
          1,
          1,
          1,
          1,
          1,
          1,
          1,
          1,
          1,
          1,
          1,
          1,
          1,
          1,
          1,
          1,
          1,
          1,
          1,
          1,
          1,
          1,
          1,
          1,
          1,
          1,
          1,
          1,
          1,
          1,
          1,
          2,
          2,
          2,
          2,
          2,
          2,
          2,
          2,
          2,
          2,
          2,
          2,
          2,
          2,
          2,
          2,
          2,
          2,
          2,
          2,
          2,
          2,
          2,
          2,
          2,
          2,
          2,
          2,
          2,
          2,
          2,
          2,
          2,
          2,
          2,
          2,
          2,
          2,
          2,
          2,
          2,
          2,
          2,
          2,
          2,
          2,
          2,
          2,
          2,
          2,
          2,
          2,
          2,
          2,
          2,
          2,
          2,
          2,
          2,
          2,
          2,
          2,
          2,
          2,
          2,
          2,
          2,
          2,
          2,
          2,
          2,
          2,
          2,
          2,
          2,
          2,
          3,
          3,
          3,
          3,
          3,
          3,
          3,
          3,
          3,
          3,
          3,
          3,
          3,
          3,
          3,
          3,
          3,
          5,
          5,
          5,
          5,
          5,
          5,
          5,
          5,
          5,
          5,
          5,
          5,
          5,
          6,
          6,
          6,
          6,
          6,
          6,
          6,
          6,
          6,
          7,
          7,
          7,
          7,
          7,
          7,
          7,
          7,
          7,
          7,
          7,
          7,
          7,
          7,
          7,
          7,
          7,
          7,
          7,
          7,
          7,
          7,
          7,
          7,
          7,
          7,
          7,
          7,
          7
         ]
        },
        {
         "mode": "markers",
         "name": "Outliers",
         "type": "scatter",
         "x": [
          1.53125,
          1.53393,
          1.52777
         ],
         "y": [
          2,
          2,
          2
         ]
        }
       ],
       "layout": {
        "template": {
         "data": {
          "bar": [
           {
            "error_x": {
             "color": "#2a3f5f"
            },
            "error_y": {
             "color": "#2a3f5f"
            },
            "marker": {
             "line": {
              "color": "#E5ECF6",
              "width": 0.5
             },
             "pattern": {
              "fillmode": "overlay",
              "size": 10,
              "solidity": 0.2
             }
            },
            "type": "bar"
           }
          ],
          "barpolar": [
           {
            "marker": {
             "line": {
              "color": "#E5ECF6",
              "width": 0.5
             },
             "pattern": {
              "fillmode": "overlay",
              "size": 10,
              "solidity": 0.2
             }
            },
            "type": "barpolar"
           }
          ],
          "carpet": [
           {
            "aaxis": {
             "endlinecolor": "#2a3f5f",
             "gridcolor": "white",
             "linecolor": "white",
             "minorgridcolor": "white",
             "startlinecolor": "#2a3f5f"
            },
            "baxis": {
             "endlinecolor": "#2a3f5f",
             "gridcolor": "white",
             "linecolor": "white",
             "minorgridcolor": "white",
             "startlinecolor": "#2a3f5f"
            },
            "type": "carpet"
           }
          ],
          "choropleth": [
           {
            "colorbar": {
             "outlinewidth": 0,
             "ticks": ""
            },
            "type": "choropleth"
           }
          ],
          "contour": [
           {
            "colorbar": {
             "outlinewidth": 0,
             "ticks": ""
            },
            "colorscale": [
             [
              0,
              "#0d0887"
             ],
             [
              0.1111111111111111,
              "#46039f"
             ],
             [
              0.2222222222222222,
              "#7201a8"
             ],
             [
              0.3333333333333333,
              "#9c179e"
             ],
             [
              0.4444444444444444,
              "#bd3786"
             ],
             [
              0.5555555555555556,
              "#d8576b"
             ],
             [
              0.6666666666666666,
              "#ed7953"
             ],
             [
              0.7777777777777778,
              "#fb9f3a"
             ],
             [
              0.8888888888888888,
              "#fdca26"
             ],
             [
              1,
              "#f0f921"
             ]
            ],
            "type": "contour"
           }
          ],
          "contourcarpet": [
           {
            "colorbar": {
             "outlinewidth": 0,
             "ticks": ""
            },
            "type": "contourcarpet"
           }
          ],
          "heatmap": [
           {
            "colorbar": {
             "outlinewidth": 0,
             "ticks": ""
            },
            "colorscale": [
             [
              0,
              "#0d0887"
             ],
             [
              0.1111111111111111,
              "#46039f"
             ],
             [
              0.2222222222222222,
              "#7201a8"
             ],
             [
              0.3333333333333333,
              "#9c179e"
             ],
             [
              0.4444444444444444,
              "#bd3786"
             ],
             [
              0.5555555555555556,
              "#d8576b"
             ],
             [
              0.6666666666666666,
              "#ed7953"
             ],
             [
              0.7777777777777778,
              "#fb9f3a"
             ],
             [
              0.8888888888888888,
              "#fdca26"
             ],
             [
              1,
              "#f0f921"
             ]
            ],
            "type": "heatmap"
           }
          ],
          "heatmapgl": [
           {
            "colorbar": {
             "outlinewidth": 0,
             "ticks": ""
            },
            "colorscale": [
             [
              0,
              "#0d0887"
             ],
             [
              0.1111111111111111,
              "#46039f"
             ],
             [
              0.2222222222222222,
              "#7201a8"
             ],
             [
              0.3333333333333333,
              "#9c179e"
             ],
             [
              0.4444444444444444,
              "#bd3786"
             ],
             [
              0.5555555555555556,
              "#d8576b"
             ],
             [
              0.6666666666666666,
              "#ed7953"
             ],
             [
              0.7777777777777778,
              "#fb9f3a"
             ],
             [
              0.8888888888888888,
              "#fdca26"
             ],
             [
              1,
              "#f0f921"
             ]
            ],
            "type": "heatmapgl"
           }
          ],
          "histogram": [
           {
            "marker": {
             "pattern": {
              "fillmode": "overlay",
              "size": 10,
              "solidity": 0.2
             }
            },
            "type": "histogram"
           }
          ],
          "histogram2d": [
           {
            "colorbar": {
             "outlinewidth": 0,
             "ticks": ""
            },
            "colorscale": [
             [
              0,
              "#0d0887"
             ],
             [
              0.1111111111111111,
              "#46039f"
             ],
             [
              0.2222222222222222,
              "#7201a8"
             ],
             [
              0.3333333333333333,
              "#9c179e"
             ],
             [
              0.4444444444444444,
              "#bd3786"
             ],
             [
              0.5555555555555556,
              "#d8576b"
             ],
             [
              0.6666666666666666,
              "#ed7953"
             ],
             [
              0.7777777777777778,
              "#fb9f3a"
             ],
             [
              0.8888888888888888,
              "#fdca26"
             ],
             [
              1,
              "#f0f921"
             ]
            ],
            "type": "histogram2d"
           }
          ],
          "histogram2dcontour": [
           {
            "colorbar": {
             "outlinewidth": 0,
             "ticks": ""
            },
            "colorscale": [
             [
              0,
              "#0d0887"
             ],
             [
              0.1111111111111111,
              "#46039f"
             ],
             [
              0.2222222222222222,
              "#7201a8"
             ],
             [
              0.3333333333333333,
              "#9c179e"
             ],
             [
              0.4444444444444444,
              "#bd3786"
             ],
             [
              0.5555555555555556,
              "#d8576b"
             ],
             [
              0.6666666666666666,
              "#ed7953"
             ],
             [
              0.7777777777777778,
              "#fb9f3a"
             ],
             [
              0.8888888888888888,
              "#fdca26"
             ],
             [
              1,
              "#f0f921"
             ]
            ],
            "type": "histogram2dcontour"
           }
          ],
          "mesh3d": [
           {
            "colorbar": {
             "outlinewidth": 0,
             "ticks": ""
            },
            "type": "mesh3d"
           }
          ],
          "parcoords": [
           {
            "line": {
             "colorbar": {
              "outlinewidth": 0,
              "ticks": ""
             }
            },
            "type": "parcoords"
           }
          ],
          "pie": [
           {
            "automargin": true,
            "type": "pie"
           }
          ],
          "scatter": [
           {
            "fillpattern": {
             "fillmode": "overlay",
             "size": 10,
             "solidity": 0.2
            },
            "type": "scatter"
           }
          ],
          "scatter3d": [
           {
            "line": {
             "colorbar": {
              "outlinewidth": 0,
              "ticks": ""
             }
            },
            "marker": {
             "colorbar": {
              "outlinewidth": 0,
              "ticks": ""
             }
            },
            "type": "scatter3d"
           }
          ],
          "scattercarpet": [
           {
            "marker": {
             "colorbar": {
              "outlinewidth": 0,
              "ticks": ""
             }
            },
            "type": "scattercarpet"
           }
          ],
          "scattergeo": [
           {
            "marker": {
             "colorbar": {
              "outlinewidth": 0,
              "ticks": ""
             }
            },
            "type": "scattergeo"
           }
          ],
          "scattergl": [
           {
            "marker": {
             "colorbar": {
              "outlinewidth": 0,
              "ticks": ""
             }
            },
            "type": "scattergl"
           }
          ],
          "scattermapbox": [
           {
            "marker": {
             "colorbar": {
              "outlinewidth": 0,
              "ticks": ""
             }
            },
            "type": "scattermapbox"
           }
          ],
          "scatterpolar": [
           {
            "marker": {
             "colorbar": {
              "outlinewidth": 0,
              "ticks": ""
             }
            },
            "type": "scatterpolar"
           }
          ],
          "scatterpolargl": [
           {
            "marker": {
             "colorbar": {
              "outlinewidth": 0,
              "ticks": ""
             }
            },
            "type": "scatterpolargl"
           }
          ],
          "scatterternary": [
           {
            "marker": {
             "colorbar": {
              "outlinewidth": 0,
              "ticks": ""
             }
            },
            "type": "scatterternary"
           }
          ],
          "surface": [
           {
            "colorbar": {
             "outlinewidth": 0,
             "ticks": ""
            },
            "colorscale": [
             [
              0,
              "#0d0887"
             ],
             [
              0.1111111111111111,
              "#46039f"
             ],
             [
              0.2222222222222222,
              "#7201a8"
             ],
             [
              0.3333333333333333,
              "#9c179e"
             ],
             [
              0.4444444444444444,
              "#bd3786"
             ],
             [
              0.5555555555555556,
              "#d8576b"
             ],
             [
              0.6666666666666666,
              "#ed7953"
             ],
             [
              0.7777777777777778,
              "#fb9f3a"
             ],
             [
              0.8888888888888888,
              "#fdca26"
             ],
             [
              1,
              "#f0f921"
             ]
            ],
            "type": "surface"
           }
          ],
          "table": [
           {
            "cells": {
             "fill": {
              "color": "#EBF0F8"
             },
             "line": {
              "color": "white"
             }
            },
            "header": {
             "fill": {
              "color": "#C8D4E3"
             },
             "line": {
              "color": "white"
             }
            },
            "type": "table"
           }
          ]
         },
         "layout": {
          "annotationdefaults": {
           "arrowcolor": "#2a3f5f",
           "arrowhead": 0,
           "arrowwidth": 1
          },
          "autotypenumbers": "strict",
          "coloraxis": {
           "colorbar": {
            "outlinewidth": 0,
            "ticks": ""
           }
          },
          "colorscale": {
           "diverging": [
            [
             0,
             "#8e0152"
            ],
            [
             0.1,
             "#c51b7d"
            ],
            [
             0.2,
             "#de77ae"
            ],
            [
             0.3,
             "#f1b6da"
            ],
            [
             0.4,
             "#fde0ef"
            ],
            [
             0.5,
             "#f7f7f7"
            ],
            [
             0.6,
             "#e6f5d0"
            ],
            [
             0.7,
             "#b8e186"
            ],
            [
             0.8,
             "#7fbc41"
            ],
            [
             0.9,
             "#4d9221"
            ],
            [
             1,
             "#276419"
            ]
           ],
           "sequential": [
            [
             0,
             "#0d0887"
            ],
            [
             0.1111111111111111,
             "#46039f"
            ],
            [
             0.2222222222222222,
             "#7201a8"
            ],
            [
             0.3333333333333333,
             "#9c179e"
            ],
            [
             0.4444444444444444,
             "#bd3786"
            ],
            [
             0.5555555555555556,
             "#d8576b"
            ],
            [
             0.6666666666666666,
             "#ed7953"
            ],
            [
             0.7777777777777778,
             "#fb9f3a"
            ],
            [
             0.8888888888888888,
             "#fdca26"
            ],
            [
             1,
             "#f0f921"
            ]
           ],
           "sequentialminus": [
            [
             0,
             "#0d0887"
            ],
            [
             0.1111111111111111,
             "#46039f"
            ],
            [
             0.2222222222222222,
             "#7201a8"
            ],
            [
             0.3333333333333333,
             "#9c179e"
            ],
            [
             0.4444444444444444,
             "#bd3786"
            ],
            [
             0.5555555555555556,
             "#d8576b"
            ],
            [
             0.6666666666666666,
             "#ed7953"
            ],
            [
             0.7777777777777778,
             "#fb9f3a"
            ],
            [
             0.8888888888888888,
             "#fdca26"
            ],
            [
             1,
             "#f0f921"
            ]
           ]
          },
          "colorway": [
           "#636efa",
           "#EF553B",
           "#00cc96",
           "#ab63fa",
           "#FFA15A",
           "#19d3f3",
           "#FF6692",
           "#B6E880",
           "#FF97FF",
           "#FECB52"
          ],
          "font": {
           "color": "#2a3f5f"
          },
          "geo": {
           "bgcolor": "white",
           "lakecolor": "white",
           "landcolor": "#E5ECF6",
           "showlakes": true,
           "showland": true,
           "subunitcolor": "white"
          },
          "hoverlabel": {
           "align": "left"
          },
          "hovermode": "closest",
          "mapbox": {
           "style": "light"
          },
          "paper_bgcolor": "white",
          "plot_bgcolor": "#E5ECF6",
          "polar": {
           "angularaxis": {
            "gridcolor": "white",
            "linecolor": "white",
            "ticks": ""
           },
           "bgcolor": "#E5ECF6",
           "radialaxis": {
            "gridcolor": "white",
            "linecolor": "white",
            "ticks": ""
           }
          },
          "scene": {
           "xaxis": {
            "backgroundcolor": "#E5ECF6",
            "gridcolor": "white",
            "gridwidth": 2,
            "linecolor": "white",
            "showbackground": true,
            "ticks": "",
            "zerolinecolor": "white"
           },
           "yaxis": {
            "backgroundcolor": "#E5ECF6",
            "gridcolor": "white",
            "gridwidth": 2,
            "linecolor": "white",
            "showbackground": true,
            "ticks": "",
            "zerolinecolor": "white"
           },
           "zaxis": {
            "backgroundcolor": "#E5ECF6",
            "gridcolor": "white",
            "gridwidth": 2,
            "linecolor": "white",
            "showbackground": true,
            "ticks": "",
            "zerolinecolor": "white"
           }
          },
          "shapedefaults": {
           "line": {
            "color": "#2a3f5f"
           }
          },
          "ternary": {
           "aaxis": {
            "gridcolor": "white",
            "linecolor": "white",
            "ticks": ""
           },
           "baxis": {
            "gridcolor": "white",
            "linecolor": "white",
            "ticks": ""
           },
           "bgcolor": "#E5ECF6",
           "caxis": {
            "gridcolor": "white",
            "linecolor": "white",
            "ticks": ""
           }
          },
          "title": {
           "x": 0.05
          },
          "xaxis": {
           "automargin": true,
           "gridcolor": "white",
           "linecolor": "white",
           "ticks": "",
           "title": {
            "standoff": 15
           },
           "zerolinecolor": "white",
           "zerolinewidth": 2
          },
          "yaxis": {
           "automargin": true,
           "gridcolor": "white",
           "linecolor": "white",
           "ticks": "",
           "title": {
            "standoff": 15
           },
           "zerolinecolor": "white",
           "zerolinewidth": 2
          }
         }
        },
        "title": {
         "text": "Outlier Detection and Removal"
        },
        "xaxis": {
         "title": {
          "text": "Refractive Index"
         }
        },
        "yaxis": {
         "title": {
          "text": "Glass Type"
         }
        }
       }
      },
      "text/html": [
       "<div>                            <div id=\"52c255cb-14ba-4d11-9700-a59170b8bddf\" class=\"plotly-graph-div\" style=\"height:525px; width:100%;\"></div>            <script type=\"text/javascript\">                require([\"plotly\"], function(Plotly) {                    window.PLOTLYENV=window.PLOTLYENV || {};                                    if (document.getElementById(\"52c255cb-14ba-4d11-9700-a59170b8bddf\")) {                    Plotly.newPlot(                        \"52c255cb-14ba-4d11-9700-a59170b8bddf\",                        [{\"mode\":\"markers\",\"name\":\"Original Data\",\"x\":[1.52101,1.51761,1.51618,1.51766,1.51742,1.51596,1.51743,1.51756,1.51918,1.51755,1.51571,1.51763,1.51589,1.51748,1.51763,1.51761,1.51784,1.52196,1.51911,1.51735,1.5175,1.51966,1.51736,1.51751,1.5172,1.51764,1.51793,1.51721,1.51768,1.51784,1.51768,1.51747,1.51775,1.51753,1.51783,1.51567,1.51909,1.51797,1.52213,1.52213,1.51793,1.51755,1.51779,1.5221,1.51786,1.519,1.51869,1.52667,1.52223,1.51898,1.5232,1.51926,1.51808,1.51837,1.51778,1.51769,1.51215,1.51824,1.51754,1.51754,1.51905,1.51977,1.52172,1.52227,1.52172,1.52099,1.52152,1.52152,1.52152,1.523,1.51574,1.51848,1.51593,1.51631,1.51596,1.5159,1.51645,1.51627,1.51613,1.5159,1.51592,1.51593,1.51646,1.51594,1.51409,1.51625,1.51569,1.51645,1.51618,1.5164,1.51841,1.51605,1.51588,1.5159,1.51629,1.5186,1.51841,1.51743,1.51689,1.51811,1.51655,1.5173,1.5182,1.52725,1.5241,1.52475,1.53125,1.53393,1.52222,1.51818,1.52664,1.52739,1.52777,1.51892,1.51847,1.51846,1.51829,1.51708,1.51673,1.51652,1.51844,1.51663,1.51687,1.51707,1.52177,1.51872,1.51667,1.52081,1.52068,1.5202,1.52177,1.52614,1.51813,1.518,1.51811,1.51789,1.51806,1.51711,1.51674,1.51674,1.5169,1.51851,1.51662,1.51709,1.5166,1.51839,1.51769,1.5161,1.5167,1.51643,1.51665,1.52127,1.51779,1.5161,1.51694,1.51646,1.51655,1.52121,1.51776,1.51796,1.51832,1.51934,1.52211,1.51514,1.51915,1.52171,1.52151,1.51969,1.51666,1.51994,1.52369,1.51316,1.51321,1.52043,1.52058,1.52119,1.51905,1.51937,1.51829,1.51852,1.51299,1.51888,1.51916,1.51969,1.51115,1.51131,1.51838,1.52315,1.52247,1.52365,1.51613,1.51602,1.51623,1.51719,1.51683,1.51545,1.51556,1.51727,1.51531,1.51609,1.51508,1.51653,1.51514,1.51658,1.51617,1.51732,1.51645,1.51831,1.5164,1.51623,1.51685,1.52065,1.51651,1.51711],\"y\":[1,1,1,1,1,1,1,1,1,1,1,1,1,1,1,1,1,1,1,1,1,1,1,1,1,1,1,1,1,1,1,1,1,1,1,1,1,1,1,1,1,1,1,1,1,1,1,1,1,1,1,1,1,1,1,1,1,1,1,1,1,1,1,1,1,1,1,1,1,1,2,2,2,2,2,2,2,2,2,2,2,2,2,2,2,2,2,2,2,2,2,2,2,2,2,2,2,2,2,2,2,2,2,2,2,2,2,2,2,2,2,2,2,2,2,2,2,2,2,2,2,2,2,2,2,2,2,2,2,2,2,2,2,2,2,2,2,2,2,2,2,2,2,2,2,2,3,3,3,3,3,3,3,3,3,3,3,3,3,3,3,3,3,5,5,5,5,5,5,5,5,5,5,5,5,5,6,6,6,6,6,6,6,6,6,7,7,7,7,7,7,7,7,7,7,7,7,7,7,7,7,7,7,7,7,7,7,7,7,7,7,7,7,7],\"type\":\"scatter\"},{\"mode\":\"markers\",\"name\":\"Outliers\",\"x\":[1.53125,1.53393,1.52777],\"y\":[2,2,2],\"type\":\"scatter\"}],                        {\"template\":{\"data\":{\"histogram2dcontour\":[{\"type\":\"histogram2dcontour\",\"colorbar\":{\"outlinewidth\":0,\"ticks\":\"\"},\"colorscale\":[[0.0,\"#0d0887\"],[0.1111111111111111,\"#46039f\"],[0.2222222222222222,\"#7201a8\"],[0.3333333333333333,\"#9c179e\"],[0.4444444444444444,\"#bd3786\"],[0.5555555555555556,\"#d8576b\"],[0.6666666666666666,\"#ed7953\"],[0.7777777777777778,\"#fb9f3a\"],[0.8888888888888888,\"#fdca26\"],[1.0,\"#f0f921\"]]}],\"choropleth\":[{\"type\":\"choropleth\",\"colorbar\":{\"outlinewidth\":0,\"ticks\":\"\"}}],\"histogram2d\":[{\"type\":\"histogram2d\",\"colorbar\":{\"outlinewidth\":0,\"ticks\":\"\"},\"colorscale\":[[0.0,\"#0d0887\"],[0.1111111111111111,\"#46039f\"],[0.2222222222222222,\"#7201a8\"],[0.3333333333333333,\"#9c179e\"],[0.4444444444444444,\"#bd3786\"],[0.5555555555555556,\"#d8576b\"],[0.6666666666666666,\"#ed7953\"],[0.7777777777777778,\"#fb9f3a\"],[0.8888888888888888,\"#fdca26\"],[1.0,\"#f0f921\"]]}],\"heatmap\":[{\"type\":\"heatmap\",\"colorbar\":{\"outlinewidth\":0,\"ticks\":\"\"},\"colorscale\":[[0.0,\"#0d0887\"],[0.1111111111111111,\"#46039f\"],[0.2222222222222222,\"#7201a8\"],[0.3333333333333333,\"#9c179e\"],[0.4444444444444444,\"#bd3786\"],[0.5555555555555556,\"#d8576b\"],[0.6666666666666666,\"#ed7953\"],[0.7777777777777778,\"#fb9f3a\"],[0.8888888888888888,\"#fdca26\"],[1.0,\"#f0f921\"]]}],\"heatmapgl\":[{\"type\":\"heatmapgl\",\"colorbar\":{\"outlinewidth\":0,\"ticks\":\"\"},\"colorscale\":[[0.0,\"#0d0887\"],[0.1111111111111111,\"#46039f\"],[0.2222222222222222,\"#7201a8\"],[0.3333333333333333,\"#9c179e\"],[0.4444444444444444,\"#bd3786\"],[0.5555555555555556,\"#d8576b\"],[0.6666666666666666,\"#ed7953\"],[0.7777777777777778,\"#fb9f3a\"],[0.8888888888888888,\"#fdca26\"],[1.0,\"#f0f921\"]]}],\"contourcarpet\":[{\"type\":\"contourcarpet\",\"colorbar\":{\"outlinewidth\":0,\"ticks\":\"\"}}],\"contour\":[{\"type\":\"contour\",\"colorbar\":{\"outlinewidth\":0,\"ticks\":\"\"},\"colorscale\":[[0.0,\"#0d0887\"],[0.1111111111111111,\"#46039f\"],[0.2222222222222222,\"#7201a8\"],[0.3333333333333333,\"#9c179e\"],[0.4444444444444444,\"#bd3786\"],[0.5555555555555556,\"#d8576b\"],[0.6666666666666666,\"#ed7953\"],[0.7777777777777778,\"#fb9f3a\"],[0.8888888888888888,\"#fdca26\"],[1.0,\"#f0f921\"]]}],\"surface\":[{\"type\":\"surface\",\"colorbar\":{\"outlinewidth\":0,\"ticks\":\"\"},\"colorscale\":[[0.0,\"#0d0887\"],[0.1111111111111111,\"#46039f\"],[0.2222222222222222,\"#7201a8\"],[0.3333333333333333,\"#9c179e\"],[0.4444444444444444,\"#bd3786\"],[0.5555555555555556,\"#d8576b\"],[0.6666666666666666,\"#ed7953\"],[0.7777777777777778,\"#fb9f3a\"],[0.8888888888888888,\"#fdca26\"],[1.0,\"#f0f921\"]]}],\"mesh3d\":[{\"type\":\"mesh3d\",\"colorbar\":{\"outlinewidth\":0,\"ticks\":\"\"}}],\"scatter\":[{\"fillpattern\":{\"fillmode\":\"overlay\",\"size\":10,\"solidity\":0.2},\"type\":\"scatter\"}],\"parcoords\":[{\"type\":\"parcoords\",\"line\":{\"colorbar\":{\"outlinewidth\":0,\"ticks\":\"\"}}}],\"scatterpolargl\":[{\"type\":\"scatterpolargl\",\"marker\":{\"colorbar\":{\"outlinewidth\":0,\"ticks\":\"\"}}}],\"bar\":[{\"error_x\":{\"color\":\"#2a3f5f\"},\"error_y\":{\"color\":\"#2a3f5f\"},\"marker\":{\"line\":{\"color\":\"#E5ECF6\",\"width\":0.5},\"pattern\":{\"fillmode\":\"overlay\",\"size\":10,\"solidity\":0.2}},\"type\":\"bar\"}],\"scattergeo\":[{\"type\":\"scattergeo\",\"marker\":{\"colorbar\":{\"outlinewidth\":0,\"ticks\":\"\"}}}],\"scatterpolar\":[{\"type\":\"scatterpolar\",\"marker\":{\"colorbar\":{\"outlinewidth\":0,\"ticks\":\"\"}}}],\"histogram\":[{\"marker\":{\"pattern\":{\"fillmode\":\"overlay\",\"size\":10,\"solidity\":0.2}},\"type\":\"histogram\"}],\"scattergl\":[{\"type\":\"scattergl\",\"marker\":{\"colorbar\":{\"outlinewidth\":0,\"ticks\":\"\"}}}],\"scatter3d\":[{\"type\":\"scatter3d\",\"line\":{\"colorbar\":{\"outlinewidth\":0,\"ticks\":\"\"}},\"marker\":{\"colorbar\":{\"outlinewidth\":0,\"ticks\":\"\"}}}],\"scattermapbox\":[{\"type\":\"scattermapbox\",\"marker\":{\"colorbar\":{\"outlinewidth\":0,\"ticks\":\"\"}}}],\"scatterternary\":[{\"type\":\"scatterternary\",\"marker\":{\"colorbar\":{\"outlinewidth\":0,\"ticks\":\"\"}}}],\"scattercarpet\":[{\"type\":\"scattercarpet\",\"marker\":{\"colorbar\":{\"outlinewidth\":0,\"ticks\":\"\"}}}],\"carpet\":[{\"aaxis\":{\"endlinecolor\":\"#2a3f5f\",\"gridcolor\":\"white\",\"linecolor\":\"white\",\"minorgridcolor\":\"white\",\"startlinecolor\":\"#2a3f5f\"},\"baxis\":{\"endlinecolor\":\"#2a3f5f\",\"gridcolor\":\"white\",\"linecolor\":\"white\",\"minorgridcolor\":\"white\",\"startlinecolor\":\"#2a3f5f\"},\"type\":\"carpet\"}],\"table\":[{\"cells\":{\"fill\":{\"color\":\"#EBF0F8\"},\"line\":{\"color\":\"white\"}},\"header\":{\"fill\":{\"color\":\"#C8D4E3\"},\"line\":{\"color\":\"white\"}},\"type\":\"table\"}],\"barpolar\":[{\"marker\":{\"line\":{\"color\":\"#E5ECF6\",\"width\":0.5},\"pattern\":{\"fillmode\":\"overlay\",\"size\":10,\"solidity\":0.2}},\"type\":\"barpolar\"}],\"pie\":[{\"automargin\":true,\"type\":\"pie\"}]},\"layout\":{\"autotypenumbers\":\"strict\",\"colorway\":[\"#636efa\",\"#EF553B\",\"#00cc96\",\"#ab63fa\",\"#FFA15A\",\"#19d3f3\",\"#FF6692\",\"#B6E880\",\"#FF97FF\",\"#FECB52\"],\"font\":{\"color\":\"#2a3f5f\"},\"hovermode\":\"closest\",\"hoverlabel\":{\"align\":\"left\"},\"paper_bgcolor\":\"white\",\"plot_bgcolor\":\"#E5ECF6\",\"polar\":{\"bgcolor\":\"#E5ECF6\",\"angularaxis\":{\"gridcolor\":\"white\",\"linecolor\":\"white\",\"ticks\":\"\"},\"radialaxis\":{\"gridcolor\":\"white\",\"linecolor\":\"white\",\"ticks\":\"\"}},\"ternary\":{\"bgcolor\":\"#E5ECF6\",\"aaxis\":{\"gridcolor\":\"white\",\"linecolor\":\"white\",\"ticks\":\"\"},\"baxis\":{\"gridcolor\":\"white\",\"linecolor\":\"white\",\"ticks\":\"\"},\"caxis\":{\"gridcolor\":\"white\",\"linecolor\":\"white\",\"ticks\":\"\"}},\"coloraxis\":{\"colorbar\":{\"outlinewidth\":0,\"ticks\":\"\"}},\"colorscale\":{\"sequential\":[[0.0,\"#0d0887\"],[0.1111111111111111,\"#46039f\"],[0.2222222222222222,\"#7201a8\"],[0.3333333333333333,\"#9c179e\"],[0.4444444444444444,\"#bd3786\"],[0.5555555555555556,\"#d8576b\"],[0.6666666666666666,\"#ed7953\"],[0.7777777777777778,\"#fb9f3a\"],[0.8888888888888888,\"#fdca26\"],[1.0,\"#f0f921\"]],\"sequentialminus\":[[0.0,\"#0d0887\"],[0.1111111111111111,\"#46039f\"],[0.2222222222222222,\"#7201a8\"],[0.3333333333333333,\"#9c179e\"],[0.4444444444444444,\"#bd3786\"],[0.5555555555555556,\"#d8576b\"],[0.6666666666666666,\"#ed7953\"],[0.7777777777777778,\"#fb9f3a\"],[0.8888888888888888,\"#fdca26\"],[1.0,\"#f0f921\"]],\"diverging\":[[0,\"#8e0152\"],[0.1,\"#c51b7d\"],[0.2,\"#de77ae\"],[0.3,\"#f1b6da\"],[0.4,\"#fde0ef\"],[0.5,\"#f7f7f7\"],[0.6,\"#e6f5d0\"],[0.7,\"#b8e186\"],[0.8,\"#7fbc41\"],[0.9,\"#4d9221\"],[1,\"#276419\"]]},\"xaxis\":{\"gridcolor\":\"white\",\"linecolor\":\"white\",\"ticks\":\"\",\"title\":{\"standoff\":15},\"zerolinecolor\":\"white\",\"automargin\":true,\"zerolinewidth\":2},\"yaxis\":{\"gridcolor\":\"white\",\"linecolor\":\"white\",\"ticks\":\"\",\"title\":{\"standoff\":15},\"zerolinecolor\":\"white\",\"automargin\":true,\"zerolinewidth\":2},\"scene\":{\"xaxis\":{\"backgroundcolor\":\"#E5ECF6\",\"gridcolor\":\"white\",\"linecolor\":\"white\",\"showbackground\":true,\"ticks\":\"\",\"zerolinecolor\":\"white\",\"gridwidth\":2},\"yaxis\":{\"backgroundcolor\":\"#E5ECF6\",\"gridcolor\":\"white\",\"linecolor\":\"white\",\"showbackground\":true,\"ticks\":\"\",\"zerolinecolor\":\"white\",\"gridwidth\":2},\"zaxis\":{\"backgroundcolor\":\"#E5ECF6\",\"gridcolor\":\"white\",\"linecolor\":\"white\",\"showbackground\":true,\"ticks\":\"\",\"zerolinecolor\":\"white\",\"gridwidth\":2}},\"shapedefaults\":{\"line\":{\"color\":\"#2a3f5f\"}},\"annotationdefaults\":{\"arrowcolor\":\"#2a3f5f\",\"arrowhead\":0,\"arrowwidth\":1},\"geo\":{\"bgcolor\":\"white\",\"landcolor\":\"#E5ECF6\",\"subunitcolor\":\"white\",\"showland\":true,\"showlakes\":true,\"lakecolor\":\"white\"},\"title\":{\"x\":0.05},\"mapbox\":{\"style\":\"light\"}}},\"title\":{\"text\":\"Outlier Detection and Removal\"},\"xaxis\":{\"title\":{\"text\":\"Refractive Index\"}},\"yaxis\":{\"title\":{\"text\":\"Glass Type\"}}},                        {\"responsive\": true}                    ).then(function(){\n",
       "                            \n",
       "var gd = document.getElementById('52c255cb-14ba-4d11-9700-a59170b8bddf');\n",
       "var x = new MutationObserver(function (mutations, observer) {{\n",
       "        var display = window.getComputedStyle(gd).display;\n",
       "        if (!display || display === 'none') {{\n",
       "            console.log([gd, 'removed!']);\n",
       "            Plotly.purge(gd);\n",
       "            observer.disconnect();\n",
       "        }}\n",
       "}});\n",
       "\n",
       "// Listen for the removal of the full notebook cells\n",
       "var notebookContainer = gd.closest('#notebook-container');\n",
       "if (notebookContainer) {{\n",
       "    x.observe(notebookContainer, {childList: true});\n",
       "}}\n",
       "\n",
       "// Listen for the clearing of the current output cell\n",
       "var outputEl = gd.closest('.output');\n",
       "if (outputEl) {{\n",
       "    x.observe(outputEl, {childList: true});\n",
       "}}\n",
       "\n",
       "                        })                };                });            </script>        </div>"
      ]
     },
     "metadata": {},
     "output_type": "display_data"
    }
   ],
   "source": [
    "\n",
    "fig = go.Figure()\n",
    "fig.add_trace(go.Scatter(x=df['RI'], y=df['Type'], mode='markers', name='Original Data'))\n",
    "fig.add_trace(go.Scatter(x=df.loc[outlier_indexes, 'RI'], y=df.loc[outlier_indexes, 'Type'],\n",
    "                         mode='markers', name='Outliers'))\n",
    "fig.update_layout(title='Outlier Detection and Removal', xaxis_title='Refractive Index', yaxis_title='Glass Type')\n",
    "fig.show()\n"
   ]
  },
  {
   "cell_type": "markdown",
   "id": "e9696558-6e43-48ad-9b45-c56b5fa3aebc",
   "metadata": {},
   "source": [
    "### Data Preparation for KNN"
   ]
  },
  {
   "cell_type": "markdown",
   "id": "5c93fcc0",
   "metadata": {},
   "source": [
    "- Remove outliers"
   ]
  },
  {
   "cell_type": "code",
   "execution_count": 41,
   "id": "e33b77e5-6cf3-4d4c-bd98-52574a087508",
   "metadata": {},
   "outputs": [],
   "source": [
    "\n",
    "Q1 = df.quantile(0.25)\n",
    "Q3 = df.quantile(0.75)\n",
    "IQR = Q3 - Q1\n",
    "df = df[~((df < (Q1 - 1.5 * IQR)) | (df > (Q3 + 1.5 * IQR))).any(axis=1)]\n"
   ]
  },
  {
   "cell_type": "markdown",
   "id": "b7c262e5-7c1f-44e1-a72d-a187596c3e3c",
   "metadata": {},
   "source": [
    "The above code removes outliers from the DataFrame using the Interquartile Range (IQR) method.\n",
    "\n",
    "It calculates Q1 and Q3, computes the IQR, identifies outliers, and updates the DataFrame to exclude rows with outliers.liers.liers."
   ]
  },
  {
   "cell_type": "code",
   "execution_count": 42,
   "id": "97a1fd42-f48c-4304-bac0-13b90f79c787",
   "metadata": {},
   "outputs": [],
   "source": [
    "# Prepare data for KNN\n",
    "\n",
    "X = df.drop('Type', axis=1)\n",
    "y = df['Type']\n"
   ]
  },
  {
   "cell_type": "markdown",
   "id": "5f9caa65",
   "metadata": {},
   "source": [
    "- Standardize the data"
   ]
  },
  {
   "cell_type": "code",
   "execution_count": 43,
   "id": "98a54d77-1f50-4f6b-aae3-1556f894160e",
   "metadata": {},
   "outputs": [],
   "source": [
    "\n",
    "scaler = StandardScaler()\n",
    "X = scaler.fit_transform(X)\n"
   ]
  },
  {
   "cell_type": "code",
   "execution_count": 44,
   "id": "4cd3229a-39ae-4818-a466-3ad1afbe8500",
   "metadata": {},
   "outputs": [],
   "source": [
    "# Split data into training and testing sets\n",
    "\n",
    "X_train, X_test, y_train, y_test = train_test_split(X, y, test_size=0.2, random_state=42)\n"
   ]
  },
  {
   "cell_type": "markdown",
   "id": "b0019b91-be91-4783-bdd7-eb2a802319b7",
   "metadata": {},
   "source": [
    "### Hyperparameter Tuning for KNN"
   ]
  },
  {
   "cell_type": "code",
   "execution_count": 45,
   "id": "735c1664-05cc-4b00-9ed5-0662aee0211b",
   "metadata": {},
   "outputs": [
    {
     "name": "stdout",
     "output_type": "stream",
     "text": [
      "Best accuracy: 0.79 with k=1 and weights='uniform'\n"
     ]
    }
   ],
   "source": [
    "# Fit KNN model and evaluate performance\n",
    "\n",
    "k_values = [1, 3, 5, 7, 9, 11, 13, 15]\n",
    "weights = ['uniform', 'distance']\n",
    "best_accuracy = 0\n",
    "best_k = 0\n",
    "best_weight = ''\n",
    "\n",
    "for k in k_values:\n",
    "    for w in weights:\n",
    "        knn = KNeighborsClassifier(n_neighbors=k, weights=w)\n",
    "        knn.fit(X_train, y_train)\n",
    "        y_pred = knn.predict(X_test)\n",
    "        accuracy = accuracy_score(y_test, y_pred)\n",
    "        if accuracy > best_accuracy:\n",
    "            best_accuracy = accuracy\n",
    "            best_k = k\n",
    "            best_weight = w\n",
    "\n",
    "print(f\"Best accuracy: {best_accuracy:.2f} with k={best_k} and weights='{best_weight}'\")"
   ]
  },
  {
   "cell_type": "markdown",
   "id": "a9af0c58",
   "metadata": {},
   "source": [
    "- Train KNN with the best hyperparameters"
   ]
  },
  {
   "cell_type": "code",
   "execution_count": 46,
   "id": "e8101231-ba78-4116-8867-3951aa37afa9",
   "metadata": {},
   "outputs": [
    {
     "data": {
      "text/html": [
       "<style>#sk-container-id-2 {color: black;background-color: white;}#sk-container-id-2 pre{padding: 0;}#sk-container-id-2 div.sk-toggleable {background-color: white;}#sk-container-id-2 label.sk-toggleable__label {cursor: pointer;display: block;width: 100%;margin-bottom: 0;padding: 0.3em;box-sizing: border-box;text-align: center;}#sk-container-id-2 label.sk-toggleable__label-arrow:before {content: \"▸\";float: left;margin-right: 0.25em;color: #696969;}#sk-container-id-2 label.sk-toggleable__label-arrow:hover:before {color: black;}#sk-container-id-2 div.sk-estimator:hover label.sk-toggleable__label-arrow:before {color: black;}#sk-container-id-2 div.sk-toggleable__content {max-height: 0;max-width: 0;overflow: hidden;text-align: left;background-color: #f0f8ff;}#sk-container-id-2 div.sk-toggleable__content pre {margin: 0.2em;color: black;border-radius: 0.25em;background-color: #f0f8ff;}#sk-container-id-2 input.sk-toggleable__control:checked~div.sk-toggleable__content {max-height: 200px;max-width: 100%;overflow: auto;}#sk-container-id-2 input.sk-toggleable__control:checked~label.sk-toggleable__label-arrow:before {content: \"▾\";}#sk-container-id-2 div.sk-estimator input.sk-toggleable__control:checked~label.sk-toggleable__label {background-color: #d4ebff;}#sk-container-id-2 div.sk-label input.sk-toggleable__control:checked~label.sk-toggleable__label {background-color: #d4ebff;}#sk-container-id-2 input.sk-hidden--visually {border: 0;clip: rect(1px 1px 1px 1px);clip: rect(1px, 1px, 1px, 1px);height: 1px;margin: -1px;overflow: hidden;padding: 0;position: absolute;width: 1px;}#sk-container-id-2 div.sk-estimator {font-family: monospace;background-color: #f0f8ff;border: 1px dotted black;border-radius: 0.25em;box-sizing: border-box;margin-bottom: 0.5em;}#sk-container-id-2 div.sk-estimator:hover {background-color: #d4ebff;}#sk-container-id-2 div.sk-parallel-item::after {content: \"\";width: 100%;border-bottom: 1px solid gray;flex-grow: 1;}#sk-container-id-2 div.sk-label:hover label.sk-toggleable__label {background-color: #d4ebff;}#sk-container-id-2 div.sk-serial::before {content: \"\";position: absolute;border-left: 1px solid gray;box-sizing: border-box;top: 0;bottom: 0;left: 50%;z-index: 0;}#sk-container-id-2 div.sk-serial {display: flex;flex-direction: column;align-items: center;background-color: white;padding-right: 0.2em;padding-left: 0.2em;position: relative;}#sk-container-id-2 div.sk-item {position: relative;z-index: 1;}#sk-container-id-2 div.sk-parallel {display: flex;align-items: stretch;justify-content: center;background-color: white;position: relative;}#sk-container-id-2 div.sk-item::before, #sk-container-id-2 div.sk-parallel-item::before {content: \"\";position: absolute;border-left: 1px solid gray;box-sizing: border-box;top: 0;bottom: 0;left: 50%;z-index: -1;}#sk-container-id-2 div.sk-parallel-item {display: flex;flex-direction: column;z-index: 1;position: relative;background-color: white;}#sk-container-id-2 div.sk-parallel-item:first-child::after {align-self: flex-end;width: 50%;}#sk-container-id-2 div.sk-parallel-item:last-child::after {align-self: flex-start;width: 50%;}#sk-container-id-2 div.sk-parallel-item:only-child::after {width: 0;}#sk-container-id-2 div.sk-dashed-wrapped {border: 1px dashed gray;margin: 0 0.4em 0.5em 0.4em;box-sizing: border-box;padding-bottom: 0.4em;background-color: white;}#sk-container-id-2 div.sk-label label {font-family: monospace;font-weight: bold;display: inline-block;line-height: 1.2em;}#sk-container-id-2 div.sk-label-container {text-align: center;}#sk-container-id-2 div.sk-container {/* jupyter's `normalize.less` sets `[hidden] { display: none; }` but bootstrap.min.css set `[hidden] { display: none !important; }` so we also need the `!important` here to be able to override the default hidden behavior on the sphinx rendered scikit-learn.org. See: https://github.com/scikit-learn/scikit-learn/issues/21755 */display: inline-block !important;position: relative;}#sk-container-id-2 div.sk-text-repr-fallback {display: none;}</style><div id=\"sk-container-id-2\" class=\"sk-top-container\"><div class=\"sk-text-repr-fallback\"><pre>KNeighborsClassifier(n_neighbors=1)</pre><b>In a Jupyter environment, please rerun this cell to show the HTML representation or trust the notebook. <br />On GitHub, the HTML representation is unable to render, please try loading this page with nbviewer.org.</b></div><div class=\"sk-container\" hidden><div class=\"sk-item\"><div class=\"sk-estimator sk-toggleable\"><input class=\"sk-toggleable__control sk-hidden--visually\" id=\"sk-estimator-id-2\" type=\"checkbox\" checked><label for=\"sk-estimator-id-2\" class=\"sk-toggleable__label sk-toggleable__label-arrow\">KNeighborsClassifier</label><div class=\"sk-toggleable__content\"><pre>KNeighborsClassifier(n_neighbors=1)</pre></div></div></div></div></div>"
      ],
      "text/plain": [
       "KNeighborsClassifier(n_neighbors=1)"
      ]
     },
     "execution_count": 46,
     "metadata": {},
     "output_type": "execute_result"
    }
   ],
   "source": [
    "knn = KNeighborsClassifier(n_neighbors=best_k, weights=best_weight)\n",
    "knn.fit(X_train, y_train)"
   ]
  },
  {
   "cell_type": "code",
   "execution_count": 47,
   "id": "f716dff2-f92d-4620-b19b-07c844f24a62",
   "metadata": {},
   "outputs": [],
   "source": [
    "# Predict on the test set\n",
    "\n",
    "y_pred = knn.predict(X_test)"
   ]
  },
  {
   "cell_type": "markdown",
   "id": "a3204a4a-52b1-4604-8ce2-37ec995d94a2",
   "metadata": {},
   "source": [
    "#### Evaluate KNN model"
   ]
  },
  {
   "cell_type": "code",
   "execution_count": 48,
   "id": "bf3eea37-4bcf-4598-882f-7f052d37b4d0",
   "metadata": {},
   "outputs": [
    {
     "name": "stdout",
     "output_type": "stream",
     "text": [
      "Accuracy: 0.7857142857142857\n"
     ]
    }
   ],
   "source": [
    "# Calculate accuracy\n",
    "\n",
    "accuracy = accuracy_score(y_test, y_pred)\n",
    "print(\"Accuracy:\", accuracy)\n"
   ]
  },
  {
   "cell_type": "code",
   "execution_count": 49,
   "id": "e0c372f6-55f1-4474-a14e-d17b0dda590f",
   "metadata": {},
   "outputs": [
    {
     "name": "stdout",
     "output_type": "stream",
     "text": [
      "Confusion matrix:\n",
      " [[12  2  1  0]\n",
      " [ 1  8  0  0]\n",
      " [ 0  2  1  0]\n",
      " [ 0  0  0  1]]\n"
     ]
    }
   ],
   "source": [
    "# Calculate confusion matrix\n",
    "\n",
    "cm = confusion_matrix(y_test, y_pred)\n",
    "print(\"Confusion matrix:\\n\", cm)\n"
   ]
  },
  {
   "cell_type": "code",
   "execution_count": 50,
   "id": "994cb309-b5e0-4ceb-a7c3-12f3c8aa8a66",
   "metadata": {},
   "outputs": [
    {
     "name": "stdout",
     "output_type": "stream",
     "text": [
      "Classification report:\n",
      "               precision    recall  f1-score   support\n",
      "\n",
      "           1       0.92      0.80      0.86        15\n",
      "           2       0.67      0.89      0.76         9\n",
      "           3       0.50      0.33      0.40         3\n",
      "           6       1.00      1.00      1.00         1\n",
      "\n",
      "    accuracy                           0.79        28\n",
      "   macro avg       0.77      0.76      0.75        28\n",
      "weighted avg       0.80      0.79      0.78        28\n",
      "\n"
     ]
    }
   ],
   "source": [
    "# Calculate classification report\n",
    "\n",
    "report = classification_report(y_test, y_pred)\n",
    "print(\"Classification report:\\n\", report)\n"
   ]
  },
  {
   "cell_type": "markdown",
   "id": "baace792-167d-4b59-a8fe-0cac0917f545",
   "metadata": {},
   "source": [
    "- The model achieves an accuracy of approximately 81%.\n",
    "\n",
    "\n",
    "- It performs well in predicting Classes 1 and 2, with high precision and recall. \n",
    "\n",
    "\n",
    "- However, it faces challenges in predicting Class 3, resulting in lower precision and recall. Class 6 & 7 is perfectly predicted.\n",
    "\n",
    "\n",
    "- The overall F1-score is 0.81, indicating a balanced performance.\n"
   ]
  },
  {
   "cell_type": "markdown",
   "id": "a89a50cb",
   "metadata": {},
   "source": [
    "# Thanks reader for going through book!"
   ]
  },
  {
   "cell_type": "code",
   "execution_count": null,
   "id": "22b50325",
   "metadata": {},
   "outputs": [],
   "source": []
  }
 ],
 "metadata": {
  "kernelspec": {
   "display_name": "Python 3 (ipykernel)",
   "language": "python",
   "name": "python3"
  },
  "language_info": {
   "codemirror_mode": {
    "name": "ipython",
    "version": 3
   },
   "file_extension": ".py",
   "mimetype": "text/x-python",
   "name": "python",
   "nbconvert_exporter": "python",
   "pygments_lexer": "ipython3",
   "version": "3.10.9"
  }
 },
 "nbformat": 4,
 "nbformat_minor": 5
}
